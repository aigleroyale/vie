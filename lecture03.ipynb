{
 "cells": [
  {
   "cell_type": "markdown",
   "id": "c825367f-dec2-482b-9a22-3f4957ff6614",
   "metadata": {},
   "source": [
    "# **Projet : Manipulationn de Base de données NoSQL**\n",
    "\n",
    "### Table des Matières\n",
    "\n",
    "- [Introduction](#Intro)\n",
    "- [MongoDB](#mongo)\n",
    "- [Conclusion](#Concl)"
   ]
  },
  {
   "cell_type": "markdown",
   "id": "00f30ad8-ec89-46f3-bd26-7faecc2f3b93",
   "metadata": {},
   "source": [
    "<a name=\"Intro\"></a>\n",
    "## **Introduction**\n",
    "\n",
    "Du fait du contexte **Big Data**, les bases de données **NoSQL** peuvent enregistrer et traiter sans problème de gros volumes de données. \n",
    "\n",
    "**NoSQL** est aussi un complément utile des bases de données **SQL** relationnelles traditionnelles. \n",
    "\n",
    "![imag](images/DB_piechart.png)"
   ]
  },
  {
   "cell_type": "markdown",
   "id": "01e32d58-4034-478e-9baa-8f78e4322cc4",
   "metadata": {},
   "source": [
    "Il existe plusieurs types de bases de données **NoSQL**. \n",
    "\n",
    "Les plus populaires sont présentés ci-dessous :\n",
    "\n",
    "- Orienté **clés-valeurs** #1 [Redis](https://redis.io/)\n",
    "- Orienté **documents** #1 [MongoDB](https://www.mongodb.com/)\n",
    "- Orienté **larges colonnes** #1 [Cassandra](https://cassandra.apache.org/_/index.html)\n",
    "- Orienté **graphes** #1 [Neo4j](https://neo4j.com/fr/)\n",
    "\n",
    "Pour plus d'infos sur **NoSQL**, [DSE FMP CU](https://www.ksi.mff.cuni.cz/~svoboda/courses/2016-2-MIE-PDB/lectures/Lecture-06-NoSQL.pdf) et [db-engines](https://db-engines.com/en/ranking)\n",
    " "
   ]
  },
  {
   "cell_type": "markdown",
   "id": "6dafd132-a228-4830-85a3-8916c4c774e1",
   "metadata": {},
   "source": [
    "<a name=\"mongo\"></a>\n",
    "## **MongoDB**\n",
    "\n",
    "MongoDB est une base de données orientée documents, connues sous le nom de données semi-structurées..\n",
    "\n",
    "\n",
    "![imag](images/mongo.jpg)\n"
   ]
  },
  {
   "cell_type": "markdown",
   "id": "ae7bbcda-c9fe-4dcf-b8b3-54668243dae1",
   "metadata": {},
   "source": [
    "### Les opérations CRUD\n",
    "\n",
    "#### CREATE"
   ]
  },
  {
   "cell_type": "code",
   "execution_count": 12,
   "id": "bd2cd740-adb1-4bed-89c7-a82150f982e7",
   "metadata": {},
   "outputs": [],
   "source": [
    "# Importation de la libraires\n",
    "import pymongo\n",
    "\n",
    "# La connexion est ouverte au port 27017\n",
    "client = pymongo.MongoClient('localhost', 27017)\n",
    "\n",
    "# creation de la base de données \"projet\"\n",
    "mydb = client[\"projet\"]\n",
    "\n",
    "# création d'une collection\n",
    "collection = mydb[\"example1\"]"
   ]
  },
  {
   "cell_type": "code",
   "execution_count": 13,
   "id": "786b511c-a6ab-42ce-8026-ce1b98f16371",
   "metadata": {},
   "outputs": [
    {
     "data": {
      "text/plain": [
       "<pymongo.results.InsertOneResult at 0x1c1623dcf70>"
      ]
     },
     "execution_count": 13,
     "metadata": {},
     "output_type": "execute_result"
    }
   ],
   "source": [
    "# Insertion de données dans mongoDB\n",
    "\n",
    "exemple = {  \"nom\" : \"MONDJEHI\",\n",
    "             \"prenom\" : \"ROLAND\",\n",
    "             \"age\" : 25,\n",
    "             \"email\" : \"mondrolan@gmail.com\"}\n",
    "\n",
    "collection.insert_one(exemple)"
   ]
  },
  {
   "cell_type": "code",
   "execution_count": 14,
   "id": "d159075f-805f-4fa7-8732-5321a48074f9",
   "metadata": {},
   "outputs": [
    {
     "data": {
      "text/plain": [
       "<pymongo.results.InsertManyResult at 0x1c16228d280>"
      ]
     },
     "execution_count": 14,
     "metadata": {},
     "output_type": "execute_result"
    }
   ],
   "source": [
    "# Inserer plusieurs données\n",
    "\n",
    "exemples = [{  \"nom\" : \"MONDJEHI\",\n",
    "             \"prenom\" : \"Jean Marie\",\n",
    "             \"age\" : 30,\n",
    "             \"email\" : \"mondjehijeanmarie@gmail.com\"},\n",
    "            \n",
    "              {  \"nom\" : \"MONDJEHI\",\n",
    "             \"prenom\" : \"Wilfred\",\n",
    "             \"age\" : 26,\n",
    "             \"email\" : \"mondjehiwilfred@gmail.com\"}]\n",
    "\n",
    "collection.insert_many(exemples)"
   ]
  },
  {
   "cell_type": "markdown",
   "id": "a9ddda10-4434-4f9c-a8fd-db9edfa954e2",
   "metadata": {},
   "source": [
    "#### READ"
   ]
  },
  {
   "cell_type": "code",
   "execution_count": 15,
   "id": "18e9e64e-6d98-4613-b5af-7d1caba01e9d",
   "metadata": {},
   "outputs": [
    {
     "name": "stdout",
     "output_type": "stream",
     "text": [
      "['example1']\n"
     ]
    }
   ],
   "source": [
    "# Obtenir la liste des collections\n",
    "\n",
    "print(mydb.list_collection_names())\n",
    "\n"
   ]
  },
  {
   "cell_type": "code",
   "execution_count": 16,
   "id": "f9018075-3837-4e7a-8e78-b785c72bae6b",
   "metadata": {},
   "outputs": [
    {
     "name": "stdout",
     "output_type": "stream",
     "text": [
      "{'_id': ObjectId('63a64ad78320cb5b2a745ad1'), 'nom': 'MONDJEHI', 'prenom': 'ROLAND', 'age': 25, 'email': 'mondrolan@gmail.com'}\n"
     ]
    }
   ],
   "source": [
    "# obtenir un document\n",
    "\n",
    "doc = collection.find_one()\n",
    "print(doc)\n",
    "\n"
   ]
  },
  {
   "cell_type": "code",
   "execution_count": 18,
   "id": "e1ac570b-fc46-470a-938c-5cb6b824bdff",
   "metadata": {},
   "outputs": [
    {
     "name": "stdout",
     "output_type": "stream",
     "text": [
      "{'_id': ObjectId('63a64c358320cb5b2a745ad3'), 'nom': 'MONDJEHI', 'prenom': 'Wilfred', 'age': 26, 'email': 'mondjehiwilfred@gmail.com'}\n"
     ]
    }
   ],
   "source": [
    "# Obtenir un document spécifique\n",
    "\n",
    "doc = collection.find_one({\"prenom\":\"Wilfred\"})\n",
    "print(doc)"
   ]
  },
  {
   "cell_type": "code",
   "execution_count": 19,
   "id": "23002361-99bf-4e08-a751-6a19bc60ef97",
   "metadata": {},
   "outputs": [
    {
     "name": "stdout",
     "output_type": "stream",
     "text": [
      "{'_id': ObjectId('63a64ad78320cb5b2a745ad1'), 'nom': 'MONDJEHI', 'prenom': 'ROLAND', 'age': 25, 'email': 'mondrolan@gmail.com'}\n",
      "{'_id': ObjectId('63a64c358320cb5b2a745ad2'), 'nom': 'MONDJEHI', 'prenom': 'Jean Marie', 'age': 30, 'email': 'mondjehijeanmarie@gmail.com'}\n",
      "{'_id': ObjectId('63a64c358320cb5b2a745ad3'), 'nom': 'MONDJEHI', 'prenom': 'Wilfred', 'age': 26, 'email': 'mondjehiwilfred@gmail.com'}\n"
     ]
    }
   ],
   "source": [
    "# Obtenir tous les documents\n",
    "\n",
    "docs = collection.find()\n",
    "\n",
    "for doc in docs:\n",
    "    print(doc)"
   ]
  },
  {
   "cell_type": "markdown",
   "id": "a7da5f6f-6cff-4305-ab9d-f49b3fcb5b9e",
   "metadata": {},
   "source": [
    "#### UPDATE\n",
    "\n",
    "3 méthodes  *update_one()*, *update_many()* , *find_one_and_update()*\n",
    "\n",
    "Mise à jour du prenom `Wilfred` à `WILFRED`\n"
   ]
  },
  {
   "cell_type": "code",
   "execution_count": 20,
   "id": "c1a29f51-41e8-4ddc-a1cb-1077e1ccd69c",
   "metadata": {},
   "outputs": [
    {
     "data": {
      "text/plain": [
       "<pymongo.results.UpdateResult at 0x1c1623e6430>"
      ]
     },
     "execution_count": 20,
     "metadata": {},
     "output_type": "execute_result"
    }
   ],
   "source": [
    "collection.update_one({\"prenom\": \"Wilfred\"},\n",
    "                      {'$set': {\n",
    "                          'prenom': \"WILFRED\"\n",
    "                          }\n",
    "                      }, upsert=False)"
   ]
  },
  {
   "cell_type": "code",
   "execution_count": 24,
   "id": "ef2309bf-bea3-45ab-ad87-e309e384068a",
   "metadata": {},
   "outputs": [
    {
     "name": "stdout",
     "output_type": "stream",
     "text": [
      "{'_id': ObjectId('63a64ad78320cb5b2a745ad1'), 'nom': 'MONDJEHI', 'prenom': 'ROLAND', 'age': 25, 'email': 'mondrolan@gmail.com'}\n",
      "{'_id': ObjectId('63a64c358320cb5b2a745ad2'), 'nom': 'MONDJEHI', 'prenom': 'Jean Marie', 'age': 30, 'email': 'mondjehijeanmarie@gmail.com'}\n",
      "{'_id': ObjectId('63a64c358320cb5b2a745ad3'), 'nom': 'MONDJEHI', 'prenom': 'WILFRED', 'age': 26, 'email': 'mondjehiwilfred@gmail.com'}\n"
     ]
    }
   ],
   "source": [
    "docs = collection.find()\n",
    "\n",
    "for doc in docs:\n",
    "    print(doc)"
   ]
  },
  {
   "cell_type": "markdown",
   "id": "8d0cffb8-de81-4c1b-8953-2c628f1bf6a3",
   "metadata": {},
   "source": [
    "#### DELETE"
   ]
  },
  {
   "cell_type": "code",
   "execution_count": 23,
   "id": "ea140654-5679-49ea-b083-98b2f8032962",
   "metadata": {},
   "outputs": [
    {
     "name": "stdout",
     "output_type": "stream",
     "text": [
      "Nombre de documents avant suppression :  3\n"
     ]
    }
   ],
   "source": [
    "# print number of document with the key x = 4\n",
    "\n",
    "print(\"Nombre de documents avant suppression : \", collection.count_documents({'nom': 'MONDJEHI'}))"
   ]
  },
  {
   "cell_type": "code",
   "execution_count": 25,
   "id": "5df45619-e8b6-4a6f-9156-07c1f19ed9ae",
   "metadata": {},
   "outputs": [
    {
     "data": {
      "text/plain": [
       "<pymongo.results.DeleteResult at 0x1c161788970>"
      ]
     },
     "execution_count": 25,
     "metadata": {},
     "output_type": "execute_result"
    }
   ],
   "source": [
    "# Supprimer le document dont le prenom est WILFRED\n",
    "\n",
    "collection.delete_one({'prenom': 'WILFRED'})"
   ]
  },
  {
   "cell_type": "code",
   "execution_count": 26,
   "id": "077ce3e7-5466-4039-8b00-a5f57680a874",
   "metadata": {},
   "outputs": [
    {
     "name": "stdout",
     "output_type": "stream",
     "text": [
      "Nombre de documents après suppression :  2\n"
     ]
    }
   ],
   "source": [
    "print(\"Nombre de documents après suppression : \", collection.count_documents({'nom': 'MONDJEHI'}))"
   ]
  },
  {
   "cell_type": "markdown",
   "id": "cb2bce4c-befd-45d1-8c10-2cc984d8b139",
   "metadata": {},
   "source": [
    "##### **MongoDB stocke des types de données spécifiques**"
   ]
  },
  {
   "cell_type": "markdown",
   "id": "23db52d0-04b4-4e19-8309-d0ffd391defc",
   "metadata": {},
   "source": [
    "###### Une image"
   ]
  },
  {
   "cell_type": "code",
   "execution_count": 27,
   "id": "44b64e50-e5c9-4e43-8079-cf1fc76e5db3",
   "metadata": {},
   "outputs": [
    {
     "data": {
      "image/png": "[encoded data removed]",
      "text/plain": [
       "<Figure size 432x288 with 1 Axes>"
      ]
     },
     "metadata": {
      "needs_background": "light"
     },
     "output_type": "display_data"
    }
   ],
   "source": [
    "from PIL import Image\n",
    "from matplotlib import pyplot\n",
    "\n",
    "image = Image.open('images/FSEG.jpg')\n",
    "pyplot.imshow(image)\n",
    "pyplot.show()"
   ]
  },
  {
   "cell_type": "markdown",
   "id": "acfa9591-c0d0-419c-b5e8-f8cb8d463b22",
   "metadata": {},
   "source": [
    "Essayons de stocker cette image dans mongoDB"
   ]
  },
  {
   "cell_type": "code",
   "execution_count": 28,
   "id": "1f56f523-7ebc-4398-854a-fc58cc8cd81c",
   "metadata": {},
   "outputs": [
    {
     "name": "stdout",
     "output_type": "stream",
     "text": [
      "(212, 847, 3)\n"
     ]
    }
   ],
   "source": [
    "# Maintenant que l'image est chargée, nous devons la convertir en un tableau numpy\n",
    "import numpy as np\n",
    "from bson.binary import Binary\n",
    "import pickle\n",
    "import pymongo\n",
    "\n",
    "# Conversion en numpy\n",
    "data = np.asarray(image)\n",
    "\n",
    "# Affichier les dimensions\n",
    "print(data.shape)\n",
    "\n",
    "\n"
   ]
  },
  {
   "cell_type": "code",
   "execution_count": 29,
   "id": "5d4916e7-27ad-4c6e-8a54-8651ce7ce3e7",
   "metadata": {},
   "outputs": [
    {
     "data": {
      "text/plain": [
       "<pymongo.results.InsertOneResult at 0x1c164e80250>"
      ]
     },
     "execution_count": 29,
     "metadata": {},
     "output_type": "execute_result"
    }
   ],
   "source": [
    "#\n",
    "post = {}\n",
    "\n",
    "# pickle dump le tableau numpy et ensuite le binarise (rappel MongoDB = Bson = Bytes json)\n",
    "post['image'] = Binary( pickle.dumps( data, protocol=2) ) \n",
    "\n",
    "client = pymongo.MongoClient('localhost', 27017)\n",
    "mydb = client[\"projet\"]\n",
    "collection = mydb[\"image\"]\n",
    "\n",
    "collection.insert_one(post)"
   ]
  },
  {
   "cell_type": "markdown",
   "id": "64d206b0-9992-42a8-bc50-f5b9b9a867e4",
   "metadata": {},
   "source": [
    "Rechargement de l'image"
   ]
  },
  {
   "cell_type": "code",
   "execution_count": 30,
   "id": "bd068339-ec62-4dba-a644-2abdda95dc60",
   "metadata": {},
   "outputs": [],
   "source": [
    "client = pymongo.MongoClient('localhost', 27017)\n",
    "mydb = client[\"projet\"]\n",
    "collection = mydb[\"image\"]\n",
    "docs = collection.find()"
   ]
  },
  {
   "cell_type": "code",
   "execution_count": 31,
   "id": "6701870b-9f1d-433b-9b48-ad3a521e5a1c",
   "metadata": {},
   "outputs": [
    {
     "name": "stdout",
     "output_type": "stream",
     "text": [
      "(212, 847, 3) <class 'numpy.ndarray'>\n"
     ]
    }
   ],
   "source": [
    "# Charger l'objet binaire\n",
    "doc =  pickle.loads(next(docs)[\"image\"])\n",
    "\n",
    "print(doc.shape,type(doc))\n",
    "\n"
   ]
  },
  {
   "cell_type": "code",
   "execution_count": 32,
   "id": "661f4b5f-a1f7-4acc-a2fd-f6d5bdce05d9",
   "metadata": {},
   "outputs": [
    {
     "data": {
      "image/png": "[encoded data removed]",
      "text/plain": [
       "<Figure size 432x288 with 1 Axes>"
      ]
     },
     "metadata": {
      "needs_background": "light"
     },
     "output_type": "display_data"
    }
   ],
   "source": [
    "# De numpy à image\n",
    "image = Image.fromarray(doc)\n",
    "\n",
    "# Plot l'image\n",
    "pyplot.imshow(image)\n",
    "pyplot.show()"
   ]
  },
  {
   "cell_type": "code",
   "execution_count": null,
   "id": "bc96d2cc-e55a-4235-83ae-1effe9eca963",
   "metadata": {},
   "outputs": [],
   "source": [
    "\n",
    "# Charger l'objet binaire\n",
    "doc =  pickle.loads(next(docs)[\"image\"])\n",
    "\n",
    "print(doc.shape,type(doc))\n",
    "\n",
    "# From numpy to img\n",
    "image = Image.fromarray(doc)\n",
    "# Show image\n",
    "pyplot.imshow(image)\n",
    "pyplot.show()"
   ]
  },
  {
   "cell_type": "markdown",
   "id": "84e22c63-27a6-4e78-81c5-fb1afceaea65",
   "metadata": {},
   "source": [
    "### Mini-projet : Scrapper et stocker dans mongoDB ( **BeautifulSoup** et **Pymongo**)"
   ]
  },
  {
   "cell_type": "code",
   "execution_count": 33,
   "id": "b5a5b9d3-69e4-4a66-864a-b5d10c8f693f",
   "metadata": {},
   "outputs": [],
   "source": [
    "import requests \n",
    "from bs4 import BeautifulSoup\n",
    "import re\n",
    "import tqdm.notebook as tq"
   ]
  },
  {
   "cell_type": "code",
   "execution_count": 35,
   "id": "96ba40bc-efd2-420d-8fb8-37f5e947211b",
   "metadata": {},
   "outputs": [],
   "source": [
    "# Utilisation d'un exemple\n",
    "# A partir de la page wikipedia de Kevin Bacon\n",
    "starting_url = \"https://en.wikipedia.org/wiki/Kevin_Bacon\"\n",
    "\n",
    "# Obtenir le contenu html\n",
    "response = requests.get(starting_url)\n",
    "result = response.content\n",
    "\n",
    "# Analyser le html avec BS\n",
    "soup = BeautifulSoup(result, 'html.parser')\n",
    "\n",
    "# Dans le corps du texte, trouvez tous les href qui correspondent à la requête regex\n",
    "# (commencez par wiki et ignorez ! : pour éviter les artefacts comme les jpeg)\n",
    "list_b = []\n",
    "for link in soup.find(\"div\",attrs={'id':'bodyContent'}).find_all(\"a\",href = re.compile(\"^(/wiki/)((?!:).)*$\")):\n",
    "    list_b.append(link.get(\"href\"))"
   ]
  },
  {
   "cell_type": "code",
   "execution_count": 38,
   "id": "f1309a95-c70f-49f8-be28-af93bfdd4feb",
   "metadata": {},
   "outputs": [
    {
     "name": "stdout",
     "output_type": "stream",
     "text": [
      "428\n",
      "['/wiki/Kevin_Bacon_(disambiguation)', '/wiki/Philadelphia', '/wiki/Kevin_Bacon_filmography', '/wiki/Kyra_Sedgwick', '/wiki/Sosie_Bacon']\n"
     ]
    }
   ],
   "source": [
    "print(len(list_b))\n",
    "print(list_b[0:5])"
   ]
  },
  {
   "cell_type": "code",
   "execution_count": 39,
   "id": "c10049fa-5b3e-456d-b6be-c7cd60ad9ff2",
   "metadata": {},
   "outputs": [],
   "source": [
    "# Un pas de plus, nous voulons traiter le texte et le sauvegarder dans MongoDB.\n",
    "\n",
    "import pymongo \n",
    "\n",
    "class crawler:\n",
    "    def __init__(self,starting_url, depth, mongo_uri, db_name, collection_name ):\n",
    "        self.starting_url = starting_url\n",
    "        self.depth = depth\n",
    "        self.mongo_uri = mongo_uri\n",
    "        self.db_name = db_name\n",
    "        self.collection_name = collection_name\n",
    "        self.hrefs_checked = []\n",
    "        self.n_processed = 0\n",
    "        \n",
    "    def Get_hrefs(self,url):\n",
    "\n",
    "        hrefs = []\n",
    "        for link in self.soup.find(\"div\",attrs={'id':'bodyContent'}).find_all(\"a\",href = re.compile(\"^(/wiki/)((?!:).)*$\")):\n",
    "            if \"href\" in link.attrs:\n",
    "                if link.get(\"href\") not in hrefs:\n",
    "                    hrefs.append(link.get(\"href\"))\n",
    "        return(hrefs)\n",
    "    \n",
    "    def parse_url(self): \n",
    "        full_text = \"\"\n",
    "        for para in self.soup.find_all(\"p\"):\n",
    "            full_text += para.text + \" \"\n",
    "        return(full_text)\n",
    "    \n",
    "    def save2mongo(self):\n",
    "        Client = pymongo.MongoClient(self.mongo_uri)\n",
    "        db = Client[self.db_name]\n",
    "        collection = db[self.collection_name]\n",
    "        \n",
    "        collection.insert_many(self.list_of_insertion)\n",
    "        \n",
    "    def run_analysis(self):\n",
    "        \n",
    "        self.list_of_insertion = []\n",
    "        \n",
    "        for i in tq.tqdm(range(self.depth)):\n",
    "            # Première itération pour Kevin Bacon\n",
    "            if i == 0:\n",
    "                response = requests.get(self.starting_url)\n",
    "                result = response.content    \n",
    "                self.soup = BeautifulSoup(result, 'html.parser')\n",
    "                hrefs = self.Get_hrefs(self.starting_url)\n",
    "                text = self.parse_url()\n",
    "                self.hrefs_checked.append(self.starting_url)\n",
    "                self.n_processed += 1\n",
    "                self.list_of_insertion.append({\"id\":self.n_processed, \"text\" : text, \"href\":self.starting_url})\n",
    "            else:\n",
    "                hrefs_temp = []\n",
    "                for starting_url in tq.tqdm(hrefs):\n",
    "                    url = \"https://en.wikipedia.org\" + starting_url\n",
    "                    response = requests.get(url)\n",
    "                    result = response.content    \n",
    "                    self.soup = BeautifulSoup(result, 'html.parser')\n",
    "                    hrefs_temp += self.Get_hrefs(url)\n",
    "                    text = self.parse_url()\n",
    "                    self.n_processed += 1\n",
    "                    self.list_of_insertion.append({\"id\":self.n_processed, \"text\" : text, \"href\":url})\n",
    "                    if len(self.list_of_insertion) % 200 == 0:\n",
    "                        self.save2mongo()\n",
    "                        self.list_of_insertion = []\n",
    "                hrefs = [href for href in hrefs_temp if href not in hrefs_checked]      \n",
    "        self.save2mongo()\n"
   ]
  },
  {
   "cell_type": "code",
   "execution_count": 44,
   "id": "d7581c7b-8c54-4bb8-a755-1e4b2eb05a61",
   "metadata": {},
   "outputs": [
    {
     "data": {
      "application/vnd.jupyter.widget-view+json": {
       "model_id": "60d9da98fea949bd8c47ffe2ae1d5ab2",
       "version_major": 2,
       "version_minor": 0
      },
      "text/plain": [
       "  0%|          | 0/1 [00:00<?, ?it/s]"
      ]
     },
     "metadata": {},
     "output_type": "display_data"
    }
   ],
   "source": [
    "crawl = crawler(starting_url=\"https://en.wikipedia.org/wiki/Kevin_Bacon\", \n",
    "                depth = 1, \n",
    "                mongo_uri = 'mongodb://localhost:27017', \n",
    "                db_name = \"Mini_Project\", collection_name=\"KB\")\n",
    "crawl.run_analysis()"
   ]
  },
  {
   "cell_type": "code",
   "execution_count": 51,
   "id": "dfe9b36e-1b78-4607-8d79-c562c4c6d06a",
   "metadata": {},
   "outputs": [
    {
     "name": "stdout",
     "output_type": "stream",
     "text": [
      "{'name': 'Mini_Project', 'sizeOnDisk': 4227072, 'empty': False}\n",
      "{'name': 'admin', 'sizeOnDisk': 40960, 'empty': False}\n",
      "{'name': 'config', 'sizeOnDisk': 110592, 'empty': False}\n",
      "{'name': 'local', 'sizeOnDisk': 40960, 'empty': False}\n",
      "{'name': 'projet', 'sizeOnDisk': 315392, 'empty': False}\n"
     ]
    }
   ],
   "source": [
    "import pymongo\n",
    "\n",
    "client = pymongo.MongoClient(\"mongodb://localhost:27017/\")\n",
    "\n",
    "for db in client.list_databases():\n",
    "    print(db)"
   ]
  },
  {
   "cell_type": "code",
   "execution_count": 52,
   "id": "72c51a0e-64f8-4c55-a048-201c76933a98",
   "metadata": {},
   "outputs": [
    {
     "name": "stdout",
     "output_type": "stream",
     "text": [
      "Liste des collections\n",
      "--------------------\n",
      "KB\n"
     ]
    }
   ],
   "source": [
    "client = pymongo.MongoClient(\"mongodb://localhost:27017/\")\n",
    "mydb = client['Mini_Project']\n",
    "\n",
    "print(\"Liste des collections\\n--------------------\")\n",
    "for coll in mydb.list_collection_names():\n",
    "    print(coll)"
   ]
  },
  {
   "cell_type": "code",
   "execution_count": 59,
   "id": "63dd8923-e631-4cee-90a3-5245b2fe31e7",
   "metadata": {},
   "outputs": [
    {
     "data": {
      "text/plain": [
       "{'_id': ObjectId('63a65cca8320cb5b2a745ad8'),\n",
       " 'id': 1,\n",
       " 'text': '\\n Kevin Norwood Bacon[2] (born July 8, 1958)[3] is an American actor. His films include the musical-drama film Footloose (1984), the controversial historical conspiracy legal thriller JFK (1991), the legal drama A Few Good Men (1992), the historical docudrama Apollo 13 (1995), and the mystery drama Mystic River (2003). Bacon is also known for voicing the title character in Balto (1995), and has taken on darker roles, such as that of a sadistic guard in Sleepers (1996), and troubled former child abuser in The Woodsman (2004). He is further known for the hit comedies National Lampoon\\'s Animal House (1978), Diner (1982), Tremors (1990) and Crazy, Stupid, Love (2011). His other well-known films are Friday the 13th (1980), Flatliners (1990), The River Wild (1994), Wild Things (1998), Stir of Echoes (1999), Hollow Man (2000), Frost/Nixon (2008), X-Men: First Class (2011), Black Mass (2015) and Patriots Day (2016). He is equally prolific on television, having starred in the Fox drama series The Following (2013–2015). For the HBO original film Taking Chance (2009), Bacon won a Golden Globe Award and a Screen Actors Guild Award, also receiving a Primetime Emmy Award nomination. More recently, Bacon portrayed the title character, and was the series lead, of the Amazon Prime television series I Love Dick, for which he was nominated for a Golden Globe Award.\\n The Guardian named him one of the best actors never to have received an Academy Award nomination.[4] In 2003, Bacon received a star on the Hollywood Walk of Fame for his contributions to the motion picture industry.[5]\\n Bacon has become associated with the concept of interconnectedness among people, having been popularized by the game \"Six Degrees of Kevin Bacon\". In 2007, he created SixDegrees.org, a charitable foundation.[6] He is a brand ambassador for British mobile network operator EE and has been featured in several ads for the company.\\n Bacon, the youngest of six children, was born and raised in a close-knit family in Philadelphia.[3] His mother, Ruth Hilda (née Holmes; 1916–1991), taught at an elementary school and was a liberal activist,[3] while his father, Edmund Bacon (1910–2005), was an urban planner who served for many years as executive director of the Philadelphia City Planning Commission and authored the seminal text Design of Cities.[7]\\n Bacon attended Julia R. Masterman High School for both middle and high school.[8] At age 16, in 1975, Bacon won a full scholarship to and attended the Pennsylvania Governor\\'s School for the Arts at Bucknell University,[9] a state-funded five-week arts program at which he studied theater under Glory Van Scott. The experience solidified Bacon\\'s passion for the arts.[6][7]\\n Bacon left home at age 17 to pursue a theater career in New York City, where he appeared in a production at the Circle in the Square Theater School. \"I wanted life, man, the real thing\", he later recalled to Nancy Mills of Cosmopolitan. \"The message I got was \\'The arts are it. Business is the devil\\'s work. Art and creative expression are next to godliness.\\' Combine that with an immense ego and you wind up with an actor.\"[10]\\nBacon\\'s debut in the fraternity comedy National Lampoon\\'s Animal House (1978) did not lead to the fame he had sought, and Bacon returned to waiting tables and auditioning for small roles in theater.[7] He briefly worked on the television soap operas Search for Tomorrow (1979) and Guiding Light (1980–81) in New York.\\n In 1980, he appeared in the slasher film Friday the 13th.[11] Some of his early stage work included Getting Out, performed at New York\\'s Phoenix Theater, and Flux, at Second Stage Theatre during their 1981–1982 season.[12]\\n In 1982, he won an Obie Award for his role in Forty Deuce,[13] and soon afterward he made his Broadway debut in Slab Boys, with then-unknowns Sean Penn and Val Kilmer. However, it was not until he portrayed Timothy Fenwick that same year in Barry Levinson\\'s film Diner\\xa0– costarring Steve Guttenberg, Daniel Stern, Mickey Rourke, Tim Daly, and Ellen Barkin\\xa0– that he made an indelible impression on film critics and moviegoers alike.[14]\\n Bolstered by the attention garnered by his performance in Diner, Bacon starred in Footloose (1984).[12] Richard Corliss of TIME likened Footloose to the James Dean classic Rebel Without a Cause and the old Mickey Rooney/Judy Garland musicals, commenting that the film includes \"motifs on book burning, mid-life crisis, AWOL parents, fatal car crashes, drug enforcement, and Bible Belt vigilantism.\"[15] To prepare for the role, Bacon enrolled at a high school as a transfer student named \"Ren McCormick\" and studied teenagers before leaving in the middle of the day.[7][16] Bacon earned strong reviews for Footloose.[17] \\nBacon\\'s critical and box office success led to a period of typecasting in roles similar to the two he portrayed in Diner and Footloose, and he had difficulty shaking this on-screen image. For the next several years he chose films that cast him against either type and experienced, by his own estimation, a career slump.\\n After a cameo in John Hughes\\'s 1987 comedy Planes, Trains and Automobiles,[18] Bacon starred in John Hughes\\'s 1988 comedy She\\'s Having a Baby,[12] and the following year he was in another comedy called The Big Picture.[19]\\n In 1990, Bacon had two successful roles. He played a character who saved his town from under-the-earth \"graboid\" monsters in the comedy/horror film Tremors,[20] and he portrayed an earnest medical student experimenting with death in Joel Schumacher\\'s Flatliners.[12]\\n In Bacon\\'s next project he starred opposite Elizabeth Perkins in He Said, She Said. Despite lukewarm reviews and low audience turnout, He Said, She Said was illuminating for Bacon. Required to play a character with sexist attitudes, he admitted that the role was not that large a stretch for him.[12]\\n By 1991, Bacon began to give up the idea of playing leading men in big-budget films and to remake himself as a character actor. \"The only way I was going to be able to work on \\'A\\' projects with really \\'A\\' directors was if I wasn\\'t the guy who was starring\", he confided to The New York Times writer Trip Gabriel. \"You can\\'t afford to set up a $40\\xa0million movie if you don\\'t have your star.\"[21] He performed that year as gay prostitute Willie O\\'Keefe in Oliver Stone\\'s JFK[22] and went on to play a prosecuting attorney in the military courtroom drama A Few Good Men.[23] Later that year he returned to the theater to play in Spike Heels, directed by Michael Greif.[12]\\n In 1994, Bacon earned a Golden Globe nomination for his role in The River Wild,[12] opposite Meryl Streep. He described the film to Chase in Cosmopolitan as a \"grueling shoot\", in which \"every one of us fell out of the boat at one point or another and had to be saved\".\\n His next film, Murder in the First, earned him the Broadcast Film Critic\\'s Association Award in 1995,[12] the same year that he starred in the blockbuster hit Apollo 13.[24] Bacon played a trademark dark role once again in Sleepers (1996).[25] This part starkly contrasted with his appearance in the lighthearted romantic comedy, Picture Perfect (1997).[12]\\n Bacon made his debut as a director with the television film Losing Chase (1996), which was nominated for three Golden Globe Awards, and won one.[26] Bacon again resurrected his oddball mystique that year as a mentally-challenged houseguest in Digging to China[12] and as a disc jockey corrupted by payola in Telling Lies in America.[12] As the executive producer of Wild Things (1998), Bacon reserved a supporting role for himself and went on to star in Stir of Echoes (1999), directed by David Koepp.[27]\\n In 2000, he appeared in Paul Verhoeven\\'s Hollow Man.[28] Bacon, Colin Firth and Rachel Blanchard depict a ménage à trois in their film, Where the Truth Lies.[29] Bacon and director Atom Egoyan have condemned the MPAA ratings board decision to rate the film \"NC-17\" rather than the preferable \"R\". Bacon commented: \"I don\\'t get it, when I see films (that) are extremely violent, extremely objectionable sometimes in terms of the roles that women play, slide by with an R, no problem, because the people happen to have more of their clothes on.\"[30]\\n In 2003 he acted with Sean Penn and Tim Robbins in Clint Eastwood\\'s movie Mystic River.\\n Bacon was again acclaimed for a dark starring role playing an offending pedophile on parole in The Woodsman (2004), for which he was nominated for best actor and received the Independent Spirit Award.[31] He appeared in the HBO Films production of Taking Chance, based on an eponymous story written by Lieutenant Colonel Michael Strobl, an American Desert Storm war veteran.[32] The film premiered on HBO on February 21, 2009. Bacon won a Golden Globe Award and a Screen Actors Guild Award for Outstanding Performance by a Male Actor in a Miniseries or Television Movie for his role.\\n On July 15, 2010, it was confirmed that Bacon would appear in Matthew Vaughn\\'s X-Men: First Class as mutant villain Sebastian Shaw. [33][34]\\n In March 2012, Bacon was featured in a performance of Dustin Lance Black\\'s play, 8 – a staged reenactment of the federal trial that overturned California\\'s Prop 8 ban on same-sex marriage – as Attorney Charles J. Cooper.[35] The production was held at the Wilshire Ebell Theatre and broadcast on YouTube to raise money for the American Foundation for Equal Rights.[36][37]\\n From 2013 to 2015, Bacon starred as Ryan Hardy in the FOX television series The Following.[38] In 2013, he won a Saturn Award for Best Actor on Television for that role.[39]\\n In 2015, he said in a Huffington Post interview he would like to return to the Tremors franchise.[40] However, Bacon did not appear in Tremors 5: Bloodline (2015).\\n Beginning in 2012, Bacon has appeared in a major advertising campaign for the EE mobile network in the United Kingdom, based on the Six Degrees concept and his various film roles.[41][42] In 2015, he became a commercial spokesperson for the U.S. egg industry.[43]\\n Bacon is the subject of the trivia game titled \"Six Degrees of Kevin Bacon,\" based on the idea that, due to his prolific screen career covering a diverse range of genres, any Hollywood actor can be linked to another in a handful of steps based on their association with Bacon. The name of the game derives from the idea of six degrees of separation.\\nAlthough he was initially dismayed by the game, the meme stuck, and Bacon eventually embraced it, forming the charitable initiative SixDegrees.org, a social networking service intended to link people and charities to each other.[44]\\n The measure of proximity to Bacon has been mathematically formalized as the Bacon number and can be referenced at websites including Oracle of Bacon, which is in turn based upon Internet Movie Database data. In 2012, Google added a feature to their search engine, whereby searching for an actor\\'s name followed by the words \"Bacon Number\" will show the ways in which that actor is connected to Kevin Bacon.[45] This feature is no longer active.\\n A similar measurement exists in the mathematics community, where one measures how far one is removed from co-writing a mathematical paper with the prolific and itinerant mathematician Paul Erdős. This is done by means of the Erdős number, which is 0 for Paul Erdős himself, 1 for someone who co-wrote an article with him, 2 for someone who co-wrote with someone who co-wrote with him, etc. People have combined the Bacon number and the Erdős number to form the Erdős–Bacon number, which is the sum of the two.[46]\\n In 1995, Kevin formed a band called The Bacon Brothers with his brother, Michael. The duo has released seven albums.[47] Kevin Bacon also sings in a variety of other media; he has serenaded his goats on Instagram,[48] and sings with the band the Old 97\\'s in his role as himself in The Guardians of the Galaxy Holiday Special.[49]\\n Bacon has been married to actress Kyra Sedgwick since September 4, 1988; they met on the set of the PBS version of Lanford Wilson\\'s play Lemon Sky. He has said: \"The time I was hitting what I considered to be bottom was also the time I met my wife, our kids were born, good things were happening. And I was able to keep supporting myself; that always gave me strength.\"[10] Bacon and Sedgwick have starred together in Pyrates, Murder in the First, The Woodsman, and Loverboy. They have two children, Travis Sedgwick (b. 1989) and Sosie Ruth (b. 1992). They reside on the Upper West Side of Manhattan.[50] Bacon was previously in a five-year relationship with actress Tracy Pollan, in the 1980s.[51]\\n Bacon has spoken out for the separation of church and state,[52][53] and told The Times in 2005 that he did not \"believe in God.\"[54] He has also said that he is not anti-religion.[55]\\n Bacon and Sedgwick appeared in will.i.am\\'s video \"It\\'s a New Day\", which was released following Barack Obama\\'s 2008 presidential win.\\n The pair lost part of their savings in the Ponzi scheme of infamous swindler Bernie Madoff.[56][57]\\n Bacon and Sedgwick learned in 2011, via their appearance on the PBS TV show Finding Your Roots with Henry Louis Gates, that they are ninth cousins, once removed.[58] They also appeared in a video[59] promoting the \"Bill of Reproductive Rights\", supporting among other things a woman\\'s right to choose and have access to birth control.[60]\\n ',\n",
       " 'href': 'https://en.wikipedia.org/wiki/Kevin_Bacon'}"
      ]
     },
     "execution_count": 59,
     "metadata": {},
     "output_type": "execute_result"
    }
   ],
   "source": [
    "collection = mydb[\"KB\"]\n",
    "doc = collection.find_one()\n",
    "doc"
   ]
  },
  {
   "cell_type": "code",
   "execution_count": 61,
   "id": "452fd171-7fc4-4255-ba30-4571c48d0d5d",
   "metadata": {},
   "outputs": [
    {
     "name": "stdout",
     "output_type": "stream",
     "text": [
      "201\n"
     ]
    }
   ],
   "source": [
    "total_count = collection.count_documents({})\n",
    "print(total_count)"
   ]
  },
  {
   "cell_type": "markdown",
   "id": "ef827b3d-ccfc-4336-b9f1-c11175d6aba2",
   "metadata": {},
   "source": [
    "### Mini-projet_2 : Une étude de cas sur la mortalité aux États-Unis\n",
    "\n",
    "Cette étude a pour but d'analyser la mortalité aux États-Unis en fonction des causes et des groupes d'âge. \n",
    "\n",
    "Elle vise à répondre à des questions telles que :\n",
    "\n",
    "- Les principales causes et maladies qui ont tué des Américains au cours des deux dernières décennies\n",
    "- L'évolution des taux de mortalité liés à ces causes \n",
    "- Les différences géographiques entre ces causes \n",
    "- Le nombre de décès dans chaque État Américain par rapport à sa population.\n",
    "\n",
    "*Trois jeux de données sont utilisés dans cette étude et importés dans la base de données NoSQL*\n",
    "\n",
    "`Sources de données`\n",
    "1. Principales causes de décès - US CDC National Center for Health Statistics\n",
    "- [Lien](https://data.cdc.gov/NCHS/NCHS-Leading-Causes-of-Death-United-States/bi63-dtpu)\n",
    "2. Décès dans 122 villes américaines (1962 - 2016) - Système d'information sur la mortalité dans les villes\n",
    "- [Lien](https://catalog.data.gov/dataset/deaths-in-122-u-s-cities-1962-2016-122-cities-mortality-reporting-system)\n",
    "3. Population des États\n",
    "- [Lien](https://fred.stlouisfed.org/release?rid=118&t=state&ob=pv&od=desc)\n",
    "\n",
    "## Diagramme du modèle ER\n",
    "\n",
    "![imag](images/ER.png)"
   ]
  },
  {
   "cell_type": "markdown",
   "id": "2e2d7dd0-409b-4981-841b-58b3d937cac7",
   "metadata": {},
   "source": [
    "## Aperçu de l'analyse des données\n",
    "\n",
    "1. Analyse longitudinale des causes de la morbidité aux États-Unis\n",
    "2. Analyse temporelle de l'évolution des tendances dans le temps aux États-Unis\n",
    "3. Analyse catégorielle des causes primaires de décès\n",
    "4. Analyse géographique des différences de tendances dans les causes de décès"
   ]
  },
  {
   "cell_type": "markdown",
   "id": "7427e36f-f2a7-492e-a1b7-9b2c4b997102",
   "metadata": {},
   "source": [
    "## Importation des données"
   ]
  },
  {
   "cell_type": "code",
   "execution_count": 302,
   "id": "f5167b7b-df10-4341-ab40-dbbcbdbd61ef",
   "metadata": {},
   "outputs": [
    {
     "name": "stdout",
     "output_type": "stream",
     "text": [
      "(10296, 6)\n",
      "(346342, 13)\n",
      "(3468, 4)\n"
     ]
    }
   ],
   "source": [
    "import pandas as pd\n",
    "\n",
    "LeadingCauses = pd.read_csv(\"dataset/leading_causes.csv\")\n",
    "\n",
    "deathInUsCities = pd.read_csv(\"dataset/death_in_122UScities.csv\")\n",
    "\n",
    "statepops = pd.read_csv(\"dataset/statepops.csv\")\n",
    "\n",
    "print(LeadingCauses.shape)\n",
    "print(deathInUsCities.shape)\n",
    "print(statepops.shape)\n"
   ]
  },
  {
   "cell_type": "code",
   "execution_count": 303,
   "id": "f8ceb1b1-a394-47f1-9e2a-26207a4ecf6f",
   "metadata": {},
   "outputs": [
    {
     "data": {
      "text/html": [
       "<div>\n",
       "<style scoped>\n",
       "    .dataframe tbody tr th:only-of-type {\n",
       "        vertical-align: middle;\n",
       "    }\n",
       "\n",
       "    .dataframe tbody tr th {\n",
       "        vertical-align: top;\n",
       "    }\n",
       "\n",
       "    .dataframe thead th {\n",
       "        text-align: right;\n",
       "    }\n",
       "</style>\n",
       "<table border=\"1\" class=\"dataframe\">\n",
       "  <thead>\n",
       "    <tr style=\"text-align: right;\">\n",
       "      <th></th>\n",
       "      <th>Year</th>\n",
       "      <th>113 Cause Name</th>\n",
       "      <th>Cause Name</th>\n",
       "      <th>State</th>\n",
       "      <th>Deaths</th>\n",
       "      <th>Age-adjusted Death Rate</th>\n",
       "    </tr>\n",
       "  </thead>\n",
       "  <tbody>\n",
       "    <tr>\n",
       "      <th>0</th>\n",
       "      <td>2016</td>\n",
       "      <td>Accidents (unintentional injuries) (V01-X59,Y8...</td>\n",
       "      <td>Unintentional injuries</td>\n",
       "      <td>Alabama</td>\n",
       "      <td>2755</td>\n",
       "      <td>55.5</td>\n",
       "    </tr>\n",
       "    <tr>\n",
       "      <th>1</th>\n",
       "      <td>2016</td>\n",
       "      <td>Accidents (unintentional injuries) (V01-X59,Y8...</td>\n",
       "      <td>Unintentional injuries</td>\n",
       "      <td>Alaska</td>\n",
       "      <td>439</td>\n",
       "      <td>63.1</td>\n",
       "    </tr>\n",
       "    <tr>\n",
       "      <th>2</th>\n",
       "      <td>2016</td>\n",
       "      <td>Accidents (unintentional injuries) (V01-X59,Y8...</td>\n",
       "      <td>Unintentional injuries</td>\n",
       "      <td>Arizona</td>\n",
       "      <td>4010</td>\n",
       "      <td>54.2</td>\n",
       "    </tr>\n",
       "    <tr>\n",
       "      <th>3</th>\n",
       "      <td>2016</td>\n",
       "      <td>Accidents (unintentional injuries) (V01-X59,Y8...</td>\n",
       "      <td>Unintentional injuries</td>\n",
       "      <td>Arkansas</td>\n",
       "      <td>1604</td>\n",
       "      <td>51.8</td>\n",
       "    </tr>\n",
       "    <tr>\n",
       "      <th>4</th>\n",
       "      <td>2016</td>\n",
       "      <td>Accidents (unintentional injuries) (V01-X59,Y8...</td>\n",
       "      <td>Unintentional injuries</td>\n",
       "      <td>California</td>\n",
       "      <td>13213</td>\n",
       "      <td>32.0</td>\n",
       "    </tr>\n",
       "  </tbody>\n",
       "</table>\n",
       "</div>"
      ],
      "text/plain": [
       "   Year                                     113 Cause Name  \\\n",
       "0  2016  Accidents (unintentional injuries) (V01-X59,Y8...   \n",
       "1  2016  Accidents (unintentional injuries) (V01-X59,Y8...   \n",
       "2  2016  Accidents (unintentional injuries) (V01-X59,Y8...   \n",
       "3  2016  Accidents (unintentional injuries) (V01-X59,Y8...   \n",
       "4  2016  Accidents (unintentional injuries) (V01-X59,Y8...   \n",
       "\n",
       "               Cause Name       State  Deaths  Age-adjusted Death Rate  \n",
       "0  Unintentional injuries     Alabama    2755                     55.5  \n",
       "1  Unintentional injuries      Alaska     439                     63.1  \n",
       "2  Unintentional injuries     Arizona    4010                     54.2  \n",
       "3  Unintentional injuries    Arkansas    1604                     51.8  \n",
       "4  Unintentional injuries  California   13213                     32.0  "
      ]
     },
     "execution_count": 303,
     "metadata": {},
     "output_type": "execute_result"
    }
   ],
   "source": [
    "LeadingCauses.head()"
   ]
  },
  {
   "cell_type": "code",
   "execution_count": 405,
   "id": "b6225be7-82f3-4717-b117-d4f307086f46",
   "metadata": {},
   "outputs": [
    {
     "data": {
      "text/html": [
       "<div>\n",
       "<style scoped>\n",
       "    .dataframe tbody tr th:only-of-type {\n",
       "        vertical-align: middle;\n",
       "    }\n",
       "\n",
       "    .dataframe tbody tr th {\n",
       "        vertical-align: top;\n",
       "    }\n",
       "\n",
       "    .dataframe thead th {\n",
       "        text-align: right;\n",
       "    }\n",
       "</style>\n",
       "<table border=\"1\" class=\"dataframe\">\n",
       "  <thead>\n",
       "    <tr style=\"text-align: right;\">\n",
       "      <th></th>\n",
       "      <th>Year</th>\n",
       "      <th>WEEK</th>\n",
       "      <th>Week Ending Date</th>\n",
       "      <th>REGION</th>\n",
       "      <th>State</th>\n",
       "      <th>City</th>\n",
       "      <th>Pneumonia and Influenza Deaths</th>\n",
       "      <th>All Deaths</th>\n",
       "      <th>&lt;1 year (all cause deaths)</th>\n",
       "      <th>1-24 years (all cause deaths)</th>\n",
       "      <th>25-44 years</th>\n",
       "      <th>45-64 years (all cause deaths)</th>\n",
       "      <th>65+ years (all cause deaths)</th>\n",
       "    </tr>\n",
       "  </thead>\n",
       "  <tbody>\n",
       "    <tr>\n",
       "      <th>0</th>\n",
       "      <td>1962</td>\n",
       "      <td>1</td>\n",
       "      <td>01/06/1962</td>\n",
       "      <td>1</td>\n",
       "      <td>MA</td>\n",
       "      <td>Boston</td>\n",
       "      <td>11.0</td>\n",
       "      <td>262.0</td>\n",
       "      <td>10.0</td>\n",
       "      <td>8.0</td>\n",
       "      <td>11.0</td>\n",
       "      <td>87.0</td>\n",
       "      <td>146.0</td>\n",
       "    </tr>\n",
       "    <tr>\n",
       "      <th>1</th>\n",
       "      <td>1962</td>\n",
       "      <td>2</td>\n",
       "      <td>01/13/1962</td>\n",
       "      <td>1</td>\n",
       "      <td>MA</td>\n",
       "      <td>Boston</td>\n",
       "      <td>11.0</td>\n",
       "      <td>270.0</td>\n",
       "      <td>14.0</td>\n",
       "      <td>8.0</td>\n",
       "      <td>11.0</td>\n",
       "      <td>70.0</td>\n",
       "      <td>167.0</td>\n",
       "    </tr>\n",
       "    <tr>\n",
       "      <th>2</th>\n",
       "      <td>1962</td>\n",
       "      <td>3</td>\n",
       "      <td>01/20/1962</td>\n",
       "      <td>1</td>\n",
       "      <td>MA</td>\n",
       "      <td>Boston</td>\n",
       "      <td>5.0</td>\n",
       "      <td>237.0</td>\n",
       "      <td>11.0</td>\n",
       "      <td>8.0</td>\n",
       "      <td>10.0</td>\n",
       "      <td>66.0</td>\n",
       "      <td>142.0</td>\n",
       "    </tr>\n",
       "    <tr>\n",
       "      <th>3</th>\n",
       "      <td>1962</td>\n",
       "      <td>4</td>\n",
       "      <td>01/27/1962</td>\n",
       "      <td>1</td>\n",
       "      <td>MA</td>\n",
       "      <td>Boston</td>\n",
       "      <td>12.0</td>\n",
       "      <td>285.0</td>\n",
       "      <td>22.0</td>\n",
       "      <td>7.0</td>\n",
       "      <td>8.0</td>\n",
       "      <td>73.0</td>\n",
       "      <td>175.0</td>\n",
       "    </tr>\n",
       "    <tr>\n",
       "      <th>4</th>\n",
       "      <td>1962</td>\n",
       "      <td>5</td>\n",
       "      <td>02/03/1962</td>\n",
       "      <td>1</td>\n",
       "      <td>MA</td>\n",
       "      <td>Boston</td>\n",
       "      <td>5.0</td>\n",
       "      <td>245.0</td>\n",
       "      <td>15.0</td>\n",
       "      <td>9.0</td>\n",
       "      <td>17.0</td>\n",
       "      <td>62.0</td>\n",
       "      <td>142.0</td>\n",
       "    </tr>\n",
       "  </tbody>\n",
       "</table>\n",
       "</div>"
      ],
      "text/plain": [
       "   Year  WEEK Week Ending Date  REGION State    City  \\\n",
       "0  1962     1       01/06/1962       1    MA  Boston   \n",
       "1  1962     2       01/13/1962       1    MA  Boston   \n",
       "2  1962     3       01/20/1962       1    MA  Boston   \n",
       "3  1962     4       01/27/1962       1    MA  Boston   \n",
       "4  1962     5       02/03/1962       1    MA  Boston   \n",
       "\n",
       "   Pneumonia and Influenza Deaths  All Deaths  <1 year (all cause deaths)  \\\n",
       "0                            11.0       262.0                        10.0   \n",
       "1                            11.0       270.0                        14.0   \n",
       "2                             5.0       237.0                        11.0   \n",
       "3                            12.0       285.0                        22.0   \n",
       "4                             5.0       245.0                        15.0   \n",
       "\n",
       "   1-24 years (all cause deaths)  25-44 years  45-64 years (all cause deaths)  \\\n",
       "0                            8.0         11.0                            87.0   \n",
       "1                            8.0         11.0                            70.0   \n",
       "2                            8.0         10.0                            66.0   \n",
       "3                            7.0          8.0                            73.0   \n",
       "4                            9.0         17.0                            62.0   \n",
       "\n",
       "   65+ years (all cause deaths)  \n",
       "0                         146.0  \n",
       "1                         167.0  \n",
       "2                         142.0  \n",
       "3                         175.0  \n",
       "4                         142.0  "
      ]
     },
     "execution_count": 405,
     "metadata": {},
     "output_type": "execute_result"
    }
   ],
   "source": [
    "deathInUsCities.head()"
   ]
  },
  {
   "cell_type": "code",
   "execution_count": 305,
   "id": "563e9326-1a3a-4bd5-aff9-cdc10cb223af",
   "metadata": {},
   "outputs": [
    {
     "data": {
      "text/html": [
       "<div>\n",
       "<style scoped>\n",
       "    .dataframe tbody tr th:only-of-type {\n",
       "        vertical-align: middle;\n",
       "    }\n",
       "\n",
       "    .dataframe tbody tr th {\n",
       "        vertical-align: top;\n",
       "    }\n",
       "\n",
       "    .dataframe thead th {\n",
       "        text-align: right;\n",
       "    }\n",
       "</style>\n",
       "<table border=\"1\" class=\"dataframe\">\n",
       "  <thead>\n",
       "    <tr style=\"text-align: right;\">\n",
       "      <th></th>\n",
       "      <th>state</th>\n",
       "      <th>Postal Code</th>\n",
       "      <th>Year</th>\n",
       "      <th>population</th>\n",
       "    </tr>\n",
       "  </thead>\n",
       "  <tbody>\n",
       "    <tr>\n",
       "      <th>0</th>\n",
       "      <td>Alaska</td>\n",
       "      <td>AK</td>\n",
       "      <td>1950</td>\n",
       "      <td>0.135</td>\n",
       "    </tr>\n",
       "    <tr>\n",
       "      <th>1</th>\n",
       "      <td>Alaska</td>\n",
       "      <td>AK</td>\n",
       "      <td>1951</td>\n",
       "      <td>0.158</td>\n",
       "    </tr>\n",
       "    <tr>\n",
       "      <th>2</th>\n",
       "      <td>Alaska</td>\n",
       "      <td>AK</td>\n",
       "      <td>1952</td>\n",
       "      <td>0.189</td>\n",
       "    </tr>\n",
       "    <tr>\n",
       "      <th>3</th>\n",
       "      <td>Alaska</td>\n",
       "      <td>AK</td>\n",
       "      <td>1953</td>\n",
       "      <td>0.205</td>\n",
       "    </tr>\n",
       "    <tr>\n",
       "      <th>4</th>\n",
       "      <td>Alaska</td>\n",
       "      <td>AK</td>\n",
       "      <td>1954</td>\n",
       "      <td>0.215</td>\n",
       "    </tr>\n",
       "  </tbody>\n",
       "</table>\n",
       "</div>"
      ],
      "text/plain": [
       "    state Postal Code  Year  population\n",
       "0  Alaska          AK  1950       0.135\n",
       "1  Alaska          AK  1951       0.158\n",
       "2  Alaska          AK  1952       0.189\n",
       "3  Alaska          AK  1953       0.205\n",
       "4  Alaska          AK  1954       0.215"
      ]
     },
     "execution_count": 305,
     "metadata": {},
     "output_type": "execute_result"
    }
   ],
   "source": [
    "statepops.head()"
   ]
  },
  {
   "cell_type": "code",
   "execution_count": 306,
   "id": "9d0b15f9-fe50-493e-826e-d7c312bbe7dd",
   "metadata": {},
   "outputs": [],
   "source": [
    "LeadingCauses.columns = ['Year','Cause_Name_113','Cause_Name','State','Deaths','Age_adjusted_Death_Rate']"
   ]
  },
  {
   "cell_type": "code",
   "execution_count": 307,
   "id": "e66f33bc-8609-425b-a35a-705703524ae6",
   "metadata": {},
   "outputs": [],
   "source": [
    "deathInUsCities.columns = ['Year','WEEK', 'Week_Ending_Date', 'REGION', 'State', 'City', 'Pneumonia_and_Influenza_Deaths', 'All_Deaths', '<1_year_(all_cause_deaths)', '1-24_years_(all_cause_deaths)', '25-44_years', '45-64_years_(all_cause_deaths)', '65+_years_(all_cause_deaths)']"
   ]
  },
  {
   "cell_type": "code",
   "execution_count": 308,
   "id": "cb82e2e7-b320-4992-b2f5-37e5d9a324c1",
   "metadata": {},
   "outputs": [],
   "source": [
    "statepops.columns = ['State', 'Postal Code', 'Year', 'population'] "
   ]
  },
  {
   "cell_type": "code",
   "execution_count": 309,
   "id": "fff83b35-f7af-4f7a-918e-8f7baa72d927",
   "metadata": {},
   "outputs": [],
   "source": [
    "LeadingCauses = LeadingCauses.to_dict(orient=\"records\")"
   ]
  },
  {
   "cell_type": "code",
   "execution_count": 406,
   "id": "cd55315a-1e9b-495c-bf7b-64c4b6e7629d",
   "metadata": {},
   "outputs": [],
   "source": [
    "deathInUsCities = deathInUsCities.to_dict(orient=\"records\")"
   ]
  },
  {
   "cell_type": "code",
   "execution_count": 311,
   "id": "246c050c-eeba-405c-9358-2a93e0bd710c",
   "metadata": {},
   "outputs": [],
   "source": [
    "statepops = statepops.to_dict(orient=\"records\")"
   ]
  },
  {
   "cell_type": "markdown",
   "id": "6aa3288f-aeef-44ec-b6f5-c75f04bcd580",
   "metadata": {},
   "source": [
    "## Création des différentes collection"
   ]
  },
  {
   "cell_type": "code",
   "execution_count": 313,
   "id": "08d08540-8a36-4fbd-b4e7-cacc35bd8677",
   "metadata": {},
   "outputs": [],
   "source": [
    "# Importation de la libraires\n",
    "import pymongo\n",
    "\n",
    "# La connexion est ouverte au port 27017\n",
    "client = pymongo.MongoClient('localhost', 27017)\n",
    "\n",
    "# creation de la base de données \"projet\"\n",
    "mydb = client[\"MiniProjet2\"]\n",
    "\n",
    "# création d'une collection\n",
    "collection = mydb[\"LeadingCauses\"]\n"
   ]
  },
  {
   "cell_type": "code",
   "execution_count": 314,
   "id": "03f0732f-e758-4537-8082-d7377e846bd6",
   "metadata": {},
   "outputs": [
    {
     "data": {
      "text/plain": [
       "<pymongo.results.InsertManyResult at 0x1c10ef86af0>"
      ]
     },
     "execution_count": 314,
     "metadata": {},
     "output_type": "execute_result"
    }
   ],
   "source": [
    "collection.insert_many(LeadingCauses)"
   ]
  },
  {
   "cell_type": "code",
   "execution_count": 316,
   "id": "19317429-7ecb-419e-88e0-b853e3c10211",
   "metadata": {},
   "outputs": [
    {
     "data": {
      "text/plain": [
       "{'_id': ObjectId('63a8c99a8320cb5b2a74ac23'),\n",
       " 'Year': 2016,\n",
       " 'Cause_Name_113': 'Accidents (unintentional injuries) (V01-X59,Y85-Y86)',\n",
       " 'Cause_Name': 'Unintentional injuries',\n",
       " 'State': 'Alabama',\n",
       " 'Deaths': 2755,\n",
       " 'Age_adjusted_Death_Rate': 55.5}"
      ]
     },
     "execution_count": 316,
     "metadata": {},
     "output_type": "execute_result"
    }
   ],
   "source": [
    "doc = collection.find_one()\n",
    "doc"
   ]
  },
  {
   "cell_type": "code",
   "execution_count": 368,
   "id": "895bd0fe-b568-4782-bd9c-2a09bd126d59",
   "metadata": {},
   "outputs": [
    {
     "data": {
      "text/plain": [
       "<pymongo.results.InsertManyResult at 0x1c127cc1130>"
      ]
     },
     "execution_count": 368,
     "metadata": {},
     "output_type": "execute_result"
    }
   ],
   "source": [
    "# Importation de la libraires\n",
    "import pymongo\n",
    "\n",
    "# La connexion est ouverte au port 27017\n",
    "client = pymongo.MongoClient('localhost', 27017)\n",
    "\n",
    "# creation de la base de données \"projet\"\n",
    "mydb = client[\"MiniProjet2\"]\n",
    "\n",
    "# création d'une collection\n",
    "collection = mydb[\"statepops\"]\n",
    "collection.insert_many(statepops)"
   ]
  },
  {
   "cell_type": "code",
   "execution_count": 407,
   "id": "1c5fde24-258c-4e16-a982-b244dda2e1de",
   "metadata": {},
   "outputs": [
    {
     "data": {
      "text/plain": [
       "<pymongo.results.InsertManyResult at 0x1c1294e3af0>"
      ]
     },
     "execution_count": 407,
     "metadata": {},
     "output_type": "execute_result"
    }
   ],
   "source": [
    "# Importation de la libraires\n",
    "import pymongo\n",
    "\n",
    "# La connexion est ouverte au port 27017\n",
    "client = pymongo.MongoClient('localhost', 27017)\n",
    "\n",
    "# creation de la base de données \"projet\"\n",
    "mydb = client[\"MiniProjet2\"]\n",
    "\n",
    "# création d'une collection\n",
    "collection = mydb[\"deathInUsCities\"]\n",
    "collection.insert_many(deathInUsCities)"
   ]
  },
  {
   "cell_type": "markdown",
   "id": "31aec502-5862-4b2f-94a8-311b9848b2da",
   "metadata": {},
   "source": [
    "## Analyse catégorielle des causes de décès \n",
    "\n",
    "`Quelles sont les principales causes de décès ?`\n",
    "\n",
    "- J'ai utilisé aggreagate pour créer un pipeline permettant d'interroger les données de la collection LeadingCauses et de sauvegarder les données dans une nouvelle collection nommée totalnumofdeath.\n",
    "- PyMongo est utilisé pour interroger les données des bases de données et faire des visualisations."
   ]
  },
  {
   "cell_type": "code",
   "execution_count": 317,
   "id": "37fe351a-3164-497b-917a-390e3d8f0375",
   "metadata": {},
   "outputs": [],
   "source": [
    "query = [\n",
    "        {'$group': \n",
    "                  {'_id': \"$Cause_Name\", 'number_of_death': {'$sum' : \"$Deaths\"}}},  \n",
    "        {'$sort': {'number_of_death': -1 }},\n",
    "        {'$out': \"totalnumOfdeath\"}]\n",
    "\n",
    "documents = collection.aggregate(query)"
   ]
  },
  {
   "cell_type": "code",
   "execution_count": 318,
   "id": "1fc26efa-8c31-4bb9-8a80-93e3d7c2b5a8",
   "metadata": {},
   "outputs": [],
   "source": [
    "# creation de la base de données \"projet\"\n",
    "mydb = client[\"MiniProjet2\"]\n",
    "\n",
    "# création d'une collection\n",
    "collection = mydb[\"totalnumOfdeath\"]\n",
    "\n",
    "FIELDS = {'_id': True, 'number_of_death':True}\n",
    "\n",
    "numofdeath = collection.find(projection=FIELDS)\n",
    "numofdeath = list(numofdeath)\n",
    "\n",
    "numofdeath_df = pd.DataFrame(numofdeath)\n",
    "numofdeath_df.columns = ['cause', 'number of death']"
   ]
  },
  {
   "cell_type": "code",
   "execution_count": 319,
   "id": "093af32c-08cc-45ba-9bd9-a54b40055803",
   "metadata": {},
   "outputs": [
    {
     "data": {
      "text/html": [
       "<div>\n",
       "<style scoped>\n",
       "    .dataframe tbody tr th:only-of-type {\n",
       "        vertical-align: middle;\n",
       "    }\n",
       "\n",
       "    .dataframe tbody tr th {\n",
       "        vertical-align: top;\n",
       "    }\n",
       "\n",
       "    .dataframe thead th {\n",
       "        text-align: right;\n",
       "    }\n",
       "</style>\n",
       "<table border=\"1\" class=\"dataframe\">\n",
       "  <thead>\n",
       "    <tr style=\"text-align: right;\">\n",
       "      <th></th>\n",
       "      <th>cause</th>\n",
       "      <th>number of death</th>\n",
       "    </tr>\n",
       "  </thead>\n",
       "  <tbody>\n",
       "    <tr>\n",
       "      <th>0</th>\n",
       "      <td>All causes</td>\n",
       "      <td>89405359</td>\n",
       "    </tr>\n",
       "    <tr>\n",
       "      <th>1</th>\n",
       "      <td>Heart disease</td>\n",
       "      <td>23150366</td>\n",
       "    </tr>\n",
       "    <tr>\n",
       "      <th>2</th>\n",
       "      <td>Cancer</td>\n",
       "      <td>20489072</td>\n",
       "    </tr>\n",
       "    <tr>\n",
       "      <th>3</th>\n",
       "      <td>Stroke</td>\n",
       "      <td>5160280</td>\n",
       "    </tr>\n",
       "    <tr>\n",
       "      <th>4</th>\n",
       "      <td>CLRD</td>\n",
       "      <td>4869452</td>\n",
       "    </tr>\n",
       "    <tr>\n",
       "      <th>5</th>\n",
       "      <td>Unintentional injuries</td>\n",
       "      <td>4355768</td>\n",
       "    </tr>\n",
       "    <tr>\n",
       "      <th>6</th>\n",
       "      <td>Alzheimer's disease</td>\n",
       "      <td>2746824</td>\n",
       "    </tr>\n",
       "    <tr>\n",
       "      <th>7</th>\n",
       "      <td>Diabetes</td>\n",
       "      <td>2632758</td>\n",
       "    </tr>\n",
       "    <tr>\n",
       "      <th>8</th>\n",
       "      <td>Influenza and pneumonia</td>\n",
       "      <td>2077938</td>\n",
       "    </tr>\n",
       "    <tr>\n",
       "      <th>9</th>\n",
       "      <td>Kidney disease</td>\n",
       "      <td>1615960</td>\n",
       "    </tr>\n",
       "    <tr>\n",
       "      <th>10</th>\n",
       "      <td>Suicide</td>\n",
       "      <td>1299686</td>\n",
       "    </tr>\n",
       "  </tbody>\n",
       "</table>\n",
       "</div>"
      ],
      "text/plain": [
       "                      cause  number of death\n",
       "0                All causes         89405359\n",
       "1             Heart disease         23150366\n",
       "2                    Cancer         20489072\n",
       "3                    Stroke          5160280\n",
       "4                      CLRD          4869452\n",
       "5    Unintentional injuries          4355768\n",
       "6       Alzheimer's disease          2746824\n",
       "7                  Diabetes          2632758\n",
       "8   Influenza and pneumonia          2077938\n",
       "9            Kidney disease          1615960\n",
       "10                  Suicide          1299686"
      ]
     },
     "execution_count": 319,
     "metadata": {},
     "output_type": "execute_result"
    }
   ],
   "source": [
    "numofdeath_df"
   ]
  },
  {
   "cell_type": "code",
   "execution_count": 471,
   "id": "616b3bc5-2441-4748-9ce7-9cc83dad2b3a",
   "metadata": {},
   "outputs": [
    {
     "data": {
      "image/png": "[encoded data removed]",
      "text/plain": [
       "<Figure size 576x360 with 1 Axes>"
      ]
     },
     "metadata": {},
     "output_type": "display_data"
    }
   ],
   "source": [
    "import seaborn as sns\n",
    "import matplotlib.pyplot as plt\n",
    "\n",
    "plt.figure(figsize = (8,5))\n",
    "sns.set(style=\"whitegrid\")\n",
    "\n",
    "ax = sns.barplot(x=\"cause\", y=\"number of death\", data=numofdeath_df)\n",
    "ax.set_xticklabels(ax.get_xticklabels(), rotation=-30, ha = 'left')\n",
    "plt.xlabel(\"Causes\")\n",
    "plt.ylabel(\"Nombre de décès\")\n",
    "plt.title(\"Total de nombre de décès de 1999 à 2016\")\n",
    "plt.show()"
   ]
  },
  {
   "cell_type": "markdown",
   "id": "24ba8f4b-5e21-4ffd-bf7f-7e724b229d6b",
   "metadata": {},
   "source": [
    "`Analyse de données`\n",
    "\n",
    "- Le graphique montre le nombre total de décès de chaque cause de 1999 à 2016\n",
    "- Les maladies cardiaques et le cancer dominent la liste des causes de décès."
   ]
  },
  {
   "cell_type": "code",
   "execution_count": 342,
   "id": "a601e6a6-4f97-4a39-bb33-f8f569c0c888",
   "metadata": {},
   "outputs": [
    {
     "data": {
      "text/plain": [
       "{'_id': ObjectId('63a8c99a8320cb5b2a74ac23'),\n",
       " 'Year': 2016,\n",
       " 'Cause_Name_113': 'Accidents (unintentional injuries) (V01-X59,Y85-Y86)',\n",
       " 'Cause_Name': 'Unintentional injuries',\n",
       " 'State': 'Alabama',\n",
       " 'Deaths': 2755,\n",
       " 'Age_adjusted_Death_Rate': 55.5}"
      ]
     },
     "execution_count": 342,
     "metadata": {},
     "output_type": "execute_result"
    }
   ],
   "source": [
    "# creation de la base de données \"projet\"\n",
    "mydb = client[\"MiniProjet2\"]\n",
    "\n",
    "# création d'une collection\n",
    "collection = mydb[\"LeadingCauses\"]\n",
    "\n",
    "doc = collection.find_one()\n",
    "doc"
   ]
  },
  {
   "cell_type": "code",
   "execution_count": 343,
   "id": "98c5aa5f-2c32-4cbc-9236-8532b4bd689a",
   "metadata": {},
   "outputs": [
    {
     "data": {
      "text/html": [
       "<div>\n",
       "<style scoped>\n",
       "    .dataframe tbody tr th:only-of-type {\n",
       "        vertical-align: middle;\n",
       "    }\n",
       "\n",
       "    .dataframe tbody tr th {\n",
       "        vertical-align: top;\n",
       "    }\n",
       "\n",
       "    .dataframe thead th {\n",
       "        text-align: right;\n",
       "    }\n",
       "</style>\n",
       "<table border=\"1\" class=\"dataframe\">\n",
       "  <thead>\n",
       "    <tr style=\"text-align: right;\">\n",
       "      <th></th>\n",
       "      <th>_id</th>\n",
       "      <th>Age adjusted death rate</th>\n",
       "    </tr>\n",
       "  </thead>\n",
       "  <tbody>\n",
       "    <tr>\n",
       "      <th>0</th>\n",
       "      <td>Mississippi</td>\n",
       "      <td>279.661111</td>\n",
       "    </tr>\n",
       "    <tr>\n",
       "      <th>1</th>\n",
       "      <td>Oklahoma</td>\n",
       "      <td>261.305556</td>\n",
       "    </tr>\n",
       "    <tr>\n",
       "      <th>2</th>\n",
       "      <td>Alabama</td>\n",
       "      <td>256.183333</td>\n",
       "    </tr>\n",
       "    <tr>\n",
       "      <th>3</th>\n",
       "      <td>District of Columbia</td>\n",
       "      <td>250.450000</td>\n",
       "    </tr>\n",
       "    <tr>\n",
       "      <th>4</th>\n",
       "      <td>Louisiana</td>\n",
       "      <td>244.083333</td>\n",
       "    </tr>\n",
       "    <tr>\n",
       "      <th>5</th>\n",
       "      <td>Arkansas</td>\n",
       "      <td>242.627778</td>\n",
       "    </tr>\n",
       "    <tr>\n",
       "      <th>6</th>\n",
       "      <td>West Virginia</td>\n",
       "      <td>241.622222</td>\n",
       "    </tr>\n",
       "    <tr>\n",
       "      <th>7</th>\n",
       "      <td>Kentucky</td>\n",
       "      <td>240.916667</td>\n",
       "    </tr>\n",
       "    <tr>\n",
       "      <th>8</th>\n",
       "      <td>Tennessee</td>\n",
       "      <td>238.888889</td>\n",
       "    </tr>\n",
       "    <tr>\n",
       "      <th>9</th>\n",
       "      <td>New York</td>\n",
       "      <td>230.577778</td>\n",
       "    </tr>\n",
       "    <tr>\n",
       "      <th>10</th>\n",
       "      <td>Michigan</td>\n",
       "      <td>230.333333</td>\n",
       "    </tr>\n",
       "    <tr>\n",
       "      <th>11</th>\n",
       "      <td>Missouri</td>\n",
       "      <td>229.355556</td>\n",
       "    </tr>\n",
       "    <tr>\n",
       "      <th>12</th>\n",
       "      <td>Nevada</td>\n",
       "      <td>221.488889</td>\n",
       "    </tr>\n",
       "    <tr>\n",
       "      <th>13</th>\n",
       "      <td>Ohio</td>\n",
       "      <td>220.044444</td>\n",
       "    </tr>\n",
       "    <tr>\n",
       "      <th>14</th>\n",
       "      <td>Georgia</td>\n",
       "      <td>218.311111</td>\n",
       "    </tr>\n",
       "    <tr>\n",
       "      <th>15</th>\n",
       "      <td>Indiana</td>\n",
       "      <td>216.677778</td>\n",
       "    </tr>\n",
       "    <tr>\n",
       "      <th>16</th>\n",
       "      <td>Pennsylvania</td>\n",
       "      <td>213.633333</td>\n",
       "    </tr>\n",
       "    <tr>\n",
       "      <th>17</th>\n",
       "      <td>South Carolina</td>\n",
       "      <td>210.205556</td>\n",
       "    </tr>\n",
       "    <tr>\n",
       "      <th>18</th>\n",
       "      <td>Illinois</td>\n",
       "      <td>206.938889</td>\n",
       "    </tr>\n",
       "    <tr>\n",
       "      <th>19</th>\n",
       "      <td>Texas</td>\n",
       "      <td>206.855556</td>\n",
       "    </tr>\n",
       "    <tr>\n",
       "      <th>20</th>\n",
       "      <td>Delaware</td>\n",
       "      <td>206.272222</td>\n",
       "    </tr>\n",
       "    <tr>\n",
       "      <th>21</th>\n",
       "      <td>Maryland</td>\n",
       "      <td>205.016667</td>\n",
       "    </tr>\n",
       "    <tr>\n",
       "      <th>22</th>\n",
       "      <td>New Jersey</td>\n",
       "      <td>204.811111</td>\n",
       "    </tr>\n",
       "    <tr>\n",
       "      <th>23</th>\n",
       "      <td>United States</td>\n",
       "      <td>203.527778</td>\n",
       "    </tr>\n",
       "    <tr>\n",
       "      <th>24</th>\n",
       "      <td>North Carolina</td>\n",
       "      <td>198.727778</td>\n",
       "    </tr>\n",
       "    <tr>\n",
       "      <th>25</th>\n",
       "      <td>Rhode Island</td>\n",
       "      <td>198.616667</td>\n",
       "    </tr>\n",
       "    <tr>\n",
       "      <th>26</th>\n",
       "      <td>Virginia</td>\n",
       "      <td>191.027778</td>\n",
       "    </tr>\n",
       "    <tr>\n",
       "      <th>27</th>\n",
       "      <td>Iowa</td>\n",
       "      <td>189.500000</td>\n",
       "    </tr>\n",
       "    <tr>\n",
       "      <th>28</th>\n",
       "      <td>California</td>\n",
       "      <td>187.833333</td>\n",
       "    </tr>\n",
       "    <tr>\n",
       "      <th>29</th>\n",
       "      <td>Kansas</td>\n",
       "      <td>185.794444</td>\n",
       "    </tr>\n",
       "    <tr>\n",
       "      <th>30</th>\n",
       "      <td>Florida</td>\n",
       "      <td>185.455556</td>\n",
       "    </tr>\n",
       "    <tr>\n",
       "      <th>31</th>\n",
       "      <td>Wisconsin</td>\n",
       "      <td>184.555556</td>\n",
       "    </tr>\n",
       "    <tr>\n",
       "      <th>32</th>\n",
       "      <td>Wyoming</td>\n",
       "      <td>183.305556</td>\n",
       "    </tr>\n",
       "    <tr>\n",
       "      <th>33</th>\n",
       "      <td>New Hampshire</td>\n",
       "      <td>181.505556</td>\n",
       "    </tr>\n",
       "    <tr>\n",
       "      <th>34</th>\n",
       "      <td>South Dakota</td>\n",
       "      <td>180.033333</td>\n",
       "    </tr>\n",
       "    <tr>\n",
       "      <th>35</th>\n",
       "      <td>Maine</td>\n",
       "      <td>178.061111</td>\n",
       "    </tr>\n",
       "    <tr>\n",
       "      <th>36</th>\n",
       "      <td>Connecticut</td>\n",
       "      <td>177.850000</td>\n",
       "    </tr>\n",
       "    <tr>\n",
       "      <th>37</th>\n",
       "      <td>Vermont</td>\n",
       "      <td>177.505556</td>\n",
       "    </tr>\n",
       "    <tr>\n",
       "      <th>38</th>\n",
       "      <td>Idaho</td>\n",
       "      <td>175.216667</td>\n",
       "    </tr>\n",
       "    <tr>\n",
       "      <th>39</th>\n",
       "      <td>North Dakota</td>\n",
       "      <td>174.188889</td>\n",
       "    </tr>\n",
       "    <tr>\n",
       "      <th>40</th>\n",
       "      <td>Nebraska</td>\n",
       "      <td>174.000000</td>\n",
       "    </tr>\n",
       "    <tr>\n",
       "      <th>41</th>\n",
       "      <td>Arizona</td>\n",
       "      <td>171.805556</td>\n",
       "    </tr>\n",
       "    <tr>\n",
       "      <th>42</th>\n",
       "      <td>Montana</td>\n",
       "      <td>171.444444</td>\n",
       "    </tr>\n",
       "    <tr>\n",
       "      <th>43</th>\n",
       "      <td>Massachusetts</td>\n",
       "      <td>170.994444</td>\n",
       "    </tr>\n",
       "    <tr>\n",
       "      <th>44</th>\n",
       "      <td>New Mexico</td>\n",
       "      <td>170.794444</td>\n",
       "    </tr>\n",
       "    <tr>\n",
       "      <th>45</th>\n",
       "      <td>Washington</td>\n",
       "      <td>167.655556</td>\n",
       "    </tr>\n",
       "    <tr>\n",
       "      <th>46</th>\n",
       "      <td>Utah</td>\n",
       "      <td>163.461111</td>\n",
       "    </tr>\n",
       "    <tr>\n",
       "      <th>47</th>\n",
       "      <td>Alaska</td>\n",
       "      <td>162.661111</td>\n",
       "    </tr>\n",
       "    <tr>\n",
       "      <th>48</th>\n",
       "      <td>Oregon</td>\n",
       "      <td>159.444444</td>\n",
       "    </tr>\n",
       "    <tr>\n",
       "      <th>49</th>\n",
       "      <td>Hawaii</td>\n",
       "      <td>156.855556</td>\n",
       "    </tr>\n",
       "    <tr>\n",
       "      <th>50</th>\n",
       "      <td>Colorado</td>\n",
       "      <td>152.172222</td>\n",
       "    </tr>\n",
       "    <tr>\n",
       "      <th>51</th>\n",
       "      <td>Minnesota</td>\n",
       "      <td>138.427778</td>\n",
       "    </tr>\n",
       "  </tbody>\n",
       "</table>\n",
       "</div>"
      ],
      "text/plain": [
       "                     _id  Age adjusted death rate\n",
       "0            Mississippi               279.661111\n",
       "1               Oklahoma               261.305556\n",
       "2                Alabama               256.183333\n",
       "3   District of Columbia               250.450000\n",
       "4              Louisiana               244.083333\n",
       "5               Arkansas               242.627778\n",
       "6          West Virginia               241.622222\n",
       "7               Kentucky               240.916667\n",
       "8              Tennessee               238.888889\n",
       "9               New York               230.577778\n",
       "10              Michigan               230.333333\n",
       "11              Missouri               229.355556\n",
       "12                Nevada               221.488889\n",
       "13                  Ohio               220.044444\n",
       "14               Georgia               218.311111\n",
       "15               Indiana               216.677778\n",
       "16          Pennsylvania               213.633333\n",
       "17        South Carolina               210.205556\n",
       "18              Illinois               206.938889\n",
       "19                 Texas               206.855556\n",
       "20              Delaware               206.272222\n",
       "21              Maryland               205.016667\n",
       "22            New Jersey               204.811111\n",
       "23         United States               203.527778\n",
       "24        North Carolina               198.727778\n",
       "25          Rhode Island               198.616667\n",
       "26              Virginia               191.027778\n",
       "27                  Iowa               189.500000\n",
       "28            California               187.833333\n",
       "29                Kansas               185.794444\n",
       "30               Florida               185.455556\n",
       "31             Wisconsin               184.555556\n",
       "32               Wyoming               183.305556\n",
       "33         New Hampshire               181.505556\n",
       "34          South Dakota               180.033333\n",
       "35                 Maine               178.061111\n",
       "36           Connecticut               177.850000\n",
       "37               Vermont               177.505556\n",
       "38                 Idaho               175.216667\n",
       "39          North Dakota               174.188889\n",
       "40              Nebraska               174.000000\n",
       "41               Arizona               171.805556\n",
       "42               Montana               171.444444\n",
       "43         Massachusetts               170.994444\n",
       "44            New Mexico               170.794444\n",
       "45            Washington               167.655556\n",
       "46                  Utah               163.461111\n",
       "47                Alaska               162.661111\n",
       "48                Oregon               159.444444\n",
       "49                Hawaii               156.855556\n",
       "50              Colorado               152.172222\n",
       "51             Minnesota               138.427778"
      ]
     },
     "execution_count": 343,
     "metadata": {},
     "output_type": "execute_result"
    }
   ],
   "source": [
    "query = [{\"$match\": {\"Cause_Name\":'Heart disease'}},\n",
    "        {\"$group\": {\"_id\": \"$State\", \"Age adjusted death rate\": {\"$avg\": \"$Age_adjusted_Death_Rate\"}}},\n",
    "        {\"$sort\": {\"Age adjusted death rate\": -1}},\n",
    "        {\"$out\": \"heartDisease\"}]\n",
    "\n",
    "documents = collection.aggregate(query)\n",
    "\n",
    "# creation de la base de données \"projet\"\n",
    "mydb = client[\"MiniProjet2\"]\n",
    "\n",
    "# création d'une collection\n",
    "collection = mydb[\"heartDisease\"]\n",
    "\n",
    "FIELDS = {'_id': True, 'Age adjusted death rate':True}\n",
    "\n",
    "numofdeath = collection.find(projection=FIELDS)\n",
    "numofdeath = list(numofdeath)\n",
    "\n",
    "#numofdeath_df = pd.DataFrame(numofdeath)\n",
    "#numofdeath_df.columns = ['cause', 'number of death']\n",
    "\n",
    "pd.DataFrame(numofdeath)"
   ]
  },
  {
   "cell_type": "markdown",
   "id": "2860224d-ac02-4d47-9720-60b28d93a27b",
   "metadata": {},
   "source": [
    "## Évolution du taux de mortalité corrigé de l'âge du cancer et des maladies cardiaques au fil du temps\n",
    "\n",
    "`Comment le taux de mortalité du cancer et des maladies cardiaques évolue-t-il dans le temps ?`\n",
    "\n",
    "- Utilisez l'agrégation pour créer un pipeline et sauvegardez-le dans une nouvelle collection.\n",
    "- Exportation de la collection CancerandHeart dans un fichier csv\n",
    "- Utilisation de Pymongo pour l'interrogation et la visualisation."
   ]
  },
  {
   "cell_type": "code",
   "execution_count": 362,
   "id": "bcd36f95-33bb-4ddf-aff2-bef74c05dadf",
   "metadata": {},
   "outputs": [],
   "source": [
    "mydb = client[\"MiniProjet2\"]\n",
    "collection = mydb[\"LeadingCauses\"]\n",
    "\n",
    "query = [    \n",
    "        {\"$match\": {\"$or\" : [ {\"Cause_Name\": \"Cancer\"} , {\"Cause_Name\": \"Heart disease\"}] }},\n",
    "        {\"$match\": { \"State\" : \"United States\"}},\n",
    "        {\"$sort\" : {\"Year\": 1}},\n",
    "        {\"$out\": \"CancerandHeart\"}\n",
    "        ]\n",
    "\n",
    "documents = collection.aggregate(query)\n",
    "\n",
    "FIELDS = {'Year': True, \"Cause_Name\":True, \"Age_adjusted_Death_Rate\":True}\n",
    "\n",
    "\n",
    "mydb = client[\"MiniProjet2\"]\n",
    "collection = mydb[\"CancerandHeart\"]\n",
    "\n",
    "ageadejusted = collection.find(projection=FIELDS)\n",
    "ageadejusted = list(ageadejusted)\n",
    "\n",
    "\n"
   ]
  },
  {
   "cell_type": "code",
   "execution_count": 363,
   "id": "cd533097-81b7-429f-9674-69ac816b8452",
   "metadata": {},
   "outputs": [
    {
     "data": {
      "text/html": [
       "<div>\n",
       "<style scoped>\n",
       "    .dataframe tbody tr th:only-of-type {\n",
       "        vertical-align: middle;\n",
       "    }\n",
       "\n",
       "    .dataframe tbody tr th {\n",
       "        vertical-align: top;\n",
       "    }\n",
       "\n",
       "    .dataframe thead th {\n",
       "        text-align: right;\n",
       "    }\n",
       "</style>\n",
       "<table border=\"1\" class=\"dataframe\">\n",
       "  <thead>\n",
       "    <tr style=\"text-align: right;\">\n",
       "      <th></th>\n",
       "      <th>Year</th>\n",
       "      <th>Cause_Name</th>\n",
       "      <th>Age_adjusted_Death_Rate</th>\n",
       "    </tr>\n",
       "  </thead>\n",
       "  <tbody>\n",
       "    <tr>\n",
       "      <th>0</th>\n",
       "      <td>1999</td>\n",
       "      <td>Cancer</td>\n",
       "      <td>200.8</td>\n",
       "    </tr>\n",
       "    <tr>\n",
       "      <th>1</th>\n",
       "      <td>1999</td>\n",
       "      <td>Heart disease</td>\n",
       "      <td>266.5</td>\n",
       "    </tr>\n",
       "    <tr>\n",
       "      <th>2</th>\n",
       "      <td>2000</td>\n",
       "      <td>Cancer</td>\n",
       "      <td>199.6</td>\n",
       "    </tr>\n",
       "    <tr>\n",
       "      <th>3</th>\n",
       "      <td>2000</td>\n",
       "      <td>Heart disease</td>\n",
       "      <td>257.6</td>\n",
       "    </tr>\n",
       "    <tr>\n",
       "      <th>4</th>\n",
       "      <td>2001</td>\n",
       "      <td>Cancer</td>\n",
       "      <td>196.5</td>\n",
       "    </tr>\n",
       "    <tr>\n",
       "      <th>5</th>\n",
       "      <td>2001</td>\n",
       "      <td>Heart disease</td>\n",
       "      <td>249.5</td>\n",
       "    </tr>\n",
       "    <tr>\n",
       "      <th>6</th>\n",
       "      <td>2002</td>\n",
       "      <td>Cancer</td>\n",
       "      <td>194.3</td>\n",
       "    </tr>\n",
       "    <tr>\n",
       "      <th>7</th>\n",
       "      <td>2002</td>\n",
       "      <td>Heart disease</td>\n",
       "      <td>244.6</td>\n",
       "    </tr>\n",
       "    <tr>\n",
       "      <th>8</th>\n",
       "      <td>2003</td>\n",
       "      <td>Cancer</td>\n",
       "      <td>190.9</td>\n",
       "    </tr>\n",
       "    <tr>\n",
       "      <th>9</th>\n",
       "      <td>2003</td>\n",
       "      <td>Heart disease</td>\n",
       "      <td>236.3</td>\n",
       "    </tr>\n",
       "    <tr>\n",
       "      <th>10</th>\n",
       "      <td>2004</td>\n",
       "      <td>Cancer</td>\n",
       "      <td>186.8</td>\n",
       "    </tr>\n",
       "    <tr>\n",
       "      <th>11</th>\n",
       "      <td>2004</td>\n",
       "      <td>Heart disease</td>\n",
       "      <td>221.6</td>\n",
       "    </tr>\n",
       "    <tr>\n",
       "      <th>12</th>\n",
       "      <td>2005</td>\n",
       "      <td>Cancer</td>\n",
       "      <td>185.1</td>\n",
       "    </tr>\n",
       "    <tr>\n",
       "      <th>13</th>\n",
       "      <td>2005</td>\n",
       "      <td>Heart disease</td>\n",
       "      <td>216.8</td>\n",
       "    </tr>\n",
       "    <tr>\n",
       "      <th>14</th>\n",
       "      <td>2006</td>\n",
       "      <td>Cancer</td>\n",
       "      <td>181.8</td>\n",
       "    </tr>\n",
       "    <tr>\n",
       "      <th>15</th>\n",
       "      <td>2006</td>\n",
       "      <td>Heart disease</td>\n",
       "      <td>205.5</td>\n",
       "    </tr>\n",
       "    <tr>\n",
       "      <th>16</th>\n",
       "      <td>2007</td>\n",
       "      <td>Cancer</td>\n",
       "      <td>179.3</td>\n",
       "    </tr>\n",
       "    <tr>\n",
       "      <th>17</th>\n",
       "      <td>2007</td>\n",
       "      <td>Heart disease</td>\n",
       "      <td>196.1</td>\n",
       "    </tr>\n",
       "    <tr>\n",
       "      <th>18</th>\n",
       "      <td>2008</td>\n",
       "      <td>Cancer</td>\n",
       "      <td>176.4</td>\n",
       "    </tr>\n",
       "    <tr>\n",
       "      <th>19</th>\n",
       "      <td>2008</td>\n",
       "      <td>Heart disease</td>\n",
       "      <td>192.1</td>\n",
       "    </tr>\n",
       "    <tr>\n",
       "      <th>20</th>\n",
       "      <td>2009</td>\n",
       "      <td>Cancer</td>\n",
       "      <td>173.5</td>\n",
       "    </tr>\n",
       "    <tr>\n",
       "      <th>21</th>\n",
       "      <td>2009</td>\n",
       "      <td>Heart disease</td>\n",
       "      <td>182.8</td>\n",
       "    </tr>\n",
       "    <tr>\n",
       "      <th>22</th>\n",
       "      <td>2010</td>\n",
       "      <td>Cancer</td>\n",
       "      <td>172.8</td>\n",
       "    </tr>\n",
       "    <tr>\n",
       "      <th>23</th>\n",
       "      <td>2010</td>\n",
       "      <td>Heart disease</td>\n",
       "      <td>179.1</td>\n",
       "    </tr>\n",
       "    <tr>\n",
       "      <th>24</th>\n",
       "      <td>2011</td>\n",
       "      <td>Cancer</td>\n",
       "      <td>169.0</td>\n",
       "    </tr>\n",
       "    <tr>\n",
       "      <th>25</th>\n",
       "      <td>2011</td>\n",
       "      <td>Heart disease</td>\n",
       "      <td>173.7</td>\n",
       "    </tr>\n",
       "    <tr>\n",
       "      <th>26</th>\n",
       "      <td>2012</td>\n",
       "      <td>Cancer</td>\n",
       "      <td>166.5</td>\n",
       "    </tr>\n",
       "    <tr>\n",
       "      <th>27</th>\n",
       "      <td>2012</td>\n",
       "      <td>Heart disease</td>\n",
       "      <td>170.5</td>\n",
       "    </tr>\n",
       "    <tr>\n",
       "      <th>28</th>\n",
       "      <td>2013</td>\n",
       "      <td>Cancer</td>\n",
       "      <td>163.2</td>\n",
       "    </tr>\n",
       "    <tr>\n",
       "      <th>29</th>\n",
       "      <td>2013</td>\n",
       "      <td>Heart disease</td>\n",
       "      <td>169.8</td>\n",
       "    </tr>\n",
       "    <tr>\n",
       "      <th>30</th>\n",
       "      <td>2014</td>\n",
       "      <td>Cancer</td>\n",
       "      <td>161.2</td>\n",
       "    </tr>\n",
       "    <tr>\n",
       "      <th>31</th>\n",
       "      <td>2014</td>\n",
       "      <td>Heart disease</td>\n",
       "      <td>167.0</td>\n",
       "    </tr>\n",
       "    <tr>\n",
       "      <th>32</th>\n",
       "      <td>2015</td>\n",
       "      <td>Cancer</td>\n",
       "      <td>158.5</td>\n",
       "    </tr>\n",
       "    <tr>\n",
       "      <th>33</th>\n",
       "      <td>2015</td>\n",
       "      <td>Heart disease</td>\n",
       "      <td>168.5</td>\n",
       "    </tr>\n",
       "    <tr>\n",
       "      <th>34</th>\n",
       "      <td>2016</td>\n",
       "      <td>Cancer</td>\n",
       "      <td>155.8</td>\n",
       "    </tr>\n",
       "    <tr>\n",
       "      <th>35</th>\n",
       "      <td>2016</td>\n",
       "      <td>Heart disease</td>\n",
       "      <td>165.5</td>\n",
       "    </tr>\n",
       "  </tbody>\n",
       "</table>\n",
       "</div>"
      ],
      "text/plain": [
       "    Year     Cause_Name  Age_adjusted_Death_Rate\n",
       "0   1999         Cancer                    200.8\n",
       "1   1999  Heart disease                    266.5\n",
       "2   2000         Cancer                    199.6\n",
       "3   2000  Heart disease                    257.6\n",
       "4   2001         Cancer                    196.5\n",
       "5   2001  Heart disease                    249.5\n",
       "6   2002         Cancer                    194.3\n",
       "7   2002  Heart disease                    244.6\n",
       "8   2003         Cancer                    190.9\n",
       "9   2003  Heart disease                    236.3\n",
       "10  2004         Cancer                    186.8\n",
       "11  2004  Heart disease                    221.6\n",
       "12  2005         Cancer                    185.1\n",
       "13  2005  Heart disease                    216.8\n",
       "14  2006         Cancer                    181.8\n",
       "15  2006  Heart disease                    205.5\n",
       "16  2007         Cancer                    179.3\n",
       "17  2007  Heart disease                    196.1\n",
       "18  2008         Cancer                    176.4\n",
       "19  2008  Heart disease                    192.1\n",
       "20  2009         Cancer                    173.5\n",
       "21  2009  Heart disease                    182.8\n",
       "22  2010         Cancer                    172.8\n",
       "23  2010  Heart disease                    179.1\n",
       "24  2011         Cancer                    169.0\n",
       "25  2011  Heart disease                    173.7\n",
       "26  2012         Cancer                    166.5\n",
       "27  2012  Heart disease                    170.5\n",
       "28  2013         Cancer                    163.2\n",
       "29  2013  Heart disease                    169.8\n",
       "30  2014         Cancer                    161.2\n",
       "31  2014  Heart disease                    167.0\n",
       "32  2015         Cancer                    158.5\n",
       "33  2015  Heart disease                    168.5\n",
       "34  2016         Cancer                    155.8\n",
       "35  2016  Heart disease                    165.5"
      ]
     },
     "execution_count": 363,
     "metadata": {},
     "output_type": "execute_result"
    }
   ],
   "source": [
    "ageadejusted_df = pd.DataFrame(ageadejusted)\n",
    "ageadejusted_df = ageadejusted_df.drop(columns=['_id'])\n",
    "\n",
    "ageadejusted_df"
   ]
  },
  {
   "cell_type": "code",
   "execution_count": 361,
   "id": "002bfeb6-0c8d-421c-bc06-a48701a53dfa",
   "metadata": {},
   "outputs": [
    {
     "data": {
      "text/plain": [
       "Int64Index([1999, 1999, 2000, 2000, 2001, 2001, 2002, 2002, 2003, 2003, 2004,\n",
       "            2004, 2005, 2005, 2006, 2006, 2007, 2007, 2008, 2008, 2009, 2009,\n",
       "            2010, 2010, 2011, 2011, 2012, 2012, 2013, 2013, 2014, 2014, 2015,\n",
       "            2015, 2016, 2016],\n",
       "           dtype='int64', name='Year')"
      ]
     },
     "execution_count": 361,
     "metadata": {},
     "output_type": "execute_result"
    }
   ],
   "source": [
    "ageadejusted_df.index"
   ]
  },
  {
   "cell_type": "code",
   "execution_count": 474,
   "id": "d109b9a9-9711-4911-af7a-982f79be76e2",
   "metadata": {},
   "outputs": [
    {
     "data": {
      "image/png": "[encoded data removed]",
      "text/plain": [
       "<Figure size 914.4x595.44 with 1 Axes>"
      ]
     },
     "metadata": {},
     "output_type": "display_data"
    }
   ],
   "source": [
    "import seaborn as sns\n",
    "import matplotlib.pyplot as plt\n",
    "from matplotlib.ticker import MaxNLocator\n",
    "\n",
    "fig, ax = plt.subplots()\n",
    "fig.set_size_inches(12.7, 8.27)\n",
    "ax = sns.lineplot(x= \"Year\", y=\"Age_adjusted_Death_Rate\",\n",
    "             hue=\"Cause_Name\",\n",
    "             data=ageadejusted_df)\n",
    "plt.xlabel(\"Année\")\n",
    "plt.ylabel(\"Age ajusté par taux de décès\")\n",
    "plt.title(\"Age ajusté par taux de décès de 1999 à 2016\")\n",
    "plt.show()"
   ]
  },
  {
   "cell_type": "markdown",
   "id": "263cde65-173d-49ed-bb51-1d2856a00989",
   "metadata": {},
   "source": [
    "`Analyse de données`\n",
    "\n",
    "\n",
    "- Le cancer et les maladies cardiaques sont au centre de l'attention car ils ont dominé les autres causes de décès.\n",
    "- Le cancer et les maladies cardiaques ont diminué au fil du temps, probablement en raison des progrès technologiques.\n",
    "- Les maladies cardiaques avaient un taux de mortalité élevé en 1999 et ont rapidement diminué au cours de la dernière décennie."
   ]
  },
  {
   "cell_type": "code",
   "execution_count": 388,
   "id": "138b1cc5-cf64-49e5-ab12-463fea0d7e75",
   "metadata": {},
   "outputs": [
    {
     "data": {
      "text/plain": [
       "{'_id': ObjectId('63a8c99a8320cb5b2a74ac23'),\n",
       " 'Year': 2016,\n",
       " 'Cause_Name_113': 'Accidents (unintentional injuries) (V01-X59,Y85-Y86)',\n",
       " 'Cause_Name': 'Unintentional injuries',\n",
       " 'State': 'Alabama',\n",
       " 'Deaths': 2755,\n",
       " 'Age_adjusted_Death_Rate': 55.5}"
      ]
     },
     "execution_count": 388,
     "metadata": {},
     "output_type": "execute_result"
    }
   ],
   "source": [
    "mydb = client[\"MiniProjet2\"]\n",
    "collection = mydb[\"LeadingCauses\"]\n",
    "\n",
    "collection.find_one()"
   ]
  },
  {
   "cell_type": "markdown",
   "id": "c16135b8-f4c2-47f8-8f13-d88a9347dc17",
   "metadata": {},
   "source": [
    "## Analyse généralisée de la mortalité par localisation\n",
    "`Quels États ont le plus grand nombre de décès, toutes causes confondues ?`\n",
    "\n",
    "1. Analyse des différents taux de mortalité au niveau des États.\n",
    "2. Comparaison entre le nombre total de décès et la population totale des différents États.\n",
    "3. Création d'une visualisation convaincante à l'aide de MongoDB pour représenter les grandes variations des données."
   ]
  },
  {
   "cell_type": "code",
   "execution_count": 391,
   "id": "fb6dc427-2745-4893-ab01-97258b31a1c0",
   "metadata": {},
   "outputs": [],
   "source": [
    "mydb = client[\"MiniProjet2\"]\n",
    "collection = mydb[\"LeadingCauses\"]\n",
    "\n",
    "query = [    \n",
    "        {\"$match\": {\"Cause_Name\":\"All causes\"}},\n",
    "        {\"$group\": {\"_id\": \"$State\", \"Deaths\": {\"$avg\": \"$Deaths\"}}},\n",
    "        {\"$sort\" : {\"Deaths\": -1}},\n",
    "        {\"$skip\" : 1},\n",
    "        {\"$out\": \"avgDeathbyST\"}\n",
    "    ]\n",
    "\n",
    "documents = collection.aggregate(query)\n",
    "\n",
    "FIELDS = {'_id': True, 'Deaths':True}\n",
    "\n",
    "mydb = client[\"MiniProjet2\"]\n",
    "collection = mydb[\"avgDeathbyST\"]\n",
    "\n",
    "avgDeath = collection.find(projection=FIELDS)\n",
    "avgDeath = list(avgDeath)\n",
    "\n"
   ]
  },
  {
   "cell_type": "code",
   "execution_count": 393,
   "id": "1dade47e-6e9a-43cd-8c5c-abb31d98d597",
   "metadata": {},
   "outputs": [],
   "source": [
    "mydb = client[\"MiniProjet2\"]\n",
    "collection = mydb[\"statepops\"]\n",
    "\n",
    "query = ([\n",
    "    {\"$match\": {\"Year\": {\"$gt\": 1998}}},\n",
    "    {\"$group\": {\n",
    "                \"_id\": \"$State\",\n",
    "                \"population\": {\"$avg\":{\"$multiply\": [\"$population\" , 1000000]}},\n",
    "                }\n",
    "    },\n",
    "    {\"$sort\" : {\"population\": -1}},\n",
    "    {\"$out\": \"popperstate\"}\n",
    "])\n",
    "\n",
    "documents = collection.aggregate(query)\n",
    "\n",
    "FIELDS = {'_id': True, \"population\":True}\n",
    "\n",
    "mydb = client[\"MiniProjet2\"]\n",
    "collection = mydb[\"popperstate\"]\n",
    "\n",
    "PopPerState = collection.find(projection=FIELDS)\n",
    "PopPerState = list(PopPerState)\n",
    "\n"
   ]
  },
  {
   "cell_type": "code",
   "execution_count": 394,
   "id": "ea0069cd-570a-4d40-a339-3651b8c80867",
   "metadata": {},
   "outputs": [],
   "source": [
    "avgDeath_df = pd.DataFrame(avgDeath)\n",
    "PopPerState_df = pd.DataFrame(PopPerState)\n",
    "\n",
    "\n"
   ]
  },
  {
   "cell_type": "code",
   "execution_count": 395,
   "id": "5bb46e00-5a7f-4e55-872f-04e06eee413e",
   "metadata": {},
   "outputs": [
    {
     "data": {
      "text/html": [
       "<div>\n",
       "<style scoped>\n",
       "    .dataframe tbody tr th:only-of-type {\n",
       "        vertical-align: middle;\n",
       "    }\n",
       "\n",
       "    .dataframe tbody tr th {\n",
       "        vertical-align: top;\n",
       "    }\n",
       "\n",
       "    .dataframe thead th {\n",
       "        text-align: right;\n",
       "    }\n",
       "</style>\n",
       "<table border=\"1\" class=\"dataframe\">\n",
       "  <thead>\n",
       "    <tr style=\"text-align: right;\">\n",
       "      <th></th>\n",
       "      <th>_id</th>\n",
       "      <th>Deaths</th>\n",
       "    </tr>\n",
       "  </thead>\n",
       "  <tbody>\n",
       "    <tr>\n",
       "      <th>0</th>\n",
       "      <td>California</td>\n",
       "      <td>239281.277778</td>\n",
       "    </tr>\n",
       "    <tr>\n",
       "      <th>1</th>\n",
       "      <td>Florida</td>\n",
       "      <td>173951.277778</td>\n",
       "    </tr>\n",
       "    <tr>\n",
       "      <th>2</th>\n",
       "      <td>Texas</td>\n",
       "      <td>164957.055556</td>\n",
       "    </tr>\n",
       "    <tr>\n",
       "      <th>3</th>\n",
       "      <td>New York</td>\n",
       "      <td>152309.888889</td>\n",
       "    </tr>\n",
       "    <tr>\n",
       "      <th>4</th>\n",
       "      <td>Pennsylvania</td>\n",
       "      <td>128549.055556</td>\n",
       "    </tr>\n",
       "  </tbody>\n",
       "</table>\n",
       "</div>"
      ],
      "text/plain": [
       "            _id         Deaths\n",
       "0    California  239281.277778\n",
       "1       Florida  173951.277778\n",
       "2         Texas  164957.055556\n",
       "3      New York  152309.888889\n",
       "4  Pennsylvania  128549.055556"
      ]
     },
     "execution_count": 395,
     "metadata": {},
     "output_type": "execute_result"
    }
   ],
   "source": [
    "avgDeath_df.head()"
   ]
  },
  {
   "cell_type": "code",
   "execution_count": 396,
   "id": "fd4cb37b-5506-4cfd-8e4a-fea2a5f2438c",
   "metadata": {},
   "outputs": [
    {
     "data": {
      "text/html": [
       "<div>\n",
       "<style scoped>\n",
       "    .dataframe tbody tr th:only-of-type {\n",
       "        vertical-align: middle;\n",
       "    }\n",
       "\n",
       "    .dataframe tbody tr th {\n",
       "        vertical-align: top;\n",
       "    }\n",
       "\n",
       "    .dataframe thead th {\n",
       "        text-align: right;\n",
       "    }\n",
       "</style>\n",
       "<table border=\"1\" class=\"dataframe\">\n",
       "  <thead>\n",
       "    <tr style=\"text-align: right;\">\n",
       "      <th></th>\n",
       "      <th>_id</th>\n",
       "      <th>population</th>\n",
       "    </tr>\n",
       "  </thead>\n",
       "  <tbody>\n",
       "    <tr>\n",
       "      <th>0</th>\n",
       "      <td>California</td>\n",
       "      <td>3.667951e+07</td>\n",
       "    </tr>\n",
       "    <tr>\n",
       "      <th>1</th>\n",
       "      <td>Texas</td>\n",
       "      <td>2.429297e+07</td>\n",
       "    </tr>\n",
       "    <tr>\n",
       "      <th>2</th>\n",
       "      <td>New York</td>\n",
       "      <td>1.932651e+07</td>\n",
       "    </tr>\n",
       "    <tr>\n",
       "      <th>3</th>\n",
       "      <td>Florida</td>\n",
       "      <td>1.836098e+07</td>\n",
       "    </tr>\n",
       "    <tr>\n",
       "      <th>4</th>\n",
       "      <td>Illinois</td>\n",
       "      <td>1.268792e+07</td>\n",
       "    </tr>\n",
       "  </tbody>\n",
       "</table>\n",
       "</div>"
      ],
      "text/plain": [
       "          _id    population\n",
       "0  California  3.667951e+07\n",
       "1       Texas  2.429297e+07\n",
       "2    New York  1.932651e+07\n",
       "3     Florida  1.836098e+07\n",
       "4    Illinois  1.268792e+07"
      ]
     },
     "execution_count": 396,
     "metadata": {},
     "output_type": "execute_result"
    }
   ],
   "source": [
    "PopPerState_df.head()"
   ]
  },
  {
   "cell_type": "code",
   "execution_count": 467,
   "id": "9a528b0f-8204-47c2-9834-b6b83c90c6f8",
   "metadata": {},
   "outputs": [
    {
     "data": {
      "image/png": "[encoded data removed]",
      "text/plain": [
       "<Figure size 1080x864 with 2 Axes>"
      ]
     },
     "metadata": {},
     "output_type": "display_data"
    }
   ],
   "source": [
    "avgDeath_df.columns = ['state', 'Nombre de décès']\n",
    "PopPerState_df.columns = ['state', 'Population']\n",
    "\n",
    "sns.set(style=\"whitegrid\")\n",
    "\n",
    "fig, axes = plt.subplots(1, 2, figsize=(15, 12))\n",
    "sns.despine(left=True)\n",
    "\n",
    "sns.barplot(x='Nombre de décès', y=\"state\", data=avgDeath_df, ax=axes[0])\\\n",
    ".set_title(\"Nombre de décès par État de 1999 à 2016\")\n",
    "\n",
    "sns.barplot(x=\"Population\", y='state', data=PopPerState_df, ax=axes[1])\\\n",
    ".set_title(\"Population moyenne par État de 1999 à 2016\")\n",
    "\n",
    "plt.show()"
   ]
  },
  {
   "cell_type": "markdown",
   "id": "f47b1412-f53a-4b21-9770-3bc02a484f3c",
   "metadata": {},
   "source": [
    "`Analyse des graphiques`\n",
    "- La Californie a le plus grand nombre de décès, toutes causes confondues, mais elle a le nombre moyen d'habitants le plus élevé.\n",
    "- La Floride a le deuxième taux de mortalité le plus élevé, mais elle se situe au quatrième rang en termes de population. Cela implique que la Floride a un taux de mortalité par habitant élevé."
   ]
  },
  {
   "cell_type": "code",
   "execution_count": 408,
   "id": "fce6abe1-ad64-462b-9be4-ba424fb2dbbe",
   "metadata": {},
   "outputs": [
    {
     "data": {
      "text/plain": [
       "{'_id': ObjectId('63a8df3a8320cb5b2a74e1e9'),\n",
       " 'Year': 1962,\n",
       " 'WEEK': 1,\n",
       " 'Week_Ending_Date': '01/06/1962',\n",
       " 'REGION': 1,\n",
       " 'State': 'MA',\n",
       " 'City': 'Boston',\n",
       " 'Pneumonia_and_Influenza_Deaths': 11.0,\n",
       " 'All_Deaths': 262.0,\n",
       " '<1_year_(all_cause_deaths)': 10.0,\n",
       " '1-24_years_(all_cause_deaths)': 8.0,\n",
       " '25-44_years': 11.0,\n",
       " '45-64_years_(all_cause_deaths)': 87.0,\n",
       " '65+_years_(all_cause_deaths)': 146.0}"
      ]
     },
     "execution_count": 408,
     "metadata": {},
     "output_type": "execute_result"
    }
   ],
   "source": [
    "collection.find_one()"
   ]
  },
  {
   "cell_type": "code",
   "execution_count": 417,
   "id": "914a6b63-3aab-4311-bd39-d848fe4d2db8",
   "metadata": {},
   "outputs": [],
   "source": [
    "mydb = client[\"MiniProjet2\"]\n",
    "collection = mydb[\"deathInUsCities\"]\n",
    "\n",
    "query = [\n",
    "    {'$match': {'Year': {'$gt': 1998}}},\n",
    "    {'$group': { \n",
    "                \"_id\": \"$Year\", \n",
    "                \"<1 year (all cause deaths)\": {\"$sum\": \"$<1 year (all cause deaths)\"},\n",
    "                \"1-24 years (all cause deaths)\": {\"$sum\": \"$1-24 years (all cause deaths)\"},\n",
    "                \"25-44 years\": {\"$sum\": \"$25-44 years\"},\n",
    "                \"45-64 years (all cause deaths)\": {\"$sum\": \"$45-64 years (all cause deaths)\"},\n",
    "                \"65+ years (all cause deaths)\": {\"$sum\": \"$65+ years (all cause deaths)\"}\n",
    "            }\n",
    "    },\n",
    "    {\"$sort\": {\"_id\": 1}},\n",
    "    {\"$out\": \"DeathbyAgeGroup\"}\n",
    "]\n",
    "\n",
    "documents = collection.aggregate(query)\n",
    "\n",
    "FIELDS = {'_id': True, \"<1 year (all cause deaths)\":True, \n",
    "         \"1-24 years (all cause deaths)\":True, \"25-44 years\":True, \n",
    "         \"45-64 years (all cause deaths)\":True, \"65+ years (all cause deaths)\":True}\n",
    "\n",
    "mydb = client[\"MiniProjet2\"]\n",
    "collection = mydb[\"DeathbyAgeGroup\"]\n",
    "\n",
    "DeathbyAgeGroup = collection.find(projection=FIELDS)\n",
    "DeathbyAgeGroup = list(DeathbyAgeGroup)\n"
   ]
  },
  {
   "cell_type": "code",
   "execution_count": 418,
   "id": "45278005-26c0-45c8-8f3a-66519b7fb5fd",
   "metadata": {},
   "outputs": [],
   "source": [
    "DeathbyAgeGroup_df = pd.DataFrame(DeathbyAgeGroup)\n",
    "DeathbyAgeGroup_df.columns = ['Year', \"<1 year\", \"1-24 years\",\"25-44 years\",'45-64 years','65+ years']\n",
    "DeathbyAgeGroup_df= DeathbyAgeGroup_df.set_index('Year')"
   ]
  },
  {
   "cell_type": "code",
   "execution_count": 420,
   "id": "fe5ff715-d013-4cc4-adda-b448ba3b2d36",
   "metadata": {},
   "outputs": [
    {
     "data": {
      "text/plain": [
       "Text(0.5, 1.0, 'Number of death per year by age group from 1999 to 2016')"
      ]
     },
     "execution_count": 420,
     "metadata": {},
     "output_type": "execute_result"
    },
    {
     "data": {
      "image/png": "[encoded data removed]",
      "text/plain": [
       "<Figure size 1080x720 with 1 Axes>"
      ]
     },
     "metadata": {},
     "output_type": "display_data"
    }
   ],
   "source": [
    "DeathbyAgeGroup_df.plot.line(figsize=(15,10))\n",
    "plt.title(\"Number of death per year by age group from 1999 to 2016\")"
   ]
  },
  {
   "cell_type": "markdown",
   "id": "5bbbe4eb-0435-4bbc-8989-918535cd9150",
   "metadata": {},
   "source": [
    "`Analyse des graphiques`\n",
    "- Sans surprise, ce sont les personnes de plus de 65 ans qui sont les plus nombreuses à mourir.\n",
    "- On constate une diminution du nombre de décès dans tous les groupes d'âge au fil du temps."
   ]
  },
  {
   "cell_type": "markdown",
   "id": "498eb1c9-df50-49d0-9e7c-dfb0125f32bf",
   "metadata": {},
   "source": [
    "## Nombre moyen de décès de personnes âgées par État\n",
    "\n",
    "`Quels sont les États où le nombre moyen de décès de personnes âgées est le plus élevé ?`"
   ]
  },
  {
   "cell_type": "code",
   "execution_count": 446,
   "id": "da54bee1-e59b-45c2-8877-a2751afceea9",
   "metadata": {},
   "outputs": [],
   "source": [
    "mydb = client[\"MiniProjet2\"]\n",
    "collection = mydb[\"deathInUsCities\"]\n",
    "\n",
    "query = [\n",
    "    {\"$match\": {\"Year\": {\"$gt\": 1998}}},\n",
    "    {\"$group\": { \n",
    "                \"_id\": {\"Year\": \"$Year\", \"State\": \"$State\"},\n",
    "                \"65+ years (all cause deaths)\": {\"$sum\": \"$65+ years (all cause deaths)\"}\n",
    "            }\n",
    "    },\n",
    "    {\"$group\": {\n",
    "                \"_id\": \"$_id.State\" ,\n",
    "                \"65+ years (all cause deaths)\": {\"$avg\": \"$65+ years (all cause deaths)\"}\n",
    "    }},\n",
    "    {\"$sort\": { \"65+ years (all cause deaths)\": -1}},\n",
    "    {\"$limit\": 3},\n",
    "    {\"$out\": \"ElderyDeathbycities\"}\n",
    "]\n",
    "documents = collection.aggregate(query)\n",
    "\n",
    "FIELDS = {'_id': True, \"65+ years (all cause deaths)\":True}\n",
    "\n",
    "mydb = client[\"MiniProjet2\"]\n",
    "collection = mydb[\"ElderyDeathbycities\"]\n",
    "\n",
    "elderlyDeath = collection.find(projection=FIELDS)\n",
    "elderlyDeath = list(elderlyDeath)\n"
   ]
  },
  {
   "cell_type": "code",
   "execution_count": 447,
   "id": "acc5d498-bc06-41f7-b730-2aee605643ce",
   "metadata": {},
   "outputs": [],
   "source": [
    "elderlyDeath_df = pd.DataFrame(elderlyDeath)\n",
    "elderlyDeath_df = elderlyDeath_df[elderlyDeath_df.columns[::-1]]"
   ]
  },
  {
   "cell_type": "code",
   "execution_count": 448,
   "id": "3f9bc6a2-48ac-48a6-8d35-e8a232694cac",
   "metadata": {},
   "outputs": [],
   "source": [
    "elderlyDeath_df.columns = ['Average Number of Death', 'state']"
   ]
  },
  {
   "cell_type": "code",
   "execution_count": 449,
   "id": "228f65fa-7ffb-4059-82c4-cf580c4fc3b8",
   "metadata": {},
   "outputs": [],
   "source": [
    "elderlyDeath_df = elderlyDeath_df.set_index('state')"
   ]
  },
  {
   "cell_type": "code",
   "execution_count": 455,
   "id": "28f5a85d-7f93-4061-b766-519741bbffad",
   "metadata": {},
   "outputs": [
    {
     "data": {
      "image/png": "[encoded data removed]",
      "text/plain": [
       "<Figure size 720x576 with 1 Axes>"
      ]
     },
     "metadata": {},
     "output_type": "display_data"
    }
   ],
   "source": [
    "elderlyDeath_df.plot.pie(subplots = True, figsize = (10,8), autopct='%.2f')\n",
    "plt.title('Nombre moyen de décès de personnes âgées par Etat')\n",
    "plt.ylabel(\"Nombre moyen de décès\")\n",
    "plt.xlabel(\"\")\n",
    "plt.show()"
   ]
  },
  {
   "cell_type": "markdown",
   "id": "bf2092df-afcd-49f6-83a1-66c50200704f",
   "metadata": {},
   "source": [
    "`Analyse des graphiques`\n",
    "- Ce graphique montre les trois États où le nombre de décès de personnes âgées est le plus élevé.\n",
    "- Maryland a le nombre moyen de décès le plus élevé parmi les personnes âgées de plus de 65 ans."
   ]
  },
  {
   "cell_type": "markdown",
   "id": "d0e454b4-9cc2-439a-b58f-186d15532e86",
   "metadata": {},
   "source": [
    "<a name=\"Concl\"></a>\n",
    "## **Conclusion**\n",
    "\n",
    "1. Nous nous améliorons considérablemment !\n",
    "2. Il existe toujours une grande disparité géographique entre la réduction des taux de mortalité\n",
    "3. Les décès dus au cancer et aux maladies cardiaques ont considérablement diminué au cours de la dernière décennie"
   ]
  },
  {
   "cell_type": "markdown",
   "id": "ae079232-1f65-4b10-a04b-0c957f2cde09",
   "metadata": {},
   "source": [
    "## **Travaux futurs**\n",
    "\n",
    "- Superposer des données économiques pour mieux évaluer l'effet de la richesse sur les paramètres de mortalité.\n",
    "- Créer des graphiques interactifs avec des données actualisées en direct.\n",
    "- Construire une pile ETL automatisée pour permettre le chargement rapide de nouvelles données dans le système."
   ]
  },
  {
   "cell_type": "markdown",
   "id": "b07a689c-3150-4842-9da9-4aa77d65468d",
   "metadata": {},
   "source": [
    "## De même sur `Neo4J, Redis`\n",
    "\n",
    "![imag](images/neo4j.png)\n",
    "\n",
    "![imag](images/redis.png)"
   ]
  },
  {
   "cell_type": "markdown",
   "id": "2376b3d3-18f8-40bb-9ba4-6deef5f1e464",
   "metadata": {},
   "source": [
    "# Fin du projet"
   ]
  }
 ],
 "metadata": {
  "kernelspec": {
   "display_name": "Python 3 (ipykernel)",
   "language": "python",
   "name": "python3"
  },
  "language_info": {
   "codemirror_mode": {
    "name": "ipython",
    "version": 3
   },
   "file_extension": ".py",
   "mimetype": "text/x-python",
   "name": "python",
   "nbconvert_exporter": "python",
   "pygments_lexer": "ipython3",
   "version": "3.10.8"
  }
 },
 "nbformat": 4,
 "nbformat_minor": 5
}
