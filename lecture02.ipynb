{
 "cells": [
  {
   "cell_type": "markdown",
   "id": "67e29616-a0e6-4972-823f-b9f409a79920",
   "metadata": {},
   "source": [
    "# **Projet Complet de Data Science**\n",
    "\n",
    "## **Construction d'un modèles de Machine Learning pour prédire le désabonnement des clients d'une entreprise (CUSTOMER CHURN)**\n",
    "\n",
    "### Table des Matières\n",
    "\n",
    "- [Introduction](#Intro)\n",
    "- [Importantion des outils nécessaires](#Import)\n",
    "- [Importation des donnnées](#ImportData)\n",
    "- [Analyse exploratoire des données](#AED)\n",
    "- [Prétraitement des données](#PD)\n",
    "- [Modélisation](#Mod) \n",
    "    - [Modèle de Régression Logistique](#MRG)\n",
    "    - [Modèle de Forêt Aléatoire](#MFA)\n",
    "    - [Classificateur Perceptron Multicouche](#CPM)   \n",
    "    - [Support Vector Machine](#SVM)\n",
    "- [Conclusion](#Concl)"
   ]
  },
  {
   "cell_type": "markdown",
   "id": "5ee1c667-7522-4ea8-9916-fa8516b308dc",
   "metadata": {},
   "source": [
    "<a name=\"Intro\"></a>\n",
    "## Introduction\n",
    "\n",
    "![image](images/customer.jpg)\n",
    "\n",
    "Le désabonnement d'un client se produit lorsque ce dernier décide de cesser d'utiliser les services, le contenu ou les produits d'une entreprise.\n",
    "Il existe de nombreux exemples et cas de désabonnement:\n",
    "\n",
    "- Annulation d'un service sous contrat ou non\n",
    "- Achat dans un autre magasin concurrent\n",
    "- Désabonnement d'une newsletter\n",
    "- Clôture de compte bancaire\n",
    "- Etc \n",
    "\n",
    "Ainsi, l'entreprise doit mieux comprendre le comportement de ses clients afin de les fidéliser.\n",
    "\n",
    "Une façon de le faire consiste à créer **un modèle de Machine Learning ou de Réseau de Neuronnes Artificielles qui peut prédire quels sont les clients sont susceptibles de se désabonner.**\n",
    "\n",
    "Dans ce projet, nous explorerons un ensemble de données d'une entreprise de télécommunications et créerons un modèle dans le but de prédire les clients présentant un risque de désabonnement plus élevé.\n",
    "\n",
    "Nous utiliserons différents algorithmes de Machine Learning afin de comparer leurs performances puis nous déterminerons le meilleur modèle."
   ]
  },
  {
   "cell_type": "markdown",
   "id": "097069bc-08ed-40ec-b0fb-a895341af9ff",
   "metadata": {},
   "source": [
    "<a name=\"Import\"></a>\n",
    "## Importantion des outils nécessaires"
   ]
  },
  {
   "cell_type": "code",
   "execution_count": 206,
   "id": "2bf86c78-a453-41ca-9136-40c08dce3169",
   "metadata": {},
   "outputs": [],
   "source": [
    "%matplotlib inline\n",
    "\n",
    "import pandas as pd\n",
    "import numpy as np\n",
    "import seaborn as sns\n",
    "import matplotlib.pyplot as plt\n",
    "\n",
    "import ipywidgets as widgets\n",
    "from ipywidgets import interact, interactive, fixed, interact_manual\n",
    "\n",
    "from sklearn.preprocessing import MinMaxScaler\n",
    "from sklearn.model_selection import train_test_split\n",
    "from sklearn.utils import resample\n",
    "from sklearn.linear_model import LogisticRegression\n",
    "from sklearn.ensemble import RandomForestClassifier\n",
    "from sklearn.neural_network import MLPClassifier\n",
    "from sklearn.svm import SVC\n",
    "from sklearn.model_selection import GridSearchCV\n",
    "from sklearn.metrics import classification_report\n",
    "from sklearn.feature_selection import RFE"
   ]
  },
  {
   "cell_type": "markdown",
   "id": "2177572f-faa8-43e6-8664-6c22841c19f8",
   "metadata": {},
   "source": [
    "Les données ont été téléchargées sur **[kaggle](https://www.kaggle.com/datasets/blastchar/telco-customer-churn?resource=download)**\n"
   ]
  },
  {
   "cell_type": "code",
   "execution_count": 207,
   "id": "0acb8333-a67c-4fb8-b05a-4d0529629622",
   "metadata": {},
   "outputs": [
    {
     "data": {
      "text/html": [
       "<div>\n",
       "<style scoped>\n",
       "    .dataframe tbody tr th:only-of-type {\n",
       "        vertical-align: middle;\n",
       "    }\n",
       "\n",
       "    .dataframe tbody tr th {\n",
       "        vertical-align: top;\n",
       "    }\n",
       "\n",
       "    .dataframe thead th {\n",
       "        text-align: right;\n",
       "    }\n",
       "</style>\n",
       "<table border=\"1\" class=\"dataframe\">\n",
       "  <thead>\n",
       "    <tr style=\"text-align: right;\">\n",
       "      <th></th>\n",
       "      <th>customerID</th>\n",
       "      <th>gender</th>\n",
       "      <th>SeniorCitizen</th>\n",
       "      <th>Partner</th>\n",
       "      <th>Dependents</th>\n",
       "      <th>tenure</th>\n",
       "      <th>PhoneService</th>\n",
       "      <th>MultipleLines</th>\n",
       "      <th>InternetService</th>\n",
       "      <th>OnlineSecurity</th>\n",
       "      <th>...</th>\n",
       "      <th>DeviceProtection</th>\n",
       "      <th>TechSupport</th>\n",
       "      <th>StreamingTV</th>\n",
       "      <th>StreamingMovies</th>\n",
       "      <th>Contract</th>\n",
       "      <th>PaperlessBilling</th>\n",
       "      <th>PaymentMethod</th>\n",
       "      <th>MonthlyCharges</th>\n",
       "      <th>TotalCharges</th>\n",
       "      <th>Churn</th>\n",
       "    </tr>\n",
       "  </thead>\n",
       "  <tbody>\n",
       "    <tr>\n",
       "      <th>0</th>\n",
       "      <td>7590-VHVEG</td>\n",
       "      <td>Female</td>\n",
       "      <td>0</td>\n",
       "      <td>Yes</td>\n",
       "      <td>No</td>\n",
       "      <td>1</td>\n",
       "      <td>No</td>\n",
       "      <td>No phone service</td>\n",
       "      <td>DSL</td>\n",
       "      <td>No</td>\n",
       "      <td>...</td>\n",
       "      <td>No</td>\n",
       "      <td>No</td>\n",
       "      <td>No</td>\n",
       "      <td>No</td>\n",
       "      <td>Month-to-month</td>\n",
       "      <td>Yes</td>\n",
       "      <td>Electronic check</td>\n",
       "      <td>29.85</td>\n",
       "      <td>29.85</td>\n",
       "      <td>No</td>\n",
       "    </tr>\n",
       "    <tr>\n",
       "      <th>1</th>\n",
       "      <td>5575-GNVDE</td>\n",
       "      <td>Male</td>\n",
       "      <td>0</td>\n",
       "      <td>No</td>\n",
       "      <td>No</td>\n",
       "      <td>34</td>\n",
       "      <td>Yes</td>\n",
       "      <td>No</td>\n",
       "      <td>DSL</td>\n",
       "      <td>Yes</td>\n",
       "      <td>...</td>\n",
       "      <td>Yes</td>\n",
       "      <td>No</td>\n",
       "      <td>No</td>\n",
       "      <td>No</td>\n",
       "      <td>One year</td>\n",
       "      <td>No</td>\n",
       "      <td>Mailed check</td>\n",
       "      <td>56.95</td>\n",
       "      <td>1889.5</td>\n",
       "      <td>No</td>\n",
       "    </tr>\n",
       "    <tr>\n",
       "      <th>2</th>\n",
       "      <td>3668-QPYBK</td>\n",
       "      <td>Male</td>\n",
       "      <td>0</td>\n",
       "      <td>No</td>\n",
       "      <td>No</td>\n",
       "      <td>2</td>\n",
       "      <td>Yes</td>\n",
       "      <td>No</td>\n",
       "      <td>DSL</td>\n",
       "      <td>Yes</td>\n",
       "      <td>...</td>\n",
       "      <td>No</td>\n",
       "      <td>No</td>\n",
       "      <td>No</td>\n",
       "      <td>No</td>\n",
       "      <td>Month-to-month</td>\n",
       "      <td>Yes</td>\n",
       "      <td>Mailed check</td>\n",
       "      <td>53.85</td>\n",
       "      <td>108.15</td>\n",
       "      <td>Yes</td>\n",
       "    </tr>\n",
       "    <tr>\n",
       "      <th>3</th>\n",
       "      <td>7795-CFOCW</td>\n",
       "      <td>Male</td>\n",
       "      <td>0</td>\n",
       "      <td>No</td>\n",
       "      <td>No</td>\n",
       "      <td>45</td>\n",
       "      <td>No</td>\n",
       "      <td>No phone service</td>\n",
       "      <td>DSL</td>\n",
       "      <td>Yes</td>\n",
       "      <td>...</td>\n",
       "      <td>Yes</td>\n",
       "      <td>Yes</td>\n",
       "      <td>No</td>\n",
       "      <td>No</td>\n",
       "      <td>One year</td>\n",
       "      <td>No</td>\n",
       "      <td>Bank transfer (automatic)</td>\n",
       "      <td>42.30</td>\n",
       "      <td>1840.75</td>\n",
       "      <td>No</td>\n",
       "    </tr>\n",
       "    <tr>\n",
       "      <th>4</th>\n",
       "      <td>9237-HQITU</td>\n",
       "      <td>Female</td>\n",
       "      <td>0</td>\n",
       "      <td>No</td>\n",
       "      <td>No</td>\n",
       "      <td>2</td>\n",
       "      <td>Yes</td>\n",
       "      <td>No</td>\n",
       "      <td>Fiber optic</td>\n",
       "      <td>No</td>\n",
       "      <td>...</td>\n",
       "      <td>No</td>\n",
       "      <td>No</td>\n",
       "      <td>No</td>\n",
       "      <td>No</td>\n",
       "      <td>Month-to-month</td>\n",
       "      <td>Yes</td>\n",
       "      <td>Electronic check</td>\n",
       "      <td>70.70</td>\n",
       "      <td>151.65</td>\n",
       "      <td>Yes</td>\n",
       "    </tr>\n",
       "  </tbody>\n",
       "</table>\n",
       "<p>5 rows × 21 columns</p>\n",
       "</div>"
      ],
      "text/plain": [
       "   customerID  gender  SeniorCitizen Partner Dependents  tenure PhoneService  \\\n",
       "0  7590-VHVEG  Female              0     Yes         No       1           No   \n",
       "1  5575-GNVDE    Male              0      No         No      34          Yes   \n",
       "2  3668-QPYBK    Male              0      No         No       2          Yes   \n",
       "3  7795-CFOCW    Male              0      No         No      45           No   \n",
       "4  9237-HQITU  Female              0      No         No       2          Yes   \n",
       "\n",
       "      MultipleLines InternetService OnlineSecurity  ... DeviceProtection  \\\n",
       "0  No phone service             DSL             No  ...               No   \n",
       "1                No             DSL            Yes  ...              Yes   \n",
       "2                No             DSL            Yes  ...               No   \n",
       "3  No phone service             DSL            Yes  ...              Yes   \n",
       "4                No     Fiber optic             No  ...               No   \n",
       "\n",
       "  TechSupport StreamingTV StreamingMovies        Contract PaperlessBilling  \\\n",
       "0          No          No              No  Month-to-month              Yes   \n",
       "1          No          No              No        One year               No   \n",
       "2          No          No              No  Month-to-month              Yes   \n",
       "3         Yes          No              No        One year               No   \n",
       "4          No          No              No  Month-to-month              Yes   \n",
       "\n",
       "               PaymentMethod MonthlyCharges  TotalCharges Churn  \n",
       "0           Electronic check          29.85         29.85    No  \n",
       "1               Mailed check          56.95        1889.5    No  \n",
       "2               Mailed check          53.85        108.15   Yes  \n",
       "3  Bank transfer (automatic)          42.30       1840.75    No  \n",
       "4           Electronic check          70.70        151.65   Yes  \n",
       "\n",
       "[5 rows x 21 columns]"
      ]
     },
     "execution_count": 207,
     "metadata": {},
     "output_type": "execute_result"
    }
   ],
   "source": [
    "# importation des données\n",
    "\n",
    "df = pd.read_csv(\"RawData/Telco_Customer_Churn.csv\")\n",
    "\n",
    "df.head()"
   ]
  },
  {
   "cell_type": "markdown",
   "id": "a31896a0-e691-450a-b029-7112bead046c",
   "metadata": {},
   "source": [
    "La description des variables se trouve ici **[description](https://www.kaggle.com/datasets/blastchar/telco-customer-churn?resource=download)**\n",
    "\n",
    "La variable cible est la variable **Churn** qui prend deux valeurs : ***Yes** (Le client s'est désabonné* et ***No** (Le client ne s'est pas désabonné)*"
   ]
  },
  {
   "cell_type": "code",
   "execution_count": 208,
   "id": "68f955c1-f5d0-403a-a8b2-5579a0e20ac8",
   "metadata": {},
   "outputs": [
    {
     "name": "stdout",
     "output_type": "stream",
     "text": [
      "<class 'pandas.core.frame.DataFrame'>\n",
      "RangeIndex: 7043 entries, 0 to 7042\n",
      "Data columns (total 21 columns):\n",
      " #   Column            Non-Null Count  Dtype  \n",
      "---  ------            --------------  -----  \n",
      " 0   customerID        7043 non-null   object \n",
      " 1   gender            7043 non-null   object \n",
      " 2   SeniorCitizen     7043 non-null   int64  \n",
      " 3   Partner           7043 non-null   object \n",
      " 4   Dependents        7043 non-null   object \n",
      " 5   tenure            7043 non-null   int64  \n",
      " 6   PhoneService      7043 non-null   object \n",
      " 7   MultipleLines     7043 non-null   object \n",
      " 8   InternetService   7043 non-null   object \n",
      " 9   OnlineSecurity    7043 non-null   object \n",
      " 10  OnlineBackup      7043 non-null   object \n",
      " 11  DeviceProtection  7043 non-null   object \n",
      " 12  TechSupport       7043 non-null   object \n",
      " 13  StreamingTV       7043 non-null   object \n",
      " 14  StreamingMovies   7043 non-null   object \n",
      " 15  Contract          7043 non-null   object \n",
      " 16  PaperlessBilling  7043 non-null   object \n",
      " 17  PaymentMethod     7043 non-null   object \n",
      " 18  MonthlyCharges    7043 non-null   float64\n",
      " 19  TotalCharges      7043 non-null   object \n",
      " 20  Churn             7043 non-null   object \n",
      "dtypes: float64(1), int64(2), object(18)\n",
      "memory usage: 1.1+ MB\n"
     ]
    }
   ],
   "source": [
    "# information sur les données\n",
    "\n",
    "df.info()"
   ]
  },
  {
   "cell_type": "markdown",
   "id": "ac10c6b0-1593-43c9-979c-06cc3d4b2d92",
   "metadata": {},
   "source": [
    "Il n'y a pas de valeurs manquantes dans ce jeu de données !"
   ]
  },
  {
   "cell_type": "code",
   "execution_count": 209,
   "id": "0f76b04b-23b2-4b65-b643-3494021d2756",
   "metadata": {},
   "outputs": [
    {
     "data": {
      "text/plain": [
       "customerID          7043\n",
       "gender                 2\n",
       "SeniorCitizen          2\n",
       "Partner                2\n",
       "Dependents             2\n",
       "tenure                73\n",
       "PhoneService           2\n",
       "MultipleLines          3\n",
       "InternetService        3\n",
       "OnlineSecurity         3\n",
       "OnlineBackup           3\n",
       "DeviceProtection       3\n",
       "TechSupport            3\n",
       "StreamingTV            3\n",
       "StreamingMovies        3\n",
       "Contract               3\n",
       "PaperlessBilling       2\n",
       "PaymentMethod          4\n",
       "MonthlyCharges      1585\n",
       "TotalCharges        6531\n",
       "Churn                  2\n",
       "dtype: int64"
      ]
     },
     "execution_count": 209,
     "metadata": {},
     "output_type": "execute_result"
    }
   ],
   "source": [
    "# Nombre de valeurs uniques par colonne\n",
    "\n",
    "df.nunique()"
   ]
  },
  {
   "cell_type": "markdown",
   "id": "7e42626f-5a98-4ac9-a2a7-6403ed07bff6",
   "metadata": {},
   "source": [
    "<a name=\"AED\"></a>\n",
    "## Analyse Exploratoire des données"
   ]
  },
  {
   "cell_type": "markdown",
   "id": "7717f91b-51c4-443f-8a41-325e985dc6d6",
   "metadata": {},
   "source": [
    "Commençons notre exploration en traçant un graphiques de la distribution de chaque variable"
   ]
  },
  {
   "cell_type": "code",
   "execution_count": 210,
   "id": "793b26a3-4c3d-4b2d-a0fe-1059484a183e",
   "metadata": {},
   "outputs": [
    {
     "data": {
      "text/plain": [
       "['gender',\n",
       " 'SeniorCitizen',\n",
       " 'Partner',\n",
       " 'Dependents',\n",
       " 'PhoneService',\n",
       " 'MultipleLines',\n",
       " 'InternetService',\n",
       " 'OnlineSecurity',\n",
       " 'OnlineBackup',\n",
       " 'DeviceProtection',\n",
       " 'TechSupport',\n",
       " 'StreamingTV',\n",
       " 'StreamingMovies',\n",
       " 'Contract',\n",
       " 'PaperlessBilling',\n",
       " 'PaymentMethod',\n",
       " 'Churn']"
      ]
     },
     "execution_count": 210,
     "metadata": {},
     "output_type": "execute_result"
    }
   ],
   "source": [
    "# Variables catégorielles\n",
    "\n",
    "categorical_columns = df.nunique()[df.nunique() < 5].keys().to_list()\n",
    "categorical_columns"
   ]
  },
  {
   "cell_type": "code",
   "execution_count": 211,
   "id": "33cab778-8687-4ff5-bd0c-435c1b68f1b4",
   "metadata": {},
   "outputs": [],
   "source": [
    "# Création d'une fonction pour construire un graphique en bâton et de manière intéractive\n",
    "\n",
    "def bar_plot(a):\n",
    "    df[a].value_counts(normalize=True).plot(kind='bar')\n",
    "    plt.title(\"Distribution of \" + str(a))\n",
    "    plt.ylabel(\"Proportion\")\n",
    "    return plt.show()"
   ]
  },
  {
   "cell_type": "code",
   "execution_count": 212,
   "id": "fe179747-62fe-478e-81e4-8f28ffda0c71",
   "metadata": {},
   "outputs": [
    {
     "data": {
      "application/vnd.jupyter.widget-view+json": {
       "model_id": "1053e343da9f46bfba5a80155caf1cd7",
       "version_major": 2,
       "version_minor": 0
      },
      "text/plain": [
       "interactive(children=(Dropdown(description='a', options=('gender', 'SeniorCitizen', 'Partner', 'Dependents', '…"
      ]
     },
     "metadata": {},
     "output_type": "display_data"
    },
    {
     "data": {
      "text/plain": [
       "<function __main__.bar_plot(a)>"
      ]
     },
     "execution_count": 212,
     "metadata": {},
     "output_type": "execute_result"
    }
   ],
   "source": [
    "#Interact\n",
    "interact(bar_plot, a = categorical_columns)"
   ]
  },
  {
   "cell_type": "code",
   "execution_count": 291,
   "id": "dfa154c6-4cac-4867-94b5-77b9fcd95595",
   "metadata": {},
   "outputs": [
    {
     "data": {
      "image/png": "[encoded data removed]",
      "text/plain": [
       "<Figure size 432x288 with 1 Axes>"
      ]
     },
     "metadata": {
      "needs_background": "light"
     },
     "output_type": "display_data"
    }
   ],
   "source": [
    "bar_plot(\"Churn\")"
   ]
  },
  {
   "cell_type": "markdown",
   "id": "644b7d72-2749-42b5-9402-19bd6f4df8d0",
   "metadata": {},
   "source": [
    "Nous pouvons interagir avec le notebook en selectionnant la variable catégorielle qui nous intéresse.\n",
    "\n",
    "Voici quelques informations importanytes que nous pouvons tirer de ces graphiques:\n",
    " \n",
    "- Il y a plus de clients qui ne se sont pas désabonnés (70%) que de clients qui se sont désabonnés (30%)\n",
    "\n",
    "Cela peut déséquilibrer les modèles\n",
    "\n",
    "- Il y a presqu'autant d'hommes que de femmes\n",
    "- Le nombre de clients formés des personnes agées est bien inférieur à celui des clients jeunes\n",
    "\n",
    "Nous pouvons répéter le même processus cette fois-ci pour les variables numériques\n"
   ]
  },
  {
   "cell_type": "code",
   "execution_count": 213,
   "id": "899fb10b-b383-415d-abbd-97a3620dcda4",
   "metadata": {},
   "outputs": [
    {
     "data": {
      "text/plain": [
       "6816       70.3\n",
       "6617    3887.85\n",
       "2804      259.8\n",
       "6359    4238.45\n",
       "853      352.65\n",
       "53        633.3\n",
       "6044        893\n",
       "2903     432.25\n",
       "5377      249.4\n",
       "2569    1871.85\n",
       "Name: TotalCharges, dtype: object"
      ]
     },
     "execution_count": 213,
     "metadata": {},
     "output_type": "execute_result"
    }
   ],
   "source": [
    "# Echantillon aléatoire de la variable \"TotalCharges\"\n",
    "\n",
    "df['TotalCharges'].sample(10)"
   ]
  },
  {
   "cell_type": "markdown",
   "id": "1d5df2fd-5536-4672-9b43-046e9c2ad06d",
   "metadata": {},
   "source": [
    "La présence d'espace au niveau de la variable TotalCharges la transforme en object alors qu'elle est numérique.\n",
    "\n",
    "Remplaçons ces espaces"
   ]
  },
  {
   "cell_type": "code",
   "execution_count": 214,
   "id": "22eb422e-1348-4a9f-b509-681564ece147",
   "metadata": {},
   "outputs": [],
   "source": [
    "df['TotalCharges'] = df['TotalCharges'].replace(' ', np.nan).astype(float)"
   ]
  },
  {
   "cell_type": "code",
   "execution_count": 215,
   "id": "2e83e5b4-d2c8-475c-9e0d-bd49cc63c6dd",
   "metadata": {},
   "outputs": [],
   "source": [
    "numerical_colums = ['tenure', 'MonthlyCharges', 'TotalCharges']\n",
    "\n",
    "def hist_plot(b):\n",
    "    sns.displot(df[b], kde = False)\n",
    "    plt.title(\"Histogram of\" + str(b))\n",
    "    return plt.show()\n"
   ]
  },
  {
   "cell_type": "code",
   "execution_count": 216,
   "id": "7aa5d90f-db9b-44a4-8302-3e4cb5bde36d",
   "metadata": {},
   "outputs": [
    {
     "data": {
      "application/vnd.jupyter.widget-view+json": {
       "model_id": "aa34ac6c9972458d9fc6be2ca6f74c15",
       "version_major": 2,
       "version_minor": 0
      },
      "text/plain": [
       "interactive(children=(Dropdown(description='b', options=('tenure', 'MonthlyCharges', 'TotalCharges'), value='t…"
      ]
     },
     "metadata": {},
     "output_type": "display_data"
    },
    {
     "data": {
      "text/plain": [
       "<function __main__.hist_plot(b)>"
      ]
     },
     "execution_count": 216,
     "metadata": {},
     "output_type": "execute_result"
    }
   ],
   "source": [
    "#Interact\n",
    "interact(hist_plot, b = numerical_colums)"
   ]
  },
  {
   "cell_type": "code",
   "execution_count": 292,
   "id": "0d459880-54b4-4383-abd1-fdc2a8b74133",
   "metadata": {},
   "outputs": [
    {
     "data": {
      "image/png": "[encoded data removed]",
      "text/plain": [
       "<Figure size 360x360 with 1 Axes>"
      ]
     },
     "metadata": {
      "needs_background": "light"
     },
     "output_type": "display_data"
    }
   ],
   "source": [
    " hist_plot(\"TotalCharges\")"
   ]
  },
  {
   "cell_type": "code",
   "execution_count": 217,
   "id": "da8b2cbe-7609-4c52-8224-6bf5e99e2d0f",
   "metadata": {},
   "outputs": [
    {
     "data": {
      "text/plain": [
       "0.961642499724251"
      ]
     },
     "execution_count": 217,
     "metadata": {},
     "output_type": "execute_result"
    }
   ],
   "source": [
    "# Coefficient d'asymétrie de la variable 'TotalCharges'\n",
    "\n",
    "df['TotalCharges'].skew()"
   ]
  },
  {
   "cell_type": "code",
   "execution_count": 218,
   "id": "e39c08fb-1a36-4bcd-b84f-6abd1bd1b347",
   "metadata": {},
   "outputs": [],
   "source": [
    "# Création d'une fonction de construction de boite à moustaches\n",
    "\n",
    "def box_plot(c):\n",
    "    sns.boxplot(y=df[c])\n",
    "    plt.title(\"Boxplot of\" + str(c))\n",
    "    return plt.show()"
   ]
  },
  {
   "cell_type": "code",
   "execution_count": 219,
   "id": "ca9f8c5b-7673-489d-8a45-ebd470f31408",
   "metadata": {},
   "outputs": [
    {
     "data": {
      "application/vnd.jupyter.widget-view+json": {
       "model_id": "9dfcb1ab0b984b2eb764d8f0a9a97964",
       "version_major": 2,
       "version_minor": 0
      },
      "text/plain": [
       "interactive(children=(Dropdown(description='c', options=('tenure', 'MonthlyCharges', 'TotalCharges'), value='t…"
      ]
     },
     "metadata": {},
     "output_type": "display_data"
    },
    {
     "data": {
      "text/plain": [
       "<function __main__.box_plot(c)>"
      ]
     },
     "execution_count": 219,
     "metadata": {},
     "output_type": "execute_result"
    }
   ],
   "source": [
    "interact(box_plot, c = numerical_colums)"
   ]
  },
  {
   "cell_type": "markdown",
   "id": "fb24685b-501b-485b-9283-ff72196e136c",
   "metadata": {},
   "source": [
    "Nous constatons une forte asymétrie dans ces variables, cela peut causer des erreurs au niveau des modèles\n",
    "\n",
    "Comme astuce, nous pouvons appliquer des transformations afin de les rendre moins asymétrique."
   ]
  },
  {
   "cell_type": "code",
   "execution_count": 220,
   "id": "50d63757-b714-4c3e-a683-e7951cd484ca",
   "metadata": {},
   "outputs": [
    {
     "data": {
      "image/png": "[encoded data removed]",
      "text/plain": [
       "<Figure size 432x288 with 1 Axes>"
      ]
     },
     "metadata": {
      "needs_background": "light"
     },
     "output_type": "display_data"
    }
   ],
   "source": [
    "# TotalCharges vs Churn\n",
    "\n",
    "sns.boxplot(data = df, x='Churn', y='TotalCharges')\n",
    "plt.xlabel('Desabonnement')\n",
    "plt.ylabel('Facture totale')\n",
    "plt.title('Montant total facturé au client')\n",
    "plt.show()"
   ]
  },
  {
   "cell_type": "code",
   "execution_count": 221,
   "id": "0e26eac0-d71b-4873-ba59-34c9cd9bb621",
   "metadata": {},
   "outputs": [
    {
     "data": {
      "image/png": "[encoded data removed]",
      "text/plain": [
       "<Figure size 432x288 with 1 Axes>"
      ]
     },
     "metadata": {
      "needs_background": "light"
     },
     "output_type": "display_data"
    }
   ],
   "source": [
    "# MonthlyCharges vs Churn\n",
    "\n",
    "sns.boxplot(data = df, x='Churn', y='MonthlyCharges')\n",
    "plt.xlabel('Desabonnement')\n",
    "plt.ylabel('Facture mensuelle')\n",
    "plt.title('Montant facturé mensuellement au client')\n",
    "plt.show()"
   ]
  },
  {
   "cell_type": "markdown",
   "id": "07d4d2a6-9668-473f-9d47-00259748ef78",
   "metadata": {},
   "source": [
    "Ainsi de suite, nous pouvons faire ce genre de comparaions. C'est cela l'exploration des données.\n",
    "\n",
    "Un des résultat :\n",
    "\n",
    "**Le montant facturé aux clients qui ont résilié leur contrat est inférieur au montant total facturé aux clients qui ne l'ont pas fait. Mais les clients qui se sont désabonnés sont plus facturés mensuellement que les clients qui ne se sont pas désabonnés**"
   ]
  },
  {
   "cell_type": "code",
   "execution_count": 222,
   "id": "5a6c48dc-15ca-446a-94bb-d15e6cdf4f10",
   "metadata": {},
   "outputs": [
    {
     "data": {
      "image/png": "[encoded data removed]",
      "text/plain": [
       "<Figure size 576x360 with 1 Axes>"
      ]
     },
     "metadata": {
      "needs_background": "light"
     },
     "output_type": "display_data"
    }
   ],
   "source": [
    "# MonthlyCharges vs Churn by SeniorCitizen\n",
    "plt.figure(figsize = (8,5))\n",
    "sns.boxplot(data = df, x =\"Churn\", y = \"MonthlyCharges\", hue = \"SeniorCitizen\");"
   ]
  },
  {
   "cell_type": "code",
   "execution_count": 223,
   "id": "d858415c-7069-4af9-a22b-80b9090cbd56",
   "metadata": {},
   "outputs": [
    {
     "data": {
      "image/png": "[encoded data removed]",
      "text/plain": [
       "<Figure size 576x360 with 1 Axes>"
      ]
     },
     "metadata": {
      "needs_background": "light"
     },
     "output_type": "display_data"
    }
   ],
   "source": [
    "plt.figure(figsize = (8,5))\n",
    "sns.boxplot(data = df, x =\"Churn\", y = \"MonthlyCharges\", hue = \"Dependents\");"
   ]
  },
  {
   "cell_type": "markdown",
   "id": "e1b3f39d-d981-48e8-b042-39d258c8fb3f",
   "metadata": {},
   "source": [
    "Il existe de nombreux autres analyses que nous pouvons faire"
   ]
  },
  {
   "cell_type": "code",
   "execution_count": 224,
   "id": "3c37681a-7a19-4a3b-9096-fe4d043f3645",
   "metadata": {},
   "outputs": [
    {
     "data": {
      "text/html": [
       "<div>\n",
       "<style scoped>\n",
       "    .dataframe tbody tr th:only-of-type {\n",
       "        vertical-align: middle;\n",
       "    }\n",
       "\n",
       "    .dataframe tbody tr th {\n",
       "        vertical-align: top;\n",
       "    }\n",
       "\n",
       "    .dataframe thead th {\n",
       "        text-align: right;\n",
       "    }\n",
       "</style>\n",
       "<table border=\"1\" class=\"dataframe\">\n",
       "  <thead>\n",
       "    <tr style=\"text-align: right;\">\n",
       "      <th></th>\n",
       "      <th>SeniorCitizen</th>\n",
       "      <th>tenure</th>\n",
       "      <th>MonthlyCharges</th>\n",
       "      <th>TotalCharges</th>\n",
       "    </tr>\n",
       "  </thead>\n",
       "  <tbody>\n",
       "    <tr>\n",
       "      <th>count</th>\n",
       "      <td>7043.000000</td>\n",
       "      <td>7043.000000</td>\n",
       "      <td>7043.000000</td>\n",
       "      <td>7032.000000</td>\n",
       "    </tr>\n",
       "    <tr>\n",
       "      <th>mean</th>\n",
       "      <td>0.162147</td>\n",
       "      <td>32.371149</td>\n",
       "      <td>64.761692</td>\n",
       "      <td>2283.300441</td>\n",
       "    </tr>\n",
       "    <tr>\n",
       "      <th>std</th>\n",
       "      <td>0.368612</td>\n",
       "      <td>24.559481</td>\n",
       "      <td>30.090047</td>\n",
       "      <td>2266.771362</td>\n",
       "    </tr>\n",
       "    <tr>\n",
       "      <th>min</th>\n",
       "      <td>0.000000</td>\n",
       "      <td>0.000000</td>\n",
       "      <td>18.250000</td>\n",
       "      <td>18.800000</td>\n",
       "    </tr>\n",
       "    <tr>\n",
       "      <th>25%</th>\n",
       "      <td>0.000000</td>\n",
       "      <td>9.000000</td>\n",
       "      <td>35.500000</td>\n",
       "      <td>401.450000</td>\n",
       "    </tr>\n",
       "    <tr>\n",
       "      <th>50%</th>\n",
       "      <td>0.000000</td>\n",
       "      <td>29.000000</td>\n",
       "      <td>70.350000</td>\n",
       "      <td>1397.475000</td>\n",
       "    </tr>\n",
       "    <tr>\n",
       "      <th>75%</th>\n",
       "      <td>0.000000</td>\n",
       "      <td>55.000000</td>\n",
       "      <td>89.850000</td>\n",
       "      <td>3794.737500</td>\n",
       "    </tr>\n",
       "    <tr>\n",
       "      <th>max</th>\n",
       "      <td>1.000000</td>\n",
       "      <td>72.000000</td>\n",
       "      <td>118.750000</td>\n",
       "      <td>8684.800000</td>\n",
       "    </tr>\n",
       "  </tbody>\n",
       "</table>\n",
       "</div>"
      ],
      "text/plain": [
       "       SeniorCitizen       tenure  MonthlyCharges  TotalCharges\n",
       "count    7043.000000  7043.000000     7043.000000   7032.000000\n",
       "mean        0.162147    32.371149       64.761692   2283.300441\n",
       "std         0.368612    24.559481       30.090047   2266.771362\n",
       "min         0.000000     0.000000       18.250000     18.800000\n",
       "25%         0.000000     9.000000       35.500000    401.450000\n",
       "50%         0.000000    29.000000       70.350000   1397.475000\n",
       "75%         0.000000    55.000000       89.850000   3794.737500\n",
       "max         1.000000    72.000000      118.750000   8684.800000"
      ]
     },
     "execution_count": 224,
     "metadata": {},
     "output_type": "execute_result"
    }
   ],
   "source": [
    "# Résumé statistique\n",
    "\n",
    "df.describe()"
   ]
  },
  {
   "cell_type": "markdown",
   "id": "3c5c4459-f88f-4971-b54c-70185aeae9be",
   "metadata": {},
   "source": [
    "Au délà des chiffres, nous voyons une différence des échelles entre les variables.\n",
    "\n",
    "Cela nous conduira certainement à la **Standardisation**"
   ]
  },
  {
   "cell_type": "markdown",
   "id": "1f67643e-ac9a-43e2-926d-917f72520f89",
   "metadata": {},
   "source": [
    "<a name=\"PD\"></a>\n",
    "## Prétraitement des données"
   ]
  },
  {
   "cell_type": "code",
   "execution_count": 225,
   "id": "28365f5a-19fd-4495-ba14-bc05fece2a79",
   "metadata": {},
   "outputs": [],
   "source": [
    "# Gestion des valeurs manquantes\n",
    "\n",
    "data = df.copy()"
   ]
  },
  {
   "cell_type": "code",
   "execution_count": 226,
   "id": "c677868d-bd4f-4e1f-b823-0314a53c3ab6",
   "metadata": {},
   "outputs": [
    {
     "data": {
      "text/plain": [
       "customerID           0\n",
       "gender               0\n",
       "SeniorCitizen        0\n",
       "Partner              0\n",
       "Dependents           0\n",
       "tenure               0\n",
       "PhoneService         0\n",
       "MultipleLines        0\n",
       "InternetService      0\n",
       "OnlineSecurity       0\n",
       "OnlineBackup         0\n",
       "DeviceProtection     0\n",
       "TechSupport          0\n",
       "StreamingTV          0\n",
       "StreamingMovies      0\n",
       "Contract             0\n",
       "PaperlessBilling     0\n",
       "PaymentMethod        0\n",
       "MonthlyCharges       0\n",
       "TotalCharges        11\n",
       "Churn                0\n",
       "dtype: int64"
      ]
     },
     "execution_count": 226,
     "metadata": {},
     "output_type": "execute_result"
    }
   ],
   "source": [
    "data.isna().sum()"
   ]
  },
  {
   "cell_type": "code",
   "execution_count": 227,
   "id": "b86ef7f3-d507-4c42-9510-4e4e73a53e49",
   "metadata": {},
   "outputs": [
    {
     "data": {
      "text/plain": [
       "0.001561834445548772"
      ]
     },
     "execution_count": 227,
     "metadata": {},
     "output_type": "execute_result"
    }
   ],
   "source": [
    "11/data.shape[0]"
   ]
  },
  {
   "cell_type": "code",
   "execution_count": 228,
   "id": "35a6372c-7541-463b-ac2a-9e4ccf8385b1",
   "metadata": {},
   "outputs": [],
   "source": [
    "# Suppression des valeurs manquantes\n",
    "\n",
    "data.dropna(inplace = True)"
   ]
  },
  {
   "cell_type": "code",
   "execution_count": 229,
   "id": "506492ca-c4eb-43e2-9400-e76c5113dd4e",
   "metadata": {},
   "outputs": [],
   "source": [
    "# Encodage des variables binaires\n",
    "\n",
    "data['gender'] = data['gender'].apply(lambda row: 1 if row == \"female\" else 0)"
   ]
  },
  {
   "cell_type": "code",
   "execution_count": 230,
   "id": "512c3bff-fe2b-451b-a9e5-d997e6c6704f",
   "metadata": {},
   "outputs": [],
   "source": [
    "binary_columns = data.drop('gender', axis = 1).nunique()[data.drop('gender', axis = 1).nunique() < 3].keys().to_list()"
   ]
  },
  {
   "cell_type": "code",
   "execution_count": 231,
   "id": "cb1a056a-03f9-4eb1-ba7f-f2b14ffe8c75",
   "metadata": {},
   "outputs": [
    {
     "data": {
      "text/plain": [
       "['SeniorCitizen',\n",
       " 'Partner',\n",
       " 'Dependents',\n",
       " 'PhoneService',\n",
       " 'PaperlessBilling',\n",
       " 'Churn']"
      ]
     },
     "execution_count": 231,
     "metadata": {},
     "output_type": "execute_result"
    }
   ],
   "source": [
    "binary_columns"
   ]
  },
  {
   "cell_type": "code",
   "execution_count": 232,
   "id": "00e2b72c-f3b9-4698-b760-9efbc1400b5c",
   "metadata": {},
   "outputs": [],
   "source": [
    "for column in binary_columns:\n",
    "    data[column] = data[column].apply(lambda row: 1 if row == \"Yes\" else 0)"
   ]
  },
  {
   "cell_type": "code",
   "execution_count": 233,
   "id": "cea6b94b-2346-4ac8-b237-dcf8e90cae78",
   "metadata": {},
   "outputs": [],
   "source": [
    "# Encodage des variables catégorielles restantes\n",
    "\n",
    "remaining_cat_vars = data[categorical_columns].nunique()[data[categorical_columns].nunique() > 2 ].keys().to_list()"
   ]
  },
  {
   "cell_type": "code",
   "execution_count": 234,
   "id": "d8b8a3dd-b724-4f92-9ce4-0633a8d7e734",
   "metadata": {},
   "outputs": [
    {
     "data": {
      "text/plain": [
       "['MultipleLines',\n",
       " 'InternetService',\n",
       " 'OnlineSecurity',\n",
       " 'OnlineBackup',\n",
       " 'DeviceProtection',\n",
       " 'TechSupport',\n",
       " 'StreamingTV',\n",
       " 'StreamingMovies',\n",
       " 'Contract',\n",
       " 'PaymentMethod']"
      ]
     },
     "execution_count": 234,
     "metadata": {},
     "output_type": "execute_result"
    }
   ],
   "source": [
    "remaining_cat_vars"
   ]
  },
  {
   "cell_type": "code",
   "execution_count": 235,
   "id": "1d297576-6924-4dd8-974a-bc1a6aa1f14b",
   "metadata": {},
   "outputs": [],
   "source": [
    "remaining_cat_vars_dummies = pd.get_dummies(data = data[remaining_cat_vars], columns = remaining_cat_vars, drop_first = True)"
   ]
  },
  {
   "cell_type": "code",
   "execution_count": 236,
   "id": "ae4ac5a9-2902-4be8-8cbd-5fc1e0736663",
   "metadata": {},
   "outputs": [
    {
     "data": {
      "text/html": [
       "<div>\n",
       "<style scoped>\n",
       "    .dataframe tbody tr th:only-of-type {\n",
       "        vertical-align: middle;\n",
       "    }\n",
       "\n",
       "    .dataframe tbody tr th {\n",
       "        vertical-align: top;\n",
       "    }\n",
       "\n",
       "    .dataframe thead th {\n",
       "        text-align: right;\n",
       "    }\n",
       "</style>\n",
       "<table border=\"1\" class=\"dataframe\">\n",
       "  <thead>\n",
       "    <tr style=\"text-align: right;\">\n",
       "      <th></th>\n",
       "      <th>MultipleLines_No phone service</th>\n",
       "      <th>MultipleLines_Yes</th>\n",
       "      <th>InternetService_Fiber optic</th>\n",
       "      <th>InternetService_No</th>\n",
       "      <th>OnlineSecurity_No internet service</th>\n",
       "      <th>OnlineSecurity_Yes</th>\n",
       "      <th>OnlineBackup_No internet service</th>\n",
       "      <th>OnlineBackup_Yes</th>\n",
       "      <th>DeviceProtection_No internet service</th>\n",
       "      <th>DeviceProtection_Yes</th>\n",
       "      <th>...</th>\n",
       "      <th>TechSupport_Yes</th>\n",
       "      <th>StreamingTV_No internet service</th>\n",
       "      <th>StreamingTV_Yes</th>\n",
       "      <th>StreamingMovies_No internet service</th>\n",
       "      <th>StreamingMovies_Yes</th>\n",
       "      <th>Contract_One year</th>\n",
       "      <th>Contract_Two year</th>\n",
       "      <th>PaymentMethod_Credit card (automatic)</th>\n",
       "      <th>PaymentMethod_Electronic check</th>\n",
       "      <th>PaymentMethod_Mailed check</th>\n",
       "    </tr>\n",
       "  </thead>\n",
       "  <tbody>\n",
       "    <tr>\n",
       "      <th>0</th>\n",
       "      <td>1</td>\n",
       "      <td>0</td>\n",
       "      <td>0</td>\n",
       "      <td>0</td>\n",
       "      <td>0</td>\n",
       "      <td>0</td>\n",
       "      <td>0</td>\n",
       "      <td>1</td>\n",
       "      <td>0</td>\n",
       "      <td>0</td>\n",
       "      <td>...</td>\n",
       "      <td>0</td>\n",
       "      <td>0</td>\n",
       "      <td>0</td>\n",
       "      <td>0</td>\n",
       "      <td>0</td>\n",
       "      <td>0</td>\n",
       "      <td>0</td>\n",
       "      <td>0</td>\n",
       "      <td>1</td>\n",
       "      <td>0</td>\n",
       "    </tr>\n",
       "    <tr>\n",
       "      <th>1</th>\n",
       "      <td>0</td>\n",
       "      <td>0</td>\n",
       "      <td>0</td>\n",
       "      <td>0</td>\n",
       "      <td>0</td>\n",
       "      <td>1</td>\n",
       "      <td>0</td>\n",
       "      <td>0</td>\n",
       "      <td>0</td>\n",
       "      <td>1</td>\n",
       "      <td>...</td>\n",
       "      <td>0</td>\n",
       "      <td>0</td>\n",
       "      <td>0</td>\n",
       "      <td>0</td>\n",
       "      <td>0</td>\n",
       "      <td>1</td>\n",
       "      <td>0</td>\n",
       "      <td>0</td>\n",
       "      <td>0</td>\n",
       "      <td>1</td>\n",
       "    </tr>\n",
       "    <tr>\n",
       "      <th>2</th>\n",
       "      <td>0</td>\n",
       "      <td>0</td>\n",
       "      <td>0</td>\n",
       "      <td>0</td>\n",
       "      <td>0</td>\n",
       "      <td>1</td>\n",
       "      <td>0</td>\n",
       "      <td>1</td>\n",
       "      <td>0</td>\n",
       "      <td>0</td>\n",
       "      <td>...</td>\n",
       "      <td>0</td>\n",
       "      <td>0</td>\n",
       "      <td>0</td>\n",
       "      <td>0</td>\n",
       "      <td>0</td>\n",
       "      <td>0</td>\n",
       "      <td>0</td>\n",
       "      <td>0</td>\n",
       "      <td>0</td>\n",
       "      <td>1</td>\n",
       "    </tr>\n",
       "    <tr>\n",
       "      <th>3</th>\n",
       "      <td>1</td>\n",
       "      <td>0</td>\n",
       "      <td>0</td>\n",
       "      <td>0</td>\n",
       "      <td>0</td>\n",
       "      <td>1</td>\n",
       "      <td>0</td>\n",
       "      <td>0</td>\n",
       "      <td>0</td>\n",
       "      <td>1</td>\n",
       "      <td>...</td>\n",
       "      <td>1</td>\n",
       "      <td>0</td>\n",
       "      <td>0</td>\n",
       "      <td>0</td>\n",
       "      <td>0</td>\n",
       "      <td>1</td>\n",
       "      <td>0</td>\n",
       "      <td>0</td>\n",
       "      <td>0</td>\n",
       "      <td>0</td>\n",
       "    </tr>\n",
       "    <tr>\n",
       "      <th>4</th>\n",
       "      <td>0</td>\n",
       "      <td>0</td>\n",
       "      <td>1</td>\n",
       "      <td>0</td>\n",
       "      <td>0</td>\n",
       "      <td>0</td>\n",
       "      <td>0</td>\n",
       "      <td>0</td>\n",
       "      <td>0</td>\n",
       "      <td>0</td>\n",
       "      <td>...</td>\n",
       "      <td>0</td>\n",
       "      <td>0</td>\n",
       "      <td>0</td>\n",
       "      <td>0</td>\n",
       "      <td>0</td>\n",
       "      <td>0</td>\n",
       "      <td>0</td>\n",
       "      <td>0</td>\n",
       "      <td>1</td>\n",
       "      <td>0</td>\n",
       "    </tr>\n",
       "  </tbody>\n",
       "</table>\n",
       "<p>5 rows × 21 columns</p>\n",
       "</div>"
      ],
      "text/plain": [
       "   MultipleLines_No phone service  MultipleLines_Yes  \\\n",
       "0                               1                  0   \n",
       "1                               0                  0   \n",
       "2                               0                  0   \n",
       "3                               1                  0   \n",
       "4                               0                  0   \n",
       "\n",
       "   InternetService_Fiber optic  InternetService_No  \\\n",
       "0                            0                   0   \n",
       "1                            0                   0   \n",
       "2                            0                   0   \n",
       "3                            0                   0   \n",
       "4                            1                   0   \n",
       "\n",
       "   OnlineSecurity_No internet service  OnlineSecurity_Yes  \\\n",
       "0                                   0                   0   \n",
       "1                                   0                   1   \n",
       "2                                   0                   1   \n",
       "3                                   0                   1   \n",
       "4                                   0                   0   \n",
       "\n",
       "   OnlineBackup_No internet service  OnlineBackup_Yes  \\\n",
       "0                                 0                 1   \n",
       "1                                 0                 0   \n",
       "2                                 0                 1   \n",
       "3                                 0                 0   \n",
       "4                                 0                 0   \n",
       "\n",
       "   DeviceProtection_No internet service  DeviceProtection_Yes  ...  \\\n",
       "0                                     0                     0  ...   \n",
       "1                                     0                     1  ...   \n",
       "2                                     0                     0  ...   \n",
       "3                                     0                     1  ...   \n",
       "4                                     0                     0  ...   \n",
       "\n",
       "   TechSupport_Yes  StreamingTV_No internet service  StreamingTV_Yes  \\\n",
       "0                0                                0                0   \n",
       "1                0                                0                0   \n",
       "2                0                                0                0   \n",
       "3                1                                0                0   \n",
       "4                0                                0                0   \n",
       "\n",
       "   StreamingMovies_No internet service  StreamingMovies_Yes  \\\n",
       "0                                    0                    0   \n",
       "1                                    0                    0   \n",
       "2                                    0                    0   \n",
       "3                                    0                    0   \n",
       "4                                    0                    0   \n",
       "\n",
       "   Contract_One year  Contract_Two year  \\\n",
       "0                  0                  0   \n",
       "1                  1                  0   \n",
       "2                  0                  0   \n",
       "3                  1                  0   \n",
       "4                  0                  0   \n",
       "\n",
       "   PaymentMethod_Credit card (automatic)  PaymentMethod_Electronic check  \\\n",
       "0                                      0                               1   \n",
       "1                                      0                               0   \n",
       "2                                      0                               0   \n",
       "3                                      0                               0   \n",
       "4                                      0                               1   \n",
       "\n",
       "   PaymentMethod_Mailed check  \n",
       "0                           0  \n",
       "1                           1  \n",
       "2                           1  \n",
       "3                           0  \n",
       "4                           0  \n",
       "\n",
       "[5 rows x 21 columns]"
      ]
     },
     "execution_count": 236,
     "metadata": {},
     "output_type": "execute_result"
    }
   ],
   "source": [
    "remaining_cat_vars_dummies.head()"
   ]
  },
  {
   "cell_type": "code",
   "execution_count": 237,
   "id": "0d9cb759-fcad-4dc7-98b6-a2a9ec888fa0",
   "metadata": {},
   "outputs": [
    {
     "data": {
      "text/html": [
       "<div>\n",
       "<style scoped>\n",
       "    .dataframe tbody tr th:only-of-type {\n",
       "        vertical-align: middle;\n",
       "    }\n",
       "\n",
       "    .dataframe tbody tr th {\n",
       "        vertical-align: top;\n",
       "    }\n",
       "\n",
       "    .dataframe thead th {\n",
       "        text-align: right;\n",
       "    }\n",
       "</style>\n",
       "<table border=\"1\" class=\"dataframe\">\n",
       "  <thead>\n",
       "    <tr style=\"text-align: right;\">\n",
       "      <th></th>\n",
       "      <th>gender</th>\n",
       "      <th>SeniorCitizen</th>\n",
       "      <th>Partner</th>\n",
       "      <th>Dependents</th>\n",
       "      <th>PhoneService</th>\n",
       "      <th>PaperlessBilling</th>\n",
       "      <th>Churn</th>\n",
       "      <th>MultipleLines_No phone service</th>\n",
       "      <th>MultipleLines_Yes</th>\n",
       "      <th>InternetService_Fiber optic</th>\n",
       "      <th>...</th>\n",
       "      <th>StreamingMovies_No internet service</th>\n",
       "      <th>StreamingMovies_Yes</th>\n",
       "      <th>Contract_One year</th>\n",
       "      <th>Contract_Two year</th>\n",
       "      <th>PaymentMethod_Credit card (automatic)</th>\n",
       "      <th>PaymentMethod_Electronic check</th>\n",
       "      <th>PaymentMethod_Mailed check</th>\n",
       "      <th>tenure</th>\n",
       "      <th>MonthlyCharges</th>\n",
       "      <th>TotalCharges</th>\n",
       "    </tr>\n",
       "  </thead>\n",
       "  <tbody>\n",
       "    <tr>\n",
       "      <th>0</th>\n",
       "      <td>0</td>\n",
       "      <td>0</td>\n",
       "      <td>1</td>\n",
       "      <td>0</td>\n",
       "      <td>0</td>\n",
       "      <td>1</td>\n",
       "      <td>0</td>\n",
       "      <td>1</td>\n",
       "      <td>0</td>\n",
       "      <td>0</td>\n",
       "      <td>...</td>\n",
       "      <td>0</td>\n",
       "      <td>0</td>\n",
       "      <td>0</td>\n",
       "      <td>0</td>\n",
       "      <td>0</td>\n",
       "      <td>1</td>\n",
       "      <td>0</td>\n",
       "      <td>1</td>\n",
       "      <td>29.85</td>\n",
       "      <td>29.85</td>\n",
       "    </tr>\n",
       "    <tr>\n",
       "      <th>1</th>\n",
       "      <td>0</td>\n",
       "      <td>0</td>\n",
       "      <td>0</td>\n",
       "      <td>0</td>\n",
       "      <td>1</td>\n",
       "      <td>0</td>\n",
       "      <td>0</td>\n",
       "      <td>0</td>\n",
       "      <td>0</td>\n",
       "      <td>0</td>\n",
       "      <td>...</td>\n",
       "      <td>0</td>\n",
       "      <td>0</td>\n",
       "      <td>1</td>\n",
       "      <td>0</td>\n",
       "      <td>0</td>\n",
       "      <td>0</td>\n",
       "      <td>1</td>\n",
       "      <td>34</td>\n",
       "      <td>56.95</td>\n",
       "      <td>1889.50</td>\n",
       "    </tr>\n",
       "    <tr>\n",
       "      <th>2</th>\n",
       "      <td>0</td>\n",
       "      <td>0</td>\n",
       "      <td>0</td>\n",
       "      <td>0</td>\n",
       "      <td>1</td>\n",
       "      <td>1</td>\n",
       "      <td>1</td>\n",
       "      <td>0</td>\n",
       "      <td>0</td>\n",
       "      <td>0</td>\n",
       "      <td>...</td>\n",
       "      <td>0</td>\n",
       "      <td>0</td>\n",
       "      <td>0</td>\n",
       "      <td>0</td>\n",
       "      <td>0</td>\n",
       "      <td>0</td>\n",
       "      <td>1</td>\n",
       "      <td>2</td>\n",
       "      <td>53.85</td>\n",
       "      <td>108.15</td>\n",
       "    </tr>\n",
       "    <tr>\n",
       "      <th>3</th>\n",
       "      <td>0</td>\n",
       "      <td>0</td>\n",
       "      <td>0</td>\n",
       "      <td>0</td>\n",
       "      <td>0</td>\n",
       "      <td>0</td>\n",
       "      <td>0</td>\n",
       "      <td>1</td>\n",
       "      <td>0</td>\n",
       "      <td>0</td>\n",
       "      <td>...</td>\n",
       "      <td>0</td>\n",
       "      <td>0</td>\n",
       "      <td>1</td>\n",
       "      <td>0</td>\n",
       "      <td>0</td>\n",
       "      <td>0</td>\n",
       "      <td>0</td>\n",
       "      <td>45</td>\n",
       "      <td>42.30</td>\n",
       "      <td>1840.75</td>\n",
       "    </tr>\n",
       "    <tr>\n",
       "      <th>4</th>\n",
       "      <td>0</td>\n",
       "      <td>0</td>\n",
       "      <td>0</td>\n",
       "      <td>0</td>\n",
       "      <td>1</td>\n",
       "      <td>1</td>\n",
       "      <td>1</td>\n",
       "      <td>0</td>\n",
       "      <td>0</td>\n",
       "      <td>1</td>\n",
       "      <td>...</td>\n",
       "      <td>0</td>\n",
       "      <td>0</td>\n",
       "      <td>0</td>\n",
       "      <td>0</td>\n",
       "      <td>0</td>\n",
       "      <td>1</td>\n",
       "      <td>0</td>\n",
       "      <td>2</td>\n",
       "      <td>70.70</td>\n",
       "      <td>151.65</td>\n",
       "    </tr>\n",
       "  </tbody>\n",
       "</table>\n",
       "<p>5 rows × 31 columns</p>\n",
       "</div>"
      ],
      "text/plain": [
       "   gender  SeniorCitizen  Partner  Dependents  PhoneService  PaperlessBilling  \\\n",
       "0       0              0        1           0             0                 1   \n",
       "1       0              0        0           0             1                 0   \n",
       "2       0              0        0           0             1                 1   \n",
       "3       0              0        0           0             0                 0   \n",
       "4       0              0        0           0             1                 1   \n",
       "\n",
       "   Churn  MultipleLines_No phone service  MultipleLines_Yes  \\\n",
       "0      0                               1                  0   \n",
       "1      0                               0                  0   \n",
       "2      1                               0                  0   \n",
       "3      0                               1                  0   \n",
       "4      1                               0                  0   \n",
       "\n",
       "   InternetService_Fiber optic  ...  StreamingMovies_No internet service  \\\n",
       "0                            0  ...                                    0   \n",
       "1                            0  ...                                    0   \n",
       "2                            0  ...                                    0   \n",
       "3                            0  ...                                    0   \n",
       "4                            1  ...                                    0   \n",
       "\n",
       "   StreamingMovies_Yes  Contract_One year  Contract_Two year  \\\n",
       "0                    0                  0                  0   \n",
       "1                    0                  1                  0   \n",
       "2                    0                  0                  0   \n",
       "3                    0                  1                  0   \n",
       "4                    0                  0                  0   \n",
       "\n",
       "   PaymentMethod_Credit card (automatic)  PaymentMethod_Electronic check  \\\n",
       "0                                      0                               1   \n",
       "1                                      0                               0   \n",
       "2                                      0                               0   \n",
       "3                                      0                               0   \n",
       "4                                      0                               1   \n",
       "\n",
       "   PaymentMethod_Mailed check  tenure  MonthlyCharges  TotalCharges  \n",
       "0                           0       1           29.85         29.85  \n",
       "1                           1      34           56.95       1889.50  \n",
       "2                           1       2           53.85        108.15  \n",
       "3                           0      45           42.30       1840.75  \n",
       "4                           0       2           70.70        151.65  \n",
       "\n",
       "[5 rows x 31 columns]"
      ]
     },
     "execution_count": 237,
     "metadata": {},
     "output_type": "execute_result"
    }
   ],
   "source": [
    "# Nouvelle dataframe\n",
    "\n",
    "data = pd.concat([data['gender'], data[binary_columns], remaining_cat_vars_dummies, data[numerical_colums]], axis = 1)\n",
    "\n",
    "data.head()"
   ]
  },
  {
   "cell_type": "code",
   "execution_count": 238,
   "id": "7cb95443-99d5-4487-af09-54dde86aaba8",
   "metadata": {},
   "outputs": [
    {
     "data": {
      "text/plain": [
       "(7032, 31)"
      ]
     },
     "execution_count": 238,
     "metadata": {},
     "output_type": "execute_result"
    }
   ],
   "source": [
    "#\n",
    "data.shape"
   ]
  },
  {
   "cell_type": "markdown",
   "id": "5efb3dcb-179f-4bfd-8e02-f4b76772d31f",
   "metadata": {},
   "source": [
    "Nous avons vu que la variable \"TotalCharges\" était asymétrique alors transformons la par une fonction racine carrée"
   ]
  },
  {
   "cell_type": "code",
   "execution_count": 239,
   "id": "9f5c9e83-b2f7-4f23-a532-5d8236ba061f",
   "metadata": {},
   "outputs": [],
   "source": [
    "data[\"TotalCharges\"] = np.sqrt(data[\"TotalCharges\"])"
   ]
  },
  {
   "cell_type": "code",
   "execution_count": 240,
   "id": "44ce17b9-9c62-4288-9877-1b45b2038ec1",
   "metadata": {},
   "outputs": [
    {
     "data": {
      "image/png": "[encoded data removed]",
      "text/plain": [
       "<Figure size 360x360 with 1 Axes>"
      ]
     },
     "metadata": {
      "needs_background": "light"
     },
     "output_type": "display_data"
    }
   ],
   "source": [
    "sns.displot(data[\"TotalCharges\"], kde = True);"
   ]
  },
  {
   "cell_type": "code",
   "execution_count": 241,
   "id": "0143c257-935d-4ef1-897a-e23901282700",
   "metadata": {},
   "outputs": [
    {
     "data": {
      "text/plain": [
       "0.3089261418986736"
      ]
     },
     "execution_count": 241,
     "metadata": {},
     "output_type": "execute_result"
    }
   ],
   "source": [
    "data.TotalCharges.skew()"
   ]
  },
  {
   "cell_type": "code",
   "execution_count": 242,
   "id": "04ae2146-c83f-4b62-b953-5cd9a5de7941",
   "metadata": {},
   "outputs": [],
   "source": [
    "# Données d'entrainement 60% et de validation 20% et de test 20%\n",
    "\n",
    "X = data.drop('Churn', axis = 1)\n",
    "y = data['Churn']\n",
    "\n",
    "seed = 123\n",
    "\n",
    "X_train, X_test, y_train, y_test = train_test_split(X, y , test_size = 0.4, random_state = seed, stratify = y)\n",
    "\n",
    "X_val, X_test, y_val, y_test = train_test_split(X_test, y_test , test_size = 0.5, random_state = seed, stratify = y_test)\n"
   ]
  },
  {
   "cell_type": "markdown",
   "id": "15ae6ecd-1a28-4d75-8b66-8d6559e57998",
   "metadata": {},
   "source": [
    "Il faut s'assurer que les proportions de personnes ayant résilié ou non leur contrat soient les mêmes dans les différents ensemble de données"
   ]
  },
  {
   "cell_type": "code",
   "execution_count": 243,
   "id": "f333358f-4b95-4e50-b03d-da7ad905cf89",
   "metadata": {},
   "outputs": [
    {
     "data": {
      "text/plain": [
       "Churn\n",
       "0        0.734215\n",
       "1        0.265785\n",
       "dtype: float64"
      ]
     },
     "execution_count": 243,
     "metadata": {},
     "output_type": "execute_result"
    }
   ],
   "source": [
    "# Fréquence dans les classes dans y & y_train\n",
    "\n",
    "pd.DataFrame(y).value_counts(normalize=True)"
   ]
  },
  {
   "cell_type": "code",
   "execution_count": 244,
   "id": "138b3015-e116-43cf-b3a5-69dbaa2e129a",
   "metadata": {},
   "outputs": [
    {
     "data": {
      "text/plain": [
       "Churn\n",
       "0        0.734297\n",
       "1        0.265703\n",
       "dtype: float64"
      ]
     },
     "execution_count": 244,
     "metadata": {},
     "output_type": "execute_result"
    }
   ],
   "source": [
    "pd.DataFrame(y_train).value_counts(normalize=True)"
   ]
  },
  {
   "cell_type": "markdown",
   "id": "25ef1dfd-955c-424c-a709-756c0c2a2fb5",
   "metadata": {},
   "source": [
    "Quant aux problèmes de déséquilibre de classe dans les données, nous pouvons utiliser le réechantillonnage pour créer plus d'équilibre entre les catégories de la variable cible.\n",
    "\n",
    "Soit créer plus d'observations dans la classe minoritaire ou diminuer les observations de la classe majoritaire."
   ]
  },
  {
   "cell_type": "code",
   "execution_count": 245,
   "id": "5c25d6c7-bf36-4593-83e2-01f38e903163",
   "metadata": {},
   "outputs": [
    {
     "data": {
      "text/html": [
       "<div>\n",
       "<style scoped>\n",
       "    .dataframe tbody tr th:only-of-type {\n",
       "        vertical-align: middle;\n",
       "    }\n",
       "\n",
       "    .dataframe tbody tr th {\n",
       "        vertical-align: top;\n",
       "    }\n",
       "\n",
       "    .dataframe thead th {\n",
       "        text-align: right;\n",
       "    }\n",
       "</style>\n",
       "<table border=\"1\" class=\"dataframe\">\n",
       "  <thead>\n",
       "    <tr style=\"text-align: right;\">\n",
       "      <th></th>\n",
       "      <th>gender</th>\n",
       "      <th>SeniorCitizen</th>\n",
       "      <th>Partner</th>\n",
       "      <th>Dependents</th>\n",
       "      <th>PhoneService</th>\n",
       "      <th>PaperlessBilling</th>\n",
       "      <th>MultipleLines_No phone service</th>\n",
       "      <th>MultipleLines_Yes</th>\n",
       "      <th>InternetService_Fiber optic</th>\n",
       "      <th>InternetService_No</th>\n",
       "      <th>...</th>\n",
       "      <th>StreamingMovies_Yes</th>\n",
       "      <th>Contract_One year</th>\n",
       "      <th>Contract_Two year</th>\n",
       "      <th>PaymentMethod_Credit card (automatic)</th>\n",
       "      <th>PaymentMethod_Electronic check</th>\n",
       "      <th>PaymentMethod_Mailed check</th>\n",
       "      <th>tenure</th>\n",
       "      <th>MonthlyCharges</th>\n",
       "      <th>TotalCharges</th>\n",
       "      <th>Churn</th>\n",
       "    </tr>\n",
       "  </thead>\n",
       "  <tbody>\n",
       "    <tr>\n",
       "      <th>5624</th>\n",
       "      <td>0</td>\n",
       "      <td>0</td>\n",
       "      <td>1</td>\n",
       "      <td>0</td>\n",
       "      <td>1</td>\n",
       "      <td>1</td>\n",
       "      <td>0</td>\n",
       "      <td>1</td>\n",
       "      <td>1</td>\n",
       "      <td>0</td>\n",
       "      <td>...</td>\n",
       "      <td>1</td>\n",
       "      <td>0</td>\n",
       "      <td>0</td>\n",
       "      <td>0</td>\n",
       "      <td>0</td>\n",
       "      <td>0</td>\n",
       "      <td>62</td>\n",
       "      <td>89.80</td>\n",
       "      <td>75.030327</td>\n",
       "      <td>0</td>\n",
       "    </tr>\n",
       "    <tr>\n",
       "      <th>6827</th>\n",
       "      <td>0</td>\n",
       "      <td>0</td>\n",
       "      <td>1</td>\n",
       "      <td>1</td>\n",
       "      <td>1</td>\n",
       "      <td>1</td>\n",
       "      <td>0</td>\n",
       "      <td>0</td>\n",
       "      <td>0</td>\n",
       "      <td>0</td>\n",
       "      <td>...</td>\n",
       "      <td>1</td>\n",
       "      <td>0</td>\n",
       "      <td>0</td>\n",
       "      <td>1</td>\n",
       "      <td>0</td>\n",
       "      <td>0</td>\n",
       "      <td>60</td>\n",
       "      <td>79.05</td>\n",
       "      <td>68.289091</td>\n",
       "      <td>0</td>\n",
       "    </tr>\n",
       "    <tr>\n",
       "      <th>2309</th>\n",
       "      <td>0</td>\n",
       "      <td>0</td>\n",
       "      <td>0</td>\n",
       "      <td>0</td>\n",
       "      <td>1</td>\n",
       "      <td>1</td>\n",
       "      <td>0</td>\n",
       "      <td>1</td>\n",
       "      <td>1</td>\n",
       "      <td>0</td>\n",
       "      <td>...</td>\n",
       "      <td>0</td>\n",
       "      <td>0</td>\n",
       "      <td>1</td>\n",
       "      <td>1</td>\n",
       "      <td>0</td>\n",
       "      <td>0</td>\n",
       "      <td>57</td>\n",
       "      <td>90.45</td>\n",
       "      <td>72.317356</td>\n",
       "      <td>0</td>\n",
       "    </tr>\n",
       "    <tr>\n",
       "      <th>6291</th>\n",
       "      <td>0</td>\n",
       "      <td>0</td>\n",
       "      <td>0</td>\n",
       "      <td>0</td>\n",
       "      <td>1</td>\n",
       "      <td>0</td>\n",
       "      <td>0</td>\n",
       "      <td>1</td>\n",
       "      <td>0</td>\n",
       "      <td>0</td>\n",
       "      <td>...</td>\n",
       "      <td>1</td>\n",
       "      <td>1</td>\n",
       "      <td>0</td>\n",
       "      <td>1</td>\n",
       "      <td>0</td>\n",
       "      <td>0</td>\n",
       "      <td>59</td>\n",
       "      <td>79.85</td>\n",
       "      <td>69.181645</td>\n",
       "      <td>0</td>\n",
       "    </tr>\n",
       "    <tr>\n",
       "      <th>3036</th>\n",
       "      <td>0</td>\n",
       "      <td>0</td>\n",
       "      <td>0</td>\n",
       "      <td>0</td>\n",
       "      <td>0</td>\n",
       "      <td>1</td>\n",
       "      <td>1</td>\n",
       "      <td>0</td>\n",
       "      <td>0</td>\n",
       "      <td>0</td>\n",
       "      <td>...</td>\n",
       "      <td>0</td>\n",
       "      <td>1</td>\n",
       "      <td>0</td>\n",
       "      <td>0</td>\n",
       "      <td>0</td>\n",
       "      <td>0</td>\n",
       "      <td>67</td>\n",
       "      <td>49.35</td>\n",
       "      <td>57.631155</td>\n",
       "      <td>0</td>\n",
       "    </tr>\n",
       "  </tbody>\n",
       "</table>\n",
       "<p>5 rows × 31 columns</p>\n",
       "</div>"
      ],
      "text/plain": [
       "      gender  SeniorCitizen  Partner  Dependents  PhoneService  \\\n",
       "5624       0              0        1           0             1   \n",
       "6827       0              0        1           1             1   \n",
       "2309       0              0        0           0             1   \n",
       "6291       0              0        0           0             1   \n",
       "3036       0              0        0           0             0   \n",
       "\n",
       "      PaperlessBilling  MultipleLines_No phone service  MultipleLines_Yes  \\\n",
       "5624                 1                               0                  1   \n",
       "6827                 1                               0                  0   \n",
       "2309                 1                               0                  1   \n",
       "6291                 0                               0                  1   \n",
       "3036                 1                               1                  0   \n",
       "\n",
       "      InternetService_Fiber optic  InternetService_No  ...  \\\n",
       "5624                            1                   0  ...   \n",
       "6827                            0                   0  ...   \n",
       "2309                            1                   0  ...   \n",
       "6291                            0                   0  ...   \n",
       "3036                            0                   0  ...   \n",
       "\n",
       "      StreamingMovies_Yes  Contract_One year  Contract_Two year  \\\n",
       "5624                    1                  0                  0   \n",
       "6827                    1                  0                  0   \n",
       "2309                    0                  0                  1   \n",
       "6291                    1                  1                  0   \n",
       "3036                    0                  1                  0   \n",
       "\n",
       "      PaymentMethod_Credit card (automatic)  PaymentMethod_Electronic check  \\\n",
       "5624                                      0                               0   \n",
       "6827                                      1                               0   \n",
       "2309                                      1                               0   \n",
       "6291                                      1                               0   \n",
       "3036                                      0                               0   \n",
       "\n",
       "      PaymentMethod_Mailed check  tenure  MonthlyCharges  TotalCharges  Churn  \n",
       "5624                           0      62           89.80     75.030327      0  \n",
       "6827                           0      60           79.05     68.289091      0  \n",
       "2309                           0      57           90.45     72.317356      0  \n",
       "6291                           0      59           79.85     69.181645      0  \n",
       "3036                           0      67           49.35     57.631155      0  \n",
       "\n",
       "[5 rows x 31 columns]"
      ]
     },
     "execution_count": 245,
     "metadata": {},
     "output_type": "execute_result"
    }
   ],
   "source": [
    "X2 = X_train\n",
    "\n",
    "X2['Churn'] = y_train.values\n",
    "\n",
    "minority = X2[X2.Churn == 1]\n",
    "\n",
    "majority = X2[X2.Churn == 0]\n",
    "\n",
    "minority_upsampled =  resample(minority, replace = True, n_samples = len(majority), random_state = seed)\n",
    "\n",
    "upsampled = pd.concat([majority, minority_upsampled])\n",
    "\n",
    "upsampled.head()"
   ]
  },
  {
   "cell_type": "code",
   "execution_count": 246,
   "id": "298183ea-6865-4254-9820-ac0853a3e45f",
   "metadata": {},
   "outputs": [
    {
     "data": {
      "text/plain": [
       "0    3098\n",
       "1    3098\n",
       "Name: Churn, dtype: int64"
      ]
     },
     "execution_count": 246,
     "metadata": {},
     "output_type": "execute_result"
    }
   ],
   "source": [
    "# Vérification\n",
    "\n",
    "upsampled['Churn'].value_counts()"
   ]
  },
  {
   "cell_type": "code",
   "execution_count": 247,
   "id": "0e9955d4-cb6b-4226-b3dc-f484a7de31ae",
   "metadata": {},
   "outputs": [],
   "source": [
    "X_train_up = upsampled.drop('Churn', axis = 1)\n",
    "\n",
    "y_train_up = upsampled['Churn']"
   ]
  },
  {
   "cell_type": "code",
   "execution_count": 248,
   "id": "8e7d2768-a9b2-4696-9d0a-783e817a83fb",
   "metadata": {},
   "outputs": [
    {
     "data": {
      "text/html": [
       "<div>\n",
       "<style scoped>\n",
       "    .dataframe tbody tr th:only-of-type {\n",
       "        vertical-align: middle;\n",
       "    }\n",
       "\n",
       "    .dataframe tbody tr th {\n",
       "        vertical-align: top;\n",
       "    }\n",
       "\n",
       "    .dataframe thead th {\n",
       "        text-align: right;\n",
       "    }\n",
       "</style>\n",
       "<table border=\"1\" class=\"dataframe\">\n",
       "  <thead>\n",
       "    <tr style=\"text-align: right;\">\n",
       "      <th></th>\n",
       "      <th>gender</th>\n",
       "      <th>SeniorCitizen</th>\n",
       "      <th>Partner</th>\n",
       "      <th>Dependents</th>\n",
       "      <th>PhoneService</th>\n",
       "      <th>PaperlessBilling</th>\n",
       "      <th>MultipleLines_No phone service</th>\n",
       "      <th>MultipleLines_Yes</th>\n",
       "      <th>InternetService_Fiber optic</th>\n",
       "      <th>InternetService_No</th>\n",
       "      <th>...</th>\n",
       "      <th>StreamingMovies_Yes</th>\n",
       "      <th>Contract_One year</th>\n",
       "      <th>Contract_Two year</th>\n",
       "      <th>PaymentMethod_Credit card (automatic)</th>\n",
       "      <th>PaymentMethod_Electronic check</th>\n",
       "      <th>PaymentMethod_Mailed check</th>\n",
       "      <th>tenure</th>\n",
       "      <th>MonthlyCharges</th>\n",
       "      <th>TotalCharges</th>\n",
       "      <th>Churn</th>\n",
       "    </tr>\n",
       "  </thead>\n",
       "  <tbody>\n",
       "    <tr>\n",
       "      <th>3725</th>\n",
       "      <td>0</td>\n",
       "      <td>0</td>\n",
       "      <td>0</td>\n",
       "      <td>0</td>\n",
       "      <td>1</td>\n",
       "      <td>1</td>\n",
       "      <td>0</td>\n",
       "      <td>0</td>\n",
       "      <td>1</td>\n",
       "      <td>0</td>\n",
       "      <td>...</td>\n",
       "      <td>0</td>\n",
       "      <td>0</td>\n",
       "      <td>0</td>\n",
       "      <td>0</td>\n",
       "      <td>0</td>\n",
       "      <td>1</td>\n",
       "      <td>1</td>\n",
       "      <td>70.80</td>\n",
       "      <td>8.414274</td>\n",
       "      <td>1</td>\n",
       "    </tr>\n",
       "    <tr>\n",
       "      <th>6597</th>\n",
       "      <td>0</td>\n",
       "      <td>0</td>\n",
       "      <td>0</td>\n",
       "      <td>0</td>\n",
       "      <td>1</td>\n",
       "      <td>1</td>\n",
       "      <td>0</td>\n",
       "      <td>0</td>\n",
       "      <td>0</td>\n",
       "      <td>0</td>\n",
       "      <td>...</td>\n",
       "      <td>1</td>\n",
       "      <td>0</td>\n",
       "      <td>0</td>\n",
       "      <td>1</td>\n",
       "      <td>0</td>\n",
       "      <td>0</td>\n",
       "      <td>7</td>\n",
       "      <td>70.75</td>\n",
       "      <td>21.232051</td>\n",
       "      <td>1</td>\n",
       "    </tr>\n",
       "    <tr>\n",
       "      <th>3779</th>\n",
       "      <td>0</td>\n",
       "      <td>0</td>\n",
       "      <td>1</td>\n",
       "      <td>1</td>\n",
       "      <td>1</td>\n",
       "      <td>0</td>\n",
       "      <td>0</td>\n",
       "      <td>1</td>\n",
       "      <td>0</td>\n",
       "      <td>0</td>\n",
       "      <td>...</td>\n",
       "      <td>0</td>\n",
       "      <td>0</td>\n",
       "      <td>1</td>\n",
       "      <td>1</td>\n",
       "      <td>0</td>\n",
       "      <td>0</td>\n",
       "      <td>66</td>\n",
       "      <td>79.40</td>\n",
       "      <td>71.795543</td>\n",
       "      <td>1</td>\n",
       "    </tr>\n",
       "    <tr>\n",
       "      <th>2208</th>\n",
       "      <td>0</td>\n",
       "      <td>0</td>\n",
       "      <td>1</td>\n",
       "      <td>0</td>\n",
       "      <td>1</td>\n",
       "      <td>1</td>\n",
       "      <td>0</td>\n",
       "      <td>1</td>\n",
       "      <td>1</td>\n",
       "      <td>0</td>\n",
       "      <td>...</td>\n",
       "      <td>1</td>\n",
       "      <td>0</td>\n",
       "      <td>0</td>\n",
       "      <td>0</td>\n",
       "      <td>1</td>\n",
       "      <td>0</td>\n",
       "      <td>1</td>\n",
       "      <td>100.80</td>\n",
       "      <td>10.039920</td>\n",
       "      <td>1</td>\n",
       "    </tr>\n",
       "    <tr>\n",
       "      <th>2894</th>\n",
       "      <td>0</td>\n",
       "      <td>0</td>\n",
       "      <td>0</td>\n",
       "      <td>0</td>\n",
       "      <td>1</td>\n",
       "      <td>1</td>\n",
       "      <td>0</td>\n",
       "      <td>0</td>\n",
       "      <td>0</td>\n",
       "      <td>0</td>\n",
       "      <td>...</td>\n",
       "      <td>0</td>\n",
       "      <td>1</td>\n",
       "      <td>0</td>\n",
       "      <td>1</td>\n",
       "      <td>0</td>\n",
       "      <td>0</td>\n",
       "      <td>48</td>\n",
       "      <td>60.35</td>\n",
       "      <td>53.818213</td>\n",
       "      <td>1</td>\n",
       "    </tr>\n",
       "    <tr>\n",
       "      <th>...</th>\n",
       "      <td>...</td>\n",
       "      <td>...</td>\n",
       "      <td>...</td>\n",
       "      <td>...</td>\n",
       "      <td>...</td>\n",
       "      <td>...</td>\n",
       "      <td>...</td>\n",
       "      <td>...</td>\n",
       "      <td>...</td>\n",
       "      <td>...</td>\n",
       "      <td>...</td>\n",
       "      <td>...</td>\n",
       "      <td>...</td>\n",
       "      <td>...</td>\n",
       "      <td>...</td>\n",
       "      <td>...</td>\n",
       "      <td>...</td>\n",
       "      <td>...</td>\n",
       "      <td>...</td>\n",
       "      <td>...</td>\n",
       "      <td>...</td>\n",
       "    </tr>\n",
       "    <tr>\n",
       "      <th>802</th>\n",
       "      <td>0</td>\n",
       "      <td>0</td>\n",
       "      <td>1</td>\n",
       "      <td>1</td>\n",
       "      <td>1</td>\n",
       "      <td>1</td>\n",
       "      <td>0</td>\n",
       "      <td>1</td>\n",
       "      <td>0</td>\n",
       "      <td>1</td>\n",
       "      <td>...</td>\n",
       "      <td>0</td>\n",
       "      <td>0</td>\n",
       "      <td>1</td>\n",
       "      <td>0</td>\n",
       "      <td>0</td>\n",
       "      <td>1</td>\n",
       "      <td>39</td>\n",
       "      <td>23.80</td>\n",
       "      <td>30.063267</td>\n",
       "      <td>0</td>\n",
       "    </tr>\n",
       "    <tr>\n",
       "      <th>244</th>\n",
       "      <td>0</td>\n",
       "      <td>0</td>\n",
       "      <td>0</td>\n",
       "      <td>0</td>\n",
       "      <td>1</td>\n",
       "      <td>1</td>\n",
       "      <td>0</td>\n",
       "      <td>0</td>\n",
       "      <td>0</td>\n",
       "      <td>0</td>\n",
       "      <td>...</td>\n",
       "      <td>0</td>\n",
       "      <td>0</td>\n",
       "      <td>0</td>\n",
       "      <td>0</td>\n",
       "      <td>1</td>\n",
       "      <td>0</td>\n",
       "      <td>13</td>\n",
       "      <td>54.80</td>\n",
       "      <td>27.042559</td>\n",
       "      <td>0</td>\n",
       "    </tr>\n",
       "    <tr>\n",
       "      <th>6635</th>\n",
       "      <td>0</td>\n",
       "      <td>0</td>\n",
       "      <td>1</td>\n",
       "      <td>0</td>\n",
       "      <td>1</td>\n",
       "      <td>0</td>\n",
       "      <td>0</td>\n",
       "      <td>0</td>\n",
       "      <td>0</td>\n",
       "      <td>1</td>\n",
       "      <td>...</td>\n",
       "      <td>0</td>\n",
       "      <td>1</td>\n",
       "      <td>0</td>\n",
       "      <td>0</td>\n",
       "      <td>0</td>\n",
       "      <td>1</td>\n",
       "      <td>24</td>\n",
       "      <td>20.10</td>\n",
       "      <td>23.106276</td>\n",
       "      <td>0</td>\n",
       "    </tr>\n",
       "    <tr>\n",
       "      <th>2568</th>\n",
       "      <td>0</td>\n",
       "      <td>0</td>\n",
       "      <td>1</td>\n",
       "      <td>1</td>\n",
       "      <td>1</td>\n",
       "      <td>0</td>\n",
       "      <td>0</td>\n",
       "      <td>0</td>\n",
       "      <td>0</td>\n",
       "      <td>1</td>\n",
       "      <td>...</td>\n",
       "      <td>0</td>\n",
       "      <td>0</td>\n",
       "      <td>1</td>\n",
       "      <td>0</td>\n",
       "      <td>0</td>\n",
       "      <td>1</td>\n",
       "      <td>15</td>\n",
       "      <td>19.35</td>\n",
       "      <td>16.698802</td>\n",
       "      <td>0</td>\n",
       "    </tr>\n",
       "    <tr>\n",
       "      <th>326</th>\n",
       "      <td>0</td>\n",
       "      <td>0</td>\n",
       "      <td>1</td>\n",
       "      <td>0</td>\n",
       "      <td>1</td>\n",
       "      <td>1</td>\n",
       "      <td>0</td>\n",
       "      <td>0</td>\n",
       "      <td>1</td>\n",
       "      <td>0</td>\n",
       "      <td>...</td>\n",
       "      <td>0</td>\n",
       "      <td>0</td>\n",
       "      <td>0</td>\n",
       "      <td>0</td>\n",
       "      <td>1</td>\n",
       "      <td>0</td>\n",
       "      <td>11</td>\n",
       "      <td>82.90</td>\n",
       "      <td>29.665637</td>\n",
       "      <td>0</td>\n",
       "    </tr>\n",
       "  </tbody>\n",
       "</table>\n",
       "<p>2242 rows × 31 columns</p>\n",
       "</div>"
      ],
      "text/plain": [
       "      gender  SeniorCitizen  Partner  Dependents  PhoneService  \\\n",
       "3725       0              0        0           0             1   \n",
       "6597       0              0        0           0             1   \n",
       "3779       0              0        1           1             1   \n",
       "2208       0              0        1           0             1   \n",
       "2894       0              0        0           0             1   \n",
       "...      ...            ...      ...         ...           ...   \n",
       "802        0              0        1           1             1   \n",
       "244        0              0        0           0             1   \n",
       "6635       0              0        1           0             1   \n",
       "2568       0              0        1           1             1   \n",
       "326        0              0        1           0             1   \n",
       "\n",
       "      PaperlessBilling  MultipleLines_No phone service  MultipleLines_Yes  \\\n",
       "3725                 1                               0                  0   \n",
       "6597                 1                               0                  0   \n",
       "3779                 0                               0                  1   \n",
       "2208                 1                               0                  1   \n",
       "2894                 1                               0                  0   \n",
       "...                ...                             ...                ...   \n",
       "802                  1                               0                  1   \n",
       "244                  1                               0                  0   \n",
       "6635                 0                               0                  0   \n",
       "2568                 0                               0                  0   \n",
       "326                  1                               0                  0   \n",
       "\n",
       "      InternetService_Fiber optic  InternetService_No  ...  \\\n",
       "3725                            1                   0  ...   \n",
       "6597                            0                   0  ...   \n",
       "3779                            0                   0  ...   \n",
       "2208                            1                   0  ...   \n",
       "2894                            0                   0  ...   \n",
       "...                           ...                 ...  ...   \n",
       "802                             0                   1  ...   \n",
       "244                             0                   0  ...   \n",
       "6635                            0                   1  ...   \n",
       "2568                            0                   1  ...   \n",
       "326                             1                   0  ...   \n",
       "\n",
       "      StreamingMovies_Yes  Contract_One year  Contract_Two year  \\\n",
       "3725                    0                  0                  0   \n",
       "6597                    1                  0                  0   \n",
       "3779                    0                  0                  1   \n",
       "2208                    1                  0                  0   \n",
       "2894                    0                  1                  0   \n",
       "...                   ...                ...                ...   \n",
       "802                     0                  0                  1   \n",
       "244                     0                  0                  0   \n",
       "6635                    0                  1                  0   \n",
       "2568                    0                  0                  1   \n",
       "326                     0                  0                  0   \n",
       "\n",
       "      PaymentMethod_Credit card (automatic)  PaymentMethod_Electronic check  \\\n",
       "3725                                      0                               0   \n",
       "6597                                      1                               0   \n",
       "3779                                      1                               0   \n",
       "2208                                      0                               1   \n",
       "2894                                      1                               0   \n",
       "...                                     ...                             ...   \n",
       "802                                       0                               0   \n",
       "244                                       0                               1   \n",
       "6635                                      0                               0   \n",
       "2568                                      0                               0   \n",
       "326                                       0                               1   \n",
       "\n",
       "      PaymentMethod_Mailed check  tenure  MonthlyCharges  TotalCharges  Churn  \n",
       "3725                           1       1           70.80      8.414274      1  \n",
       "6597                           0       7           70.75     21.232051      1  \n",
       "3779                           0      66           79.40     71.795543      1  \n",
       "2208                           0       1          100.80     10.039920      1  \n",
       "2894                           0      48           60.35     53.818213      1  \n",
       "...                          ...     ...             ...           ...    ...  \n",
       "802                            1      39           23.80     30.063267      0  \n",
       "244                            0      13           54.80     27.042559      0  \n",
       "6635                           1      24           20.10     23.106276      0  \n",
       "2568                           1      15           19.35     16.698802      0  \n",
       "326                            0      11           82.90     29.665637      0  \n",
       "\n",
       "[2242 rows x 31 columns]"
      ]
     },
     "execution_count": 248,
     "metadata": {},
     "output_type": "execute_result"
    }
   ],
   "source": [
    "majority_downsampled =  resample(majority, replace = False, n_samples = len(minority), random_state = seed)\n",
    "\n",
    "downsampled = pd.concat([minority, majority_downsampled])\n",
    "\n",
    "downsampled"
   ]
  },
  {
   "cell_type": "code",
   "execution_count": 249,
   "id": "a74d09fd-77e4-4d2b-aec3-4e682bb98195",
   "metadata": {},
   "outputs": [
    {
     "data": {
      "text/plain": [
       "1    1121\n",
       "0    1121\n",
       "Name: Churn, dtype: int64"
      ]
     },
     "execution_count": 249,
     "metadata": {},
     "output_type": "execute_result"
    }
   ],
   "source": [
    "downsampled['Churn'].value_counts()"
   ]
  },
  {
   "cell_type": "code",
   "execution_count": 250,
   "id": "f29b9960-87dc-4ede-8e3d-375dae51e259",
   "metadata": {},
   "outputs": [],
   "source": [
    "# Données d'entrainement sur la méthode de sous-échantillonnage de la classe majoritaire\n",
    "\n",
    "X_train_down = downsampled.drop('Churn', axis = 1)\n",
    "\n",
    "y_train_down = downsampled['Churn']"
   ]
  },
  {
   "cell_type": "code",
   "execution_count": 251,
   "id": "629cb7ce-aa6b-4fee-92eb-f5f08e63ea9c",
   "metadata": {},
   "outputs": [],
   "source": [
    "y_train = X_train['Churn']\n",
    "\n",
    "X_train = X_train.drop('Churn', axis = 1) "
   ]
  },
  {
   "cell_type": "code",
   "execution_count": 252,
   "id": "abeb68da-c40c-4eed-8a22-3fd4d1caf537",
   "metadata": {},
   "outputs": [],
   "source": [
    "# Définition des données d'entrainement\n",
    "\n",
    "# Choix possibles : (X_train, y_train), (X_train_up, y_train_up) et (X_train_down, y_train_down)\n",
    "\n",
    "train_features = X_train_up\n",
    "\n",
    "train_labels = y_train_up\n",
    "\n"
   ]
  },
  {
   "cell_type": "code",
   "execution_count": 253,
   "id": "eb867e79-4e79-4be4-98c8-47966b781cfc",
   "metadata": {},
   "outputs": [
    {
     "data": {
      "text/html": [
       "<div>\n",
       "<style scoped>\n",
       "    .dataframe tbody tr th:only-of-type {\n",
       "        vertical-align: middle;\n",
       "    }\n",
       "\n",
       "    .dataframe tbody tr th {\n",
       "        vertical-align: top;\n",
       "    }\n",
       "\n",
       "    .dataframe thead th {\n",
       "        text-align: right;\n",
       "    }\n",
       "</style>\n",
       "<table border=\"1\" class=\"dataframe\">\n",
       "  <thead>\n",
       "    <tr style=\"text-align: right;\">\n",
       "      <th></th>\n",
       "      <th>gender</th>\n",
       "      <th>SeniorCitizen</th>\n",
       "      <th>Partner</th>\n",
       "      <th>Dependents</th>\n",
       "      <th>PhoneService</th>\n",
       "      <th>PaperlessBilling</th>\n",
       "      <th>MultipleLines_No phone service</th>\n",
       "      <th>MultipleLines_Yes</th>\n",
       "      <th>InternetService_Fiber optic</th>\n",
       "      <th>InternetService_No</th>\n",
       "      <th>...</th>\n",
       "      <th>StreamingMovies_No internet service</th>\n",
       "      <th>StreamingMovies_Yes</th>\n",
       "      <th>Contract_One year</th>\n",
       "      <th>Contract_Two year</th>\n",
       "      <th>PaymentMethod_Credit card (automatic)</th>\n",
       "      <th>PaymentMethod_Electronic check</th>\n",
       "      <th>PaymentMethod_Mailed check</th>\n",
       "      <th>tenure</th>\n",
       "      <th>MonthlyCharges</th>\n",
       "      <th>TotalCharges</th>\n",
       "    </tr>\n",
       "  </thead>\n",
       "  <tbody>\n",
       "    <tr>\n",
       "      <th>5624</th>\n",
       "      <td>0</td>\n",
       "      <td>0</td>\n",
       "      <td>1</td>\n",
       "      <td>0</td>\n",
       "      <td>1</td>\n",
       "      <td>1</td>\n",
       "      <td>0</td>\n",
       "      <td>1</td>\n",
       "      <td>1</td>\n",
       "      <td>0</td>\n",
       "      <td>...</td>\n",
       "      <td>0</td>\n",
       "      <td>1</td>\n",
       "      <td>0</td>\n",
       "      <td>0</td>\n",
       "      <td>0</td>\n",
       "      <td>0</td>\n",
       "      <td>0</td>\n",
       "      <td>62</td>\n",
       "      <td>89.80</td>\n",
       "      <td>75.030327</td>\n",
       "    </tr>\n",
       "    <tr>\n",
       "      <th>6827</th>\n",
       "      <td>0</td>\n",
       "      <td>0</td>\n",
       "      <td>1</td>\n",
       "      <td>1</td>\n",
       "      <td>1</td>\n",
       "      <td>1</td>\n",
       "      <td>0</td>\n",
       "      <td>0</td>\n",
       "      <td>0</td>\n",
       "      <td>0</td>\n",
       "      <td>...</td>\n",
       "      <td>0</td>\n",
       "      <td>1</td>\n",
       "      <td>0</td>\n",
       "      <td>0</td>\n",
       "      <td>1</td>\n",
       "      <td>0</td>\n",
       "      <td>0</td>\n",
       "      <td>60</td>\n",
       "      <td>79.05</td>\n",
       "      <td>68.289091</td>\n",
       "    </tr>\n",
       "    <tr>\n",
       "      <th>2309</th>\n",
       "      <td>0</td>\n",
       "      <td>0</td>\n",
       "      <td>0</td>\n",
       "      <td>0</td>\n",
       "      <td>1</td>\n",
       "      <td>1</td>\n",
       "      <td>0</td>\n",
       "      <td>1</td>\n",
       "      <td>1</td>\n",
       "      <td>0</td>\n",
       "      <td>...</td>\n",
       "      <td>0</td>\n",
       "      <td>0</td>\n",
       "      <td>0</td>\n",
       "      <td>1</td>\n",
       "      <td>1</td>\n",
       "      <td>0</td>\n",
       "      <td>0</td>\n",
       "      <td>57</td>\n",
       "      <td>90.45</td>\n",
       "      <td>72.317356</td>\n",
       "    </tr>\n",
       "    <tr>\n",
       "      <th>6291</th>\n",
       "      <td>0</td>\n",
       "      <td>0</td>\n",
       "      <td>0</td>\n",
       "      <td>0</td>\n",
       "      <td>1</td>\n",
       "      <td>0</td>\n",
       "      <td>0</td>\n",
       "      <td>1</td>\n",
       "      <td>0</td>\n",
       "      <td>0</td>\n",
       "      <td>...</td>\n",
       "      <td>0</td>\n",
       "      <td>1</td>\n",
       "      <td>1</td>\n",
       "      <td>0</td>\n",
       "      <td>1</td>\n",
       "      <td>0</td>\n",
       "      <td>0</td>\n",
       "      <td>59</td>\n",
       "      <td>79.85</td>\n",
       "      <td>69.181645</td>\n",
       "    </tr>\n",
       "    <tr>\n",
       "      <th>3036</th>\n",
       "      <td>0</td>\n",
       "      <td>0</td>\n",
       "      <td>0</td>\n",
       "      <td>0</td>\n",
       "      <td>0</td>\n",
       "      <td>1</td>\n",
       "      <td>1</td>\n",
       "      <td>0</td>\n",
       "      <td>0</td>\n",
       "      <td>0</td>\n",
       "      <td>...</td>\n",
       "      <td>0</td>\n",
       "      <td>0</td>\n",
       "      <td>1</td>\n",
       "      <td>0</td>\n",
       "      <td>0</td>\n",
       "      <td>0</td>\n",
       "      <td>0</td>\n",
       "      <td>67</td>\n",
       "      <td>49.35</td>\n",
       "      <td>57.631155</td>\n",
       "    </tr>\n",
       "  </tbody>\n",
       "</table>\n",
       "<p>5 rows × 30 columns</p>\n",
       "</div>"
      ],
      "text/plain": [
       "      gender  SeniorCitizen  Partner  Dependents  PhoneService  \\\n",
       "5624       0              0        1           0             1   \n",
       "6827       0              0        1           1             1   \n",
       "2309       0              0        0           0             1   \n",
       "6291       0              0        0           0             1   \n",
       "3036       0              0        0           0             0   \n",
       "\n",
       "      PaperlessBilling  MultipleLines_No phone service  MultipleLines_Yes  \\\n",
       "5624                 1                               0                  1   \n",
       "6827                 1                               0                  0   \n",
       "2309                 1                               0                  1   \n",
       "6291                 0                               0                  1   \n",
       "3036                 1                               1                  0   \n",
       "\n",
       "      InternetService_Fiber optic  InternetService_No  ...  \\\n",
       "5624                            1                   0  ...   \n",
       "6827                            0                   0  ...   \n",
       "2309                            1                   0  ...   \n",
       "6291                            0                   0  ...   \n",
       "3036                            0                   0  ...   \n",
       "\n",
       "      StreamingMovies_No internet service  StreamingMovies_Yes  \\\n",
       "5624                                    0                    1   \n",
       "6827                                    0                    1   \n",
       "2309                                    0                    0   \n",
       "6291                                    0                    1   \n",
       "3036                                    0                    0   \n",
       "\n",
       "      Contract_One year  Contract_Two year  \\\n",
       "5624                  0                  0   \n",
       "6827                  0                  0   \n",
       "2309                  0                  1   \n",
       "6291                  1                  0   \n",
       "3036                  1                  0   \n",
       "\n",
       "      PaymentMethod_Credit card (automatic)  PaymentMethod_Electronic check  \\\n",
       "5624                                      0                               0   \n",
       "6827                                      1                               0   \n",
       "2309                                      1                               0   \n",
       "6291                                      1                               0   \n",
       "3036                                      0                               0   \n",
       "\n",
       "      PaymentMethod_Mailed check  tenure  MonthlyCharges  TotalCharges  \n",
       "5624                           0      62           89.80     75.030327  \n",
       "6827                           0      60           79.05     68.289091  \n",
       "2309                           0      57           90.45     72.317356  \n",
       "6291                           0      59           79.85     69.181645  \n",
       "3036                           0      67           49.35     57.631155  \n",
       "\n",
       "[5 rows x 30 columns]"
      ]
     },
     "execution_count": 253,
     "metadata": {},
     "output_type": "execute_result"
    }
   ],
   "source": [
    "# Normalisation des données\n",
    "\n",
    "train_features.head()"
   ]
  },
  {
   "cell_type": "code",
   "execution_count": 254,
   "id": "a5667234-4cdf-4987-9543-01a917769cd5",
   "metadata": {},
   "outputs": [],
   "source": [
    "scaler = MinMaxScaler()\n",
    "mod_scaler = scaler.fit(train_features)\n",
    "train_features = mod_scaler.transform(train_features)\n",
    "X_val = mod_scaler.transform(X_val)\n",
    "X_test = mod_scaler.transform(X_test)\n",
    "\n",
    "# Retransformation en datraframe\n",
    "\n",
    "\n",
    "train_features = pd.DataFrame(train_features, columns = X.columns)\n",
    "X_val = pd.DataFrame(X_val, columns = X.columns)\n",
    "X_test = pd.DataFrame(X_test, columns = X.columns)"
   ]
  },
  {
   "cell_type": "code",
   "execution_count": 255,
   "id": "86e31cd6-f871-4855-8be5-c77e9d1488d7",
   "metadata": {},
   "outputs": [
    {
     "data": {
      "text/html": [
       "<div>\n",
       "<style scoped>\n",
       "    .dataframe tbody tr th:only-of-type {\n",
       "        vertical-align: middle;\n",
       "    }\n",
       "\n",
       "    .dataframe tbody tr th {\n",
       "        vertical-align: top;\n",
       "    }\n",
       "\n",
       "    .dataframe thead th {\n",
       "        text-align: right;\n",
       "    }\n",
       "</style>\n",
       "<table border=\"1\" class=\"dataframe\">\n",
       "  <thead>\n",
       "    <tr style=\"text-align: right;\">\n",
       "      <th></th>\n",
       "      <th>gender</th>\n",
       "      <th>SeniorCitizen</th>\n",
       "      <th>Partner</th>\n",
       "      <th>Dependents</th>\n",
       "      <th>PhoneService</th>\n",
       "      <th>PaperlessBilling</th>\n",
       "      <th>MultipleLines_No phone service</th>\n",
       "      <th>MultipleLines_Yes</th>\n",
       "      <th>InternetService_Fiber optic</th>\n",
       "      <th>InternetService_No</th>\n",
       "      <th>...</th>\n",
       "      <th>StreamingMovies_No internet service</th>\n",
       "      <th>StreamingMovies_Yes</th>\n",
       "      <th>Contract_One year</th>\n",
       "      <th>Contract_Two year</th>\n",
       "      <th>PaymentMethod_Credit card (automatic)</th>\n",
       "      <th>PaymentMethod_Electronic check</th>\n",
       "      <th>PaymentMethod_Mailed check</th>\n",
       "      <th>tenure</th>\n",
       "      <th>MonthlyCharges</th>\n",
       "      <th>TotalCharges</th>\n",
       "    </tr>\n",
       "  </thead>\n",
       "  <tbody>\n",
       "    <tr>\n",
       "      <th>0</th>\n",
       "      <td>0.0</td>\n",
       "      <td>0.0</td>\n",
       "      <td>1.0</td>\n",
       "      <td>0.0</td>\n",
       "      <td>1.0</td>\n",
       "      <td>1.0</td>\n",
       "      <td>0.0</td>\n",
       "      <td>1.0</td>\n",
       "      <td>1.0</td>\n",
       "      <td>0.0</td>\n",
       "      <td>...</td>\n",
       "      <td>0.0</td>\n",
       "      <td>1.0</td>\n",
       "      <td>0.0</td>\n",
       "      <td>0.0</td>\n",
       "      <td>0.0</td>\n",
       "      <td>0.0</td>\n",
       "      <td>0.0</td>\n",
       "      <td>0.859155</td>\n",
       "      <td>0.711940</td>\n",
       "      <td>0.796197</td>\n",
       "    </tr>\n",
       "    <tr>\n",
       "      <th>1</th>\n",
       "      <td>0.0</td>\n",
       "      <td>0.0</td>\n",
       "      <td>1.0</td>\n",
       "      <td>1.0</td>\n",
       "      <td>1.0</td>\n",
       "      <td>1.0</td>\n",
       "      <td>0.0</td>\n",
       "      <td>0.0</td>\n",
       "      <td>0.0</td>\n",
       "      <td>0.0</td>\n",
       "      <td>...</td>\n",
       "      <td>0.0</td>\n",
       "      <td>1.0</td>\n",
       "      <td>0.0</td>\n",
       "      <td>0.0</td>\n",
       "      <td>1.0</td>\n",
       "      <td>0.0</td>\n",
       "      <td>0.0</td>\n",
       "      <td>0.830986</td>\n",
       "      <td>0.604975</td>\n",
       "      <td>0.720274</td>\n",
       "    </tr>\n",
       "    <tr>\n",
       "      <th>2</th>\n",
       "      <td>0.0</td>\n",
       "      <td>0.0</td>\n",
       "      <td>0.0</td>\n",
       "      <td>0.0</td>\n",
       "      <td>1.0</td>\n",
       "      <td>1.0</td>\n",
       "      <td>0.0</td>\n",
       "      <td>1.0</td>\n",
       "      <td>1.0</td>\n",
       "      <td>0.0</td>\n",
       "      <td>...</td>\n",
       "      <td>0.0</td>\n",
       "      <td>0.0</td>\n",
       "      <td>0.0</td>\n",
       "      <td>1.0</td>\n",
       "      <td>1.0</td>\n",
       "      <td>0.0</td>\n",
       "      <td>0.0</td>\n",
       "      <td>0.788732</td>\n",
       "      <td>0.718408</td>\n",
       "      <td>0.765642</td>\n",
       "    </tr>\n",
       "    <tr>\n",
       "      <th>3</th>\n",
       "      <td>0.0</td>\n",
       "      <td>0.0</td>\n",
       "      <td>0.0</td>\n",
       "      <td>0.0</td>\n",
       "      <td>1.0</td>\n",
       "      <td>0.0</td>\n",
       "      <td>0.0</td>\n",
       "      <td>1.0</td>\n",
       "      <td>0.0</td>\n",
       "      <td>0.0</td>\n",
       "      <td>...</td>\n",
       "      <td>0.0</td>\n",
       "      <td>1.0</td>\n",
       "      <td>1.0</td>\n",
       "      <td>0.0</td>\n",
       "      <td>1.0</td>\n",
       "      <td>0.0</td>\n",
       "      <td>0.0</td>\n",
       "      <td>0.816901</td>\n",
       "      <td>0.612935</td>\n",
       "      <td>0.730326</td>\n",
       "    </tr>\n",
       "    <tr>\n",
       "      <th>4</th>\n",
       "      <td>0.0</td>\n",
       "      <td>0.0</td>\n",
       "      <td>0.0</td>\n",
       "      <td>0.0</td>\n",
       "      <td>0.0</td>\n",
       "      <td>1.0</td>\n",
       "      <td>1.0</td>\n",
       "      <td>0.0</td>\n",
       "      <td>0.0</td>\n",
       "      <td>0.0</td>\n",
       "      <td>...</td>\n",
       "      <td>0.0</td>\n",
       "      <td>0.0</td>\n",
       "      <td>1.0</td>\n",
       "      <td>0.0</td>\n",
       "      <td>0.0</td>\n",
       "      <td>0.0</td>\n",
       "      <td>0.0</td>\n",
       "      <td>0.929577</td>\n",
       "      <td>0.309453</td>\n",
       "      <td>0.600239</td>\n",
       "    </tr>\n",
       "  </tbody>\n",
       "</table>\n",
       "<p>5 rows × 30 columns</p>\n",
       "</div>"
      ],
      "text/plain": [
       "   gender  SeniorCitizen  Partner  Dependents  PhoneService  PaperlessBilling  \\\n",
       "0     0.0            0.0      1.0         0.0           1.0               1.0   \n",
       "1     0.0            0.0      1.0         1.0           1.0               1.0   \n",
       "2     0.0            0.0      0.0         0.0           1.0               1.0   \n",
       "3     0.0            0.0      0.0         0.0           1.0               0.0   \n",
       "4     0.0            0.0      0.0         0.0           0.0               1.0   \n",
       "\n",
       "   MultipleLines_No phone service  MultipleLines_Yes  \\\n",
       "0                             0.0                1.0   \n",
       "1                             0.0                0.0   \n",
       "2                             0.0                1.0   \n",
       "3                             0.0                1.0   \n",
       "4                             1.0                0.0   \n",
       "\n",
       "   InternetService_Fiber optic  InternetService_No  ...  \\\n",
       "0                          1.0                 0.0  ...   \n",
       "1                          0.0                 0.0  ...   \n",
       "2                          1.0                 0.0  ...   \n",
       "3                          0.0                 0.0  ...   \n",
       "4                          0.0                 0.0  ...   \n",
       "\n",
       "   StreamingMovies_No internet service  StreamingMovies_Yes  \\\n",
       "0                                  0.0                  1.0   \n",
       "1                                  0.0                  1.0   \n",
       "2                                  0.0                  0.0   \n",
       "3                                  0.0                  1.0   \n",
       "4                                  0.0                  0.0   \n",
       "\n",
       "   Contract_One year  Contract_Two year  \\\n",
       "0                0.0                0.0   \n",
       "1                0.0                0.0   \n",
       "2                0.0                1.0   \n",
       "3                1.0                0.0   \n",
       "4                1.0                0.0   \n",
       "\n",
       "   PaymentMethod_Credit card (automatic)  PaymentMethod_Electronic check  \\\n",
       "0                                    0.0                             0.0   \n",
       "1                                    1.0                             0.0   \n",
       "2                                    1.0                             0.0   \n",
       "3                                    1.0                             0.0   \n",
       "4                                    0.0                             0.0   \n",
       "\n",
       "   PaymentMethod_Mailed check    tenure  MonthlyCharges  TotalCharges  \n",
       "0                         0.0  0.859155        0.711940      0.796197  \n",
       "1                         0.0  0.830986        0.604975      0.720274  \n",
       "2                         0.0  0.788732        0.718408      0.765642  \n",
       "3                         0.0  0.816901        0.612935      0.730326  \n",
       "4                         0.0  0.929577        0.309453      0.600239  \n",
       "\n",
       "[5 rows x 30 columns]"
      ]
     },
     "execution_count": 255,
     "metadata": {},
     "output_type": "execute_result"
    }
   ],
   "source": [
    "train_features.head()"
   ]
  },
  {
   "cell_type": "markdown",
   "id": "a6ca019d-d4fd-4ea9-a9a3-b66cffb9e88d",
   "metadata": {},
   "source": [
    "Nous choisissons la F1 score pour évaluer la performance des modèles"
   ]
  },
  {
   "cell_type": "code",
   "execution_count": 256,
   "id": "ddbc7bea-e6fd-4059-892f-84f2bb935366",
   "metadata": {},
   "outputs": [
    {
     "name": "stdout",
     "output_type": "stream",
     "text": [
      "              precision    recall  f1-score   support\n",
      "\n",
      "           0       0.85      0.86      0.85      1032\n",
      "           1       0.60      0.58      0.59       374\n",
      "\n",
      "    accuracy                           0.78      1406\n",
      "   macro avg       0.72      0.72      0.72      1406\n",
      "weighted avg       0.78      0.78      0.78      1406\n",
      "\n"
     ]
    }
   ],
   "source": [
    "# Selection des meilleurs variables prédictrices\n",
    "\n",
    "rf = RandomForestClassifier()\n",
    "\n",
    "rf.fit(train_features, train_labels)\n",
    "\n",
    "print(classification_report(y_val, rf.predict(X_val)))"
   ]
  },
  {
   "cell_type": "code",
   "execution_count": 257,
   "id": "81275796-f0a0-4918-af3f-a49a7f2452b6",
   "metadata": {},
   "outputs": [
    {
     "data": {
      "image/png": "[encoded data removed]",
      "text/plain": [
       "<Figure size 864x432 with 1 Axes>"
      ]
     },
     "metadata": {
      "needs_background": "light"
     },
     "output_type": "display_data"
    }
   ],
   "source": [
    "# Importances des variables indépendantes\n",
    "plt.figure(figsize = (12,6))\n",
    "vars_imp = pd.Series(rf.feature_importances_, index = train_features.columns).sort_values(ascending=False)\n",
    "\n",
    "sns.barplot(x = vars_imp.index, y = vars_imp)\n",
    "plt.xticks(rotation = 90)\n",
    "plt.xlabel(\"Variables\")\n",
    "plt.ylabel(\"Score d'importance de la variable\")\n",
    "plt.title(\"Importances des variables indépendantes\")\n",
    "plt.show()"
   ]
  },
  {
   "cell_type": "code",
   "execution_count": 258,
   "id": "6728ad56-d25a-4cbf-af25-c37c63ef4529",
   "metadata": {},
   "outputs": [
    {
     "data": {
      "text/plain": [
       "TotalCharges                             0.196582\n",
       "tenure                                   0.177680\n",
       "MonthlyCharges                           0.159669\n",
       "Contract_Two year                        0.061960\n",
       "InternetService_Fiber optic              0.044862\n",
       "PaymentMethod_Electronic check           0.034106\n",
       "Contract_One year                        0.030677\n",
       "PaperlessBilling                         0.026855\n",
       "TechSupport_Yes                          0.025444\n",
       "OnlineSecurity_Yes                       0.023946\n",
       "Partner                                  0.023876\n",
       "OnlineBackup_Yes                         0.020396\n",
       "Dependents                               0.020295\n",
       "DeviceProtection_Yes                     0.018192\n",
       "MultipleLines_Yes                        0.018068\n",
       "StreamingMovies_Yes                      0.017220\n",
       "StreamingTV_Yes                          0.015469\n",
       "PaymentMethod_Credit card (automatic)    0.013886\n",
       "PaymentMethod_Mailed check               0.013018\n",
       "OnlineSecurity_No internet service       0.008939\n",
       "DeviceProtection_No internet service     0.008636\n",
       "OnlineBackup_No internet service         0.008464\n",
       "TechSupport_No internet service          0.007801\n",
       "StreamingMovies_No internet service      0.007171\n",
       "InternetService_No                       0.004550\n",
       "PhoneService                             0.004299\n",
       "MultipleLines_No phone service           0.003993\n",
       "StreamingTV_No internet service          0.003946\n",
       "SeniorCitizen                            0.000000\n",
       "gender                                   0.000000\n",
       "dtype: float64"
      ]
     },
     "execution_count": 258,
     "metadata": {},
     "output_type": "execute_result"
    }
   ],
   "source": [
    "vars_imp"
   ]
  },
  {
   "cell_type": "code",
   "execution_count": 259,
   "id": "cc5c7d7a-b786-4e24-995a-9899147c280f",
   "metadata": {},
   "outputs": [],
   "source": [
    "# Variables sélectionnées pour les algorithmes\n",
    "\n",
    "seuil = 0.004\n",
    "\n",
    "vars_selected = vars_imp[vars_imp > seuil].index.to_list()\n",
    "\n",
    "train_features = train_features[vars_selected]\n",
    "\n",
    "X_val = X_val[vars_selected]\n",
    "\n",
    "X_test = X_test[vars_selected]\n"
   ]
  },
  {
   "cell_type": "code",
   "execution_count": 260,
   "id": "9c944bc0-94e9-4ec4-8e76-c35951976719",
   "metadata": {},
   "outputs": [
    {
     "data": {
      "text/plain": [
       "26"
      ]
     },
     "execution_count": 260,
     "metadata": {},
     "output_type": "execute_result"
    }
   ],
   "source": [
    "len(train_features.columns)"
   ]
  },
  {
   "cell_type": "code",
   "execution_count": 261,
   "id": "9177c42a-1563-4c03-9129-23ceafbc9336",
   "metadata": {},
   "outputs": [
    {
     "data": {
      "text/html": [
       "<div>\n",
       "<style scoped>\n",
       "    .dataframe tbody tr th:only-of-type {\n",
       "        vertical-align: middle;\n",
       "    }\n",
       "\n",
       "    .dataframe tbody tr th {\n",
       "        vertical-align: top;\n",
       "    }\n",
       "\n",
       "    .dataframe thead th {\n",
       "        text-align: right;\n",
       "    }\n",
       "</style>\n",
       "<table border=\"1\" class=\"dataframe\">\n",
       "  <thead>\n",
       "    <tr style=\"text-align: right;\">\n",
       "      <th></th>\n",
       "      <th>TotalCharges</th>\n",
       "      <th>tenure</th>\n",
       "      <th>MonthlyCharges</th>\n",
       "      <th>Contract_Two year</th>\n",
       "      <th>InternetService_Fiber optic</th>\n",
       "      <th>PaymentMethod_Electronic check</th>\n",
       "      <th>Contract_One year</th>\n",
       "      <th>PaperlessBilling</th>\n",
       "      <th>TechSupport_Yes</th>\n",
       "      <th>OnlineSecurity_Yes</th>\n",
       "      <th>...</th>\n",
       "      <th>StreamingTV_Yes</th>\n",
       "      <th>PaymentMethod_Credit card (automatic)</th>\n",
       "      <th>PaymentMethod_Mailed check</th>\n",
       "      <th>OnlineSecurity_No internet service</th>\n",
       "      <th>DeviceProtection_No internet service</th>\n",
       "      <th>OnlineBackup_No internet service</th>\n",
       "      <th>TechSupport_No internet service</th>\n",
       "      <th>StreamingMovies_No internet service</th>\n",
       "      <th>InternetService_No</th>\n",
       "      <th>PhoneService</th>\n",
       "    </tr>\n",
       "  </thead>\n",
       "  <tbody>\n",
       "    <tr>\n",
       "      <th>0</th>\n",
       "      <td>0.796197</td>\n",
       "      <td>0.859155</td>\n",
       "      <td>0.711940</td>\n",
       "      <td>0.0</td>\n",
       "      <td>1.0</td>\n",
       "      <td>0.0</td>\n",
       "      <td>0.0</td>\n",
       "      <td>1.0</td>\n",
       "      <td>0.0</td>\n",
       "      <td>0.0</td>\n",
       "      <td>...</td>\n",
       "      <td>0.0</td>\n",
       "      <td>0.0</td>\n",
       "      <td>0.0</td>\n",
       "      <td>0.0</td>\n",
       "      <td>0.0</td>\n",
       "      <td>0.0</td>\n",
       "      <td>0.0</td>\n",
       "      <td>0.0</td>\n",
       "      <td>0.0</td>\n",
       "      <td>1.0</td>\n",
       "    </tr>\n",
       "    <tr>\n",
       "      <th>1</th>\n",
       "      <td>0.720274</td>\n",
       "      <td>0.830986</td>\n",
       "      <td>0.604975</td>\n",
       "      <td>0.0</td>\n",
       "      <td>0.0</td>\n",
       "      <td>0.0</td>\n",
       "      <td>0.0</td>\n",
       "      <td>1.0</td>\n",
       "      <td>1.0</td>\n",
       "      <td>1.0</td>\n",
       "      <td>...</td>\n",
       "      <td>1.0</td>\n",
       "      <td>1.0</td>\n",
       "      <td>0.0</td>\n",
       "      <td>0.0</td>\n",
       "      <td>0.0</td>\n",
       "      <td>0.0</td>\n",
       "      <td>0.0</td>\n",
       "      <td>0.0</td>\n",
       "      <td>0.0</td>\n",
       "      <td>1.0</td>\n",
       "    </tr>\n",
       "    <tr>\n",
       "      <th>2</th>\n",
       "      <td>0.765642</td>\n",
       "      <td>0.788732</td>\n",
       "      <td>0.718408</td>\n",
       "      <td>1.0</td>\n",
       "      <td>1.0</td>\n",
       "      <td>0.0</td>\n",
       "      <td>0.0</td>\n",
       "      <td>1.0</td>\n",
       "      <td>1.0</td>\n",
       "      <td>0.0</td>\n",
       "      <td>...</td>\n",
       "      <td>1.0</td>\n",
       "      <td>1.0</td>\n",
       "      <td>0.0</td>\n",
       "      <td>0.0</td>\n",
       "      <td>0.0</td>\n",
       "      <td>0.0</td>\n",
       "      <td>0.0</td>\n",
       "      <td>0.0</td>\n",
       "      <td>0.0</td>\n",
       "      <td>1.0</td>\n",
       "    </tr>\n",
       "    <tr>\n",
       "      <th>3</th>\n",
       "      <td>0.730326</td>\n",
       "      <td>0.816901</td>\n",
       "      <td>0.612935</td>\n",
       "      <td>0.0</td>\n",
       "      <td>0.0</td>\n",
       "      <td>0.0</td>\n",
       "      <td>1.0</td>\n",
       "      <td>0.0</td>\n",
       "      <td>1.0</td>\n",
       "      <td>1.0</td>\n",
       "      <td>...</td>\n",
       "      <td>0.0</td>\n",
       "      <td>1.0</td>\n",
       "      <td>0.0</td>\n",
       "      <td>0.0</td>\n",
       "      <td>0.0</td>\n",
       "      <td>0.0</td>\n",
       "      <td>0.0</td>\n",
       "      <td>0.0</td>\n",
       "      <td>0.0</td>\n",
       "      <td>1.0</td>\n",
       "    </tr>\n",
       "    <tr>\n",
       "      <th>4</th>\n",
       "      <td>0.600239</td>\n",
       "      <td>0.929577</td>\n",
       "      <td>0.309453</td>\n",
       "      <td>0.0</td>\n",
       "      <td>0.0</td>\n",
       "      <td>0.0</td>\n",
       "      <td>1.0</td>\n",
       "      <td>1.0</td>\n",
       "      <td>1.0</td>\n",
       "      <td>1.0</td>\n",
       "      <td>...</td>\n",
       "      <td>1.0</td>\n",
       "      <td>0.0</td>\n",
       "      <td>0.0</td>\n",
       "      <td>0.0</td>\n",
       "      <td>0.0</td>\n",
       "      <td>0.0</td>\n",
       "      <td>0.0</td>\n",
       "      <td>0.0</td>\n",
       "      <td>0.0</td>\n",
       "      <td>0.0</td>\n",
       "    </tr>\n",
       "  </tbody>\n",
       "</table>\n",
       "<p>5 rows × 26 columns</p>\n",
       "</div>"
      ],
      "text/plain": [
       "   TotalCharges    tenure  MonthlyCharges  Contract_Two year  \\\n",
       "0      0.796197  0.859155        0.711940                0.0   \n",
       "1      0.720274  0.830986        0.604975                0.0   \n",
       "2      0.765642  0.788732        0.718408                1.0   \n",
       "3      0.730326  0.816901        0.612935                0.0   \n",
       "4      0.600239  0.929577        0.309453                0.0   \n",
       "\n",
       "   InternetService_Fiber optic  PaymentMethod_Electronic check  \\\n",
       "0                          1.0                             0.0   \n",
       "1                          0.0                             0.0   \n",
       "2                          1.0                             0.0   \n",
       "3                          0.0                             0.0   \n",
       "4                          0.0                             0.0   \n",
       "\n",
       "   Contract_One year  PaperlessBilling  TechSupport_Yes  OnlineSecurity_Yes  \\\n",
       "0                0.0               1.0              0.0                 0.0   \n",
       "1                0.0               1.0              1.0                 1.0   \n",
       "2                0.0               1.0              1.0                 0.0   \n",
       "3                1.0               0.0              1.0                 1.0   \n",
       "4                1.0               1.0              1.0                 1.0   \n",
       "\n",
       "   ...  StreamingTV_Yes  PaymentMethod_Credit card (automatic)  \\\n",
       "0  ...              0.0                                    0.0   \n",
       "1  ...              1.0                                    1.0   \n",
       "2  ...              1.0                                    1.0   \n",
       "3  ...              0.0                                    1.0   \n",
       "4  ...              1.0                                    0.0   \n",
       "\n",
       "   PaymentMethod_Mailed check  OnlineSecurity_No internet service  \\\n",
       "0                         0.0                                 0.0   \n",
       "1                         0.0                                 0.0   \n",
       "2                         0.0                                 0.0   \n",
       "3                         0.0                                 0.0   \n",
       "4                         0.0                                 0.0   \n",
       "\n",
       "   DeviceProtection_No internet service  OnlineBackup_No internet service  \\\n",
       "0                                   0.0                               0.0   \n",
       "1                                   0.0                               0.0   \n",
       "2                                   0.0                               0.0   \n",
       "3                                   0.0                               0.0   \n",
       "4                                   0.0                               0.0   \n",
       "\n",
       "   TechSupport_No internet service  StreamingMovies_No internet service  \\\n",
       "0                              0.0                                  0.0   \n",
       "1                              0.0                                  0.0   \n",
       "2                              0.0                                  0.0   \n",
       "3                              0.0                                  0.0   \n",
       "4                              0.0                                  0.0   \n",
       "\n",
       "   InternetService_No  PhoneService  \n",
       "0                 0.0           1.0  \n",
       "1                 0.0           1.0  \n",
       "2                 0.0           1.0  \n",
       "3                 0.0           1.0  \n",
       "4                 0.0           0.0  \n",
       "\n",
       "[5 rows x 26 columns]"
      ]
     },
     "execution_count": 261,
     "metadata": {},
     "output_type": "execute_result"
    }
   ],
   "source": [
    "train_features.head()"
   ]
  },
  {
   "cell_type": "markdown",
   "id": "440f78c0-3f9f-4cf7-b9d3-1025e22a46bb",
   "metadata": {},
   "source": [
    "Notre objectif est de construire un modèle de classification qui prédit si un client va se désabonner ou non.\n",
    "\n",
    "Nous utiliserons différents algorithmes ([Logistic Regression](https://scikit-learn.org/stable/modules/generated/sklearn.linear_model.LogisticRegression.html), [Random Forest](https://scikit-learn.org/stable/modules/generated/sklearn.ensemble.RandomForestClassifier.html),\n",
    "[Gradient Boosting](https://scikit-learn.org/stable/modules/generated/sklearn.ensemble.GradientBoostingClassifier.html),\n",
    "[Classificateur Perceptron Multicouche](https://scikit-learn.org/stable/modules/neural_networks_supervised.html#multi-layer-perceptron),\n",
    "[Support Vector Machine](https://scikit-learn.org/stable/modules/generated/sklearn.svm.SVC.html) afin de comparer leurs performances et de choisir le meilleur modèle"
   ]
  },
  {
   "cell_type": "markdown",
   "id": "a3ece204-5369-4e16-8f06-40f7e42e7611",
   "metadata": {},
   "source": [
    "<a name=\"MRG\"></a>\n",
    "[Modèle de Régression Logistic](#MRG)"
   ]
  },
  {
   "cell_type": "code",
   "execution_count": 264,
   "id": "447c43c0-bb2d-4adf-bbd9-738d76df893c",
   "metadata": {},
   "outputs": [
    {
     "name": "stdout",
     "output_type": "stream",
     "text": [
      "0.775\n",
      "LogisticRegression(C=1, max_iter=500, random_state=123)\n"
     ]
    }
   ],
   "source": [
    "# Dictionnaire des hyperparamètres\n",
    "\n",
    "param_grid = {'C':[0.001, 0.01, 1, 10, 50, 100, 500]}\n",
    "\n",
    "# Object GridSearchCV\n",
    "\n",
    "grid_logreg_class = GridSearchCV(estimator = LogisticRegression(random_state = seed, max_iter = 500), \n",
    "                                                                param_grid = param_grid, scoring = 'f1', cv = 5)\n",
    "\n",
    "# Entrainement de l'algorithme\n",
    "\n",
    "logreg_model = grid_logreg_class.fit(train_features, train_labels)\n",
    "\n",
    "# Meilleur score et meilleur hyperparamètre\n",
    "\n",
    "print(round(logreg_model.best_score_,3))\n",
    "\n",
    "print(logreg_model.best_estimator_)"
   ]
  },
  {
   "cell_type": "code",
   "execution_count": 266,
   "id": "10c4245d-3e46-48b3-86c6-141db02aefd3",
   "metadata": {},
   "outputs": [],
   "source": [
    "# Fonction d'évaluation de la performance d'un modèle\n",
    "\n",
    "def model_evaluation(model, features, labels):\n",
    "    pred = model.predict(features)\n",
    "    print(classification_report(labels, pred))\n",
    "    "
   ]
  },
  {
   "cell_type": "code",
   "execution_count": 268,
   "id": "a2817690-ba7f-4806-9239-1603e055596f",
   "metadata": {},
   "outputs": [
    {
     "name": "stdout",
     "output_type": "stream",
     "text": [
      "              precision    recall  f1-score   support\n",
      "\n",
      "           0       0.90      0.75      0.82      1032\n",
      "           1       0.53      0.78      0.63       374\n",
      "\n",
      "    accuracy                           0.75      1406\n",
      "   macro avg       0.71      0.76      0.72      1406\n",
      "weighted avg       0.80      0.75      0.77      1406\n",
      "\n"
     ]
    }
   ],
   "source": [
    "model_evaluation(logreg_model, X_val, y_val)"
   ]
  },
  {
   "cell_type": "markdown",
   "id": "158c8852-c486-44e7-be81-699cb1418af6",
   "metadata": {},
   "source": [
    "Appliquons l'algorithme [Recursive Feature Eliminator](https://scikit-learn.org/stable/modules/generated/sklearn.feature_selection.RFE.html) (RFE) sur le modèle afin de voir s'il garde les mêmes performances lorsqu'on réduit le nombre de prédicteurs. En effet, plus le modèle est complexe, plus il est difficile de l'interpréter."
   ]
  },
  {
   "cell_type": "code",
   "execution_count": 271,
   "id": "bd541d91-d32d-4ef9-906b-0d12d207d382",
   "metadata": {},
   "outputs": [],
   "source": [
    "# Création de la fonction de construction d'un modèle avec utilisation de l'algorithme RFE\n",
    "\n",
    "def model_with_rfe(model):\n",
    "    rfe_model = RFE(estimator = model, verbose = 0)\n",
    "    rfe_model.fit(train_features, train_labels)\n",
    "    mask = rfe_model.support_\n",
    "    reduced_X = train_features.loc[:,mask]\n",
    "    print(reduced_X.columns)\n",
    "    return rfe_model\n"
   ]
  },
  {
   "cell_type": "code",
   "execution_count": 277,
   "id": "4a83f447-eea3-4480-9539-5685e86ecb4e",
   "metadata": {},
   "outputs": [
    {
     "name": "stdout",
     "output_type": "stream",
     "text": [
      "Index(['TotalCharges', 'tenure', 'MonthlyCharges', 'Contract_Two year',\n",
      "       'InternetService_Fiber optic', 'PaymentMethod_Electronic check',\n",
      "       'Contract_One year', 'PaperlessBilling', 'TechSupport_Yes',\n",
      "       'OnlineSecurity_Yes', 'StreamingTV_Yes', 'InternetService_No',\n",
      "       'PhoneService'],\n",
      "      dtype='object')\n"
     ]
    },
    {
     "data": {
      "text/plain": [
       "RFE(estimator=LogisticRegression(C=1, max_iter=500, random_state=123))"
      ]
     },
     "execution_count": 277,
     "metadata": {},
     "output_type": "execute_result"
    }
   ],
   "source": [
    "# LogisticRegression RFE\n",
    "\n",
    "rfe_logreg_model = model_with_rfe(logreg_model.best_estimator_)\n",
    "rfe_logreg_model"
   ]
  },
  {
   "cell_type": "code",
   "execution_count": 273,
   "id": "3c83090d-a18c-413f-9dc0-a8058f6b9c93",
   "metadata": {},
   "outputs": [
    {
     "name": "stdout",
     "output_type": "stream",
     "text": [
      "              precision    recall  f1-score   support\n",
      "\n",
      "           0       0.90      0.75      0.82      1032\n",
      "           1       0.53      0.78      0.63       374\n",
      "\n",
      "    accuracy                           0.75      1406\n",
      "   macro avg       0.71      0.76      0.72      1406\n",
      "weighted avg       0.80      0.75      0.77      1406\n",
      "\n"
     ]
    }
   ],
   "source": [
    "# Evaluation du modèle de régression logistique avec RFE\n",
    "\n",
    "model_evaluation(rfe_logreg_model, X_val, y_val)"
   ]
  },
  {
   "cell_type": "markdown",
   "id": "93582921-7b3b-4b51-8ed2-86d2db441376",
   "metadata": {},
   "source": [
    "Après réduction des variables, le modèle ne s'est pas amélioré."
   ]
  },
  {
   "cell_type": "markdown",
   "id": "619b7830-3762-450d-9105-2e76e682969e",
   "metadata": {},
   "source": [
    "<a name=\"MFA\"></a>\n",
    "[Modèle de Forêt Aléatoire](#MFA)"
   ]
  },
  {
   "cell_type": "code",
   "execution_count": 279,
   "id": "4f9953d2-b0e2-45ef-8b23-0a24ead2806d",
   "metadata": {},
   "outputs": [
    {
     "name": "stdout",
     "output_type": "stream",
     "text": [
      "0.909\n",
      "RandomForestClassifier(max_depth=20, n_estimators=1000, random_state=123)\n"
     ]
    }
   ],
   "source": [
    "# Dictionnaire des hyperparamètres\n",
    "\n",
    "param_grid_rf = {'n_estimators':[10, 50, 100, 500, 1000],\n",
    "                 'max_depth':[3, 5, 10, 20, None]}\n",
    "\n",
    "# Object GridSearchCV\n",
    "\n",
    "grid_rf_class = GridSearchCV(estimator = RandomForestClassifier(random_state = seed), \n",
    "                                                                param_grid = param_grid_rf, scoring = 'f1', cv = 5)\n",
    "\n",
    "# Entrainement de l'algorithme\n",
    "\n",
    "rf_model = grid_rf_class.fit(train_features, train_labels)\n",
    "\n",
    "# Meilleur score et meilleur hyperparamètre\n",
    "\n",
    "print(round(rf_model.best_score_,3))\n",
    "\n",
    "print(rf_model.best_estimator_)"
   ]
  },
  {
   "cell_type": "code",
   "execution_count": 280,
   "id": "43c8a737-c650-42f4-8559-bcb0297157c3",
   "metadata": {},
   "outputs": [
    {
     "name": "stdout",
     "output_type": "stream",
     "text": [
      "              precision    recall  f1-score   support\n",
      "\n",
      "           0       0.85      0.86      0.86      1032\n",
      "           1       0.60      0.60      0.60       374\n",
      "\n",
      "    accuracy                           0.79      1406\n",
      "   macro avg       0.73      0.73      0.73      1406\n",
      "weighted avg       0.79      0.79      0.79      1406\n",
      "\n"
     ]
    }
   ],
   "source": [
    "model_evaluation(rf_model.best_estimator_, X_val, y_val)"
   ]
  },
  {
   "cell_type": "code",
   "execution_count": 281,
   "id": "de96a416-76be-4eb2-a044-3f0b09510ab1",
   "metadata": {},
   "outputs": [
    {
     "name": "stdout",
     "output_type": "stream",
     "text": [
      "Index(['TotalCharges', 'tenure', 'MonthlyCharges', 'Contract_Two year',\n",
      "       'InternetService_Fiber optic', 'PaymentMethod_Electronic check',\n",
      "       'Contract_One year', 'PaperlessBilling', 'TechSupport_Yes',\n",
      "       'OnlineSecurity_Yes', 'Partner', 'OnlineBackup_Yes',\n",
      "       'OnlineSecurity_No internet service'],\n",
      "      dtype='object')\n"
     ]
    },
    {
     "data": {
      "text/plain": [
       "RFE(estimator=RandomForestClassifier(max_depth=20, n_estimators=1000,\n",
       "                                     random_state=123))"
      ]
     },
     "execution_count": 281,
     "metadata": {},
     "output_type": "execute_result"
    }
   ],
   "source": [
    "# RandomForest RFE\n",
    "\n",
    "rfe_forest_model = model_with_rfe(rf_model.best_estimator_)\n",
    "rfe_forest_model"
   ]
  },
  {
   "cell_type": "code",
   "execution_count": 282,
   "id": "c669a3af-10ab-4d3f-9fcd-5bf2c7ce1cfb",
   "metadata": {},
   "outputs": [
    {
     "name": "stdout",
     "output_type": "stream",
     "text": [
      "              precision    recall  f1-score   support\n",
      "\n",
      "           0       0.85      0.85      0.85      1032\n",
      "           1       0.58      0.60      0.59       374\n",
      "\n",
      "    accuracy                           0.78      1406\n",
      "   macro avg       0.72      0.72      0.72      1406\n",
      "weighted avg       0.78      0.78      0.78      1406\n",
      "\n"
     ]
    }
   ],
   "source": [
    "model_evaluation(rfe_forest_model, X_val, y_val)"
   ]
  },
  {
   "cell_type": "markdown",
   "id": "e74a5fd5-b994-4844-8641-97fb98f1d9bf",
   "metadata": {},
   "source": [
    "<a name=\"CPM\"></a>\n",
    "[Classificateur Perceptron Multicouche](#CPM)"
   ]
  },
  {
   "cell_type": "code",
   "execution_count": 283,
   "id": "15222847-1efa-435f-9a58-21f00e963968",
   "metadata": {},
   "outputs": [
    {
     "data": {
      "text/plain": [
       "GridSearchCV(cv=5, estimator=MLPClassifier(max_iter=1000, random_state=123),\n",
       "             n_jobs=-1,\n",
       "             param_grid={'hidden_layer_sizes': [(50,), (100,), (200,)],\n",
       "                         'learning_rate': ['constant', 'invscaling',\n",
       "                                           'adaptive']},\n",
       "             scoring='f1')"
      ]
     },
     "execution_count": 283,
     "metadata": {},
     "output_type": "execute_result"
    }
   ],
   "source": [
    "mlp = MLPClassifier(random_state = seed, max_iter = 1000)\n",
    "\n",
    "parameters = {'hidden_layer_sizes':[(50,), (100,), (200,)],\n",
    "              #'activation':['identity','logistic', 'tanh', 'relu'],\n",
    "              'learning_rate':['constant', 'invscaling', 'adaptive']}\n",
    "\n",
    "mlp_cv = GridSearchCV(mlp, parameters, scoring = 'f1', cv = 5, n_jobs=-1)\n",
    "\n",
    "mlp_cv.fit(train_features, train_labels)\n"
   ]
  },
  {
   "cell_type": "code",
   "execution_count": 284,
   "id": "b370c870-ba5b-4f20-9e5e-f85e47e8b440",
   "metadata": {},
   "outputs": [
    {
     "data": {
      "text/plain": [
       "0.856"
      ]
     },
     "execution_count": 284,
     "metadata": {},
     "output_type": "execute_result"
    }
   ],
   "source": [
    "round(mlp_cv.best_score_, 3)"
   ]
  },
  {
   "cell_type": "code",
   "execution_count": 285,
   "id": "d6cfcb2e-5ff6-4ed0-a5b9-c86809a70de6",
   "metadata": {},
   "outputs": [
    {
     "data": {
      "text/plain": [
       "MLPClassifier(hidden_layer_sizes=(200,), max_iter=1000, random_state=123)"
      ]
     },
     "execution_count": 285,
     "metadata": {},
     "output_type": "execute_result"
    }
   ],
   "source": [
    "mlp_cv.best_estimator_"
   ]
  },
  {
   "cell_type": "code",
   "execution_count": 286,
   "id": "5f48fd6d-6dd8-4757-8888-7fb779e8337a",
   "metadata": {},
   "outputs": [
    {
     "name": "stdout",
     "output_type": "stream",
     "text": [
      "              precision    recall  f1-score   support\n",
      "\n",
      "           0       0.85      0.81      0.83      1032\n",
      "           1       0.54      0.61      0.58       374\n",
      "\n",
      "    accuracy                           0.76      1406\n",
      "   macro avg       0.70      0.71      0.70      1406\n",
      "weighted avg       0.77      0.76      0.76      1406\n",
      "\n"
     ]
    }
   ],
   "source": [
    "model_evaluation(mlp_cv.best_estimator_, X_val, y_val)"
   ]
  },
  {
   "cell_type": "markdown",
   "id": "aab0c8ee-9e7b-4203-8737-cb684538f64d",
   "metadata": {},
   "source": [
    "<a name=\"SVM\"></a>\n",
    "[Support Vector Machine](#SVM)\n"
   ]
  },
  {
   "cell_type": "code",
   "execution_count": 287,
   "id": "d425d90b-e4ce-4827-8834-6b1474b00ba5",
   "metadata": {},
   "outputs": [
    {
     "name": "stdout",
     "output_type": "stream",
     "text": [
      "0.855\n",
      "SVC(C=100, random_state=123)\n"
     ]
    }
   ],
   "source": [
    "svm_model = SVC(random_state = seed)\n",
    "\n",
    "svm_hyp = {'kernel':['linear', 'rbf'],\n",
    "          'C':[0.1, 1.0, 10, 50, 100]}\n",
    "\n",
    "svm_cv = GridSearchCV(svm_model, svm_hyp, scoring='f1', cv =5)\n",
    "\n",
    "svm_cv.fit(train_features, train_labels)\n",
    "\n",
    "print(round(svm_cv.best_score_, 3))\n",
    "print(svm_cv.best_estimator_)"
   ]
  },
  {
   "cell_type": "code",
   "execution_count": 289,
   "id": "e8c8baad-95a5-403b-a03a-efd47b50bc90",
   "metadata": {},
   "outputs": [
    {
     "name": "stdout",
     "output_type": "stream",
     "text": [
      "              precision    recall  f1-score   support\n",
      "\n",
      "           0       0.86      0.76      0.80      1032\n",
      "           1       0.49      0.65      0.56       374\n",
      "\n",
      "    accuracy                           0.73      1406\n",
      "   macro avg       0.68      0.70      0.68      1406\n",
      "weighted avg       0.76      0.73      0.74      1406\n",
      "\n"
     ]
    }
   ],
   "source": [
    "model_evaluation(svm_cv.best_estimator_, X_val, y_val)"
   ]
  },
  {
   "cell_type": "markdown",
   "id": "c0409afe-b57a-4d8b-9b5f-2f9cb587ec0b",
   "metadata": {},
   "source": [
    "<a name=\"Concl\"></a>\n",
    "[Conclusion](#Concl)\n",
    "\n",
    "Nous avons utilisé les données, d'évaluation pour sélectionner le meilleur modèle.\n",
    "\n",
    "Evaluons le meilleur modèle sur les données de test afin d'apprécier sa performance sur de nouvelles données"
   ]
  },
  {
   "cell_type": "code",
   "execution_count": 293,
   "id": "8ed429aa-0784-401c-ae89-70f7a9b7c19e",
   "metadata": {},
   "outputs": [
    {
     "name": "stdout",
     "output_type": "stream",
     "text": [
      "              precision    recall  f1-score   support\n",
      "\n",
      "           0       0.91      0.77      0.83      1033\n",
      "           1       0.55      0.78      0.64       374\n",
      "\n",
      "    accuracy                           0.77      1407\n",
      "   macro avg       0.73      0.77      0.74      1407\n",
      "weighted avg       0.81      0.77      0.78      1407\n",
      "\n"
     ]
    }
   ],
   "source": [
    "# Performance du meilleur modèle sur les données de test\n",
    "\n",
    "model_evaluation(logreg_model.best_estimator_, X_test, y_test)"
   ]
  },
  {
   "cell_type": "markdown",
   "id": "701eb1bc-66a1-48bd-853a-e77bc82470a5",
   "metadata": {},
   "source": [
    "![image](images/marketing-direct.jpg)"
   ]
  },
  {
   "cell_type": "code",
   "execution_count": 294,
   "id": "a400f93b-97fe-4027-8eff-965c3b89ee7a",
   "metadata": {},
   "outputs": [],
   "source": [
    "# Fin du projet"
   ]
  }
 ],
 "metadata": {
  "kernelspec": {
   "display_name": "Python 3 (ipykernel)",
   "language": "python",
   "name": "python3"
  },
  "language_info": {
   "codemirror_mode": {
    "name": "ipython",
    "version": 3
   },
   "file_extension": ".py",
   "mimetype": "text/x-python",
   "name": "python",
   "nbconvert_exporter": "python",
   "pygments_lexer": "ipython3",
   "version": "3.10.8"
  }
 },
 "nbformat": 4,
 "nbformat_minor": 5
}
